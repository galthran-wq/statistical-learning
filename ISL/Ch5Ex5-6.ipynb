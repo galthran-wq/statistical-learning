{
 "cells": [
  {
   "cell_type": "code",
   "execution_count": 1,
   "id": "c499e558",
   "metadata": {},
   "outputs": [],
   "source": [
    "# %load ../standard_import.txt\n",
    "import pandas as pd\n",
    "import numpy as np\n",
    "import matplotlib as mpl\n",
    "import matplotlib.pyplot as plt\n",
    "import seaborn as sns\n",
    "\n",
    "import sklearn.linear_model as skl_lm\n",
    "from sklearn.discriminant_analysis import LinearDiscriminantAnalysis\n",
    "from sklearn.discriminant_analysis import QuadraticDiscriminantAnalysis\n",
    "from sklearn.metrics import confusion_matrix, classification_report, precision_score\n",
    "from sklearn import preprocessing\n",
    "from sklearn import neighbors\n",
    "\n",
    "import statsmodels.api as sm\n",
    "import statsmodels.formula.api as smf\n",
    "\n",
    "%matplotlib inline\n",
    "plt.style.use('seaborn-white')"
   ]
  },
  {
   "cell_type": "code",
   "execution_count": 6,
   "id": "2eeab66a",
   "metadata": {},
   "outputs": [
    {
     "name": "stderr",
     "output_type": "stream",
     "text": [
      "C:\\Users\\леопольд\\AppData\\Local\\Packages\\PythonSoftwareFoundation.Python.3.10_qbz5n2kfra8p0\\LocalCache\\local-packages\\Python310\\site-packages\\openpyxl\\styles\\stylesheet.py:226: UserWarning: Workbook contains no default style, apply openpyxl's default\n",
      "  warn(\"Workbook contains no default style, apply openpyxl's default\")\n"
     ]
    },
    {
     "name": "stdout",
     "output_type": "stream",
     "text": [
      "(10000, 4)\n"
     ]
    },
    {
     "data": {
      "text/html": [
       "<div>\n",
       "<style scoped>\n",
       "    .dataframe tbody tr th:only-of-type {\n",
       "        vertical-align: middle;\n",
       "    }\n",
       "\n",
       "    .dataframe tbody tr th {\n",
       "        vertical-align: top;\n",
       "    }\n",
       "\n",
       "    .dataframe thead th {\n",
       "        text-align: right;\n",
       "    }\n",
       "</style>\n",
       "<table border=\"1\" class=\"dataframe\">\n",
       "  <thead>\n",
       "    <tr style=\"text-align: right;\">\n",
       "      <th></th>\n",
       "      <th>default</th>\n",
       "      <th>student</th>\n",
       "      <th>balance</th>\n",
       "      <th>income</th>\n",
       "    </tr>\n",
       "  </thead>\n",
       "  <tbody>\n",
       "    <tr>\n",
       "      <th>0</th>\n",
       "      <td>No</td>\n",
       "      <td>No</td>\n",
       "      <td>729.526495</td>\n",
       "      <td>44361.625074</td>\n",
       "    </tr>\n",
       "    <tr>\n",
       "      <th>1</th>\n",
       "      <td>No</td>\n",
       "      <td>Yes</td>\n",
       "      <td>817.180407</td>\n",
       "      <td>12106.134700</td>\n",
       "    </tr>\n",
       "    <tr>\n",
       "      <th>2</th>\n",
       "      <td>No</td>\n",
       "      <td>No</td>\n",
       "      <td>1073.549164</td>\n",
       "      <td>31767.138947</td>\n",
       "    </tr>\n",
       "    <tr>\n",
       "      <th>3</th>\n",
       "      <td>No</td>\n",
       "      <td>No</td>\n",
       "      <td>529.250605</td>\n",
       "      <td>35704.493935</td>\n",
       "    </tr>\n",
       "    <tr>\n",
       "      <th>4</th>\n",
       "      <td>No</td>\n",
       "      <td>No</td>\n",
       "      <td>785.655883</td>\n",
       "      <td>38463.495879</td>\n",
       "    </tr>\n",
       "  </tbody>\n",
       "</table>\n",
       "</div>"
      ],
      "text/plain": [
       "  default student      balance        income\n",
       "0      No      No   729.526495  44361.625074\n",
       "1      No     Yes   817.180407  12106.134700\n",
       "2      No      No  1073.549164  31767.138947\n",
       "3      No      No   529.250605  35704.493935\n",
       "4      No      No   785.655883  38463.495879"
      ]
     },
     "execution_count": 6,
     "metadata": {},
     "output_type": "execute_result"
    }
   ],
   "source": [
    "df = pd.read_excel('Data/Default.xlsx')\n",
    "df.drop(columns=df.columns[0], inplace=True)\n",
    "print(df.shape)\n",
    "df.head()"
   ]
  },
  {
   "cell_type": "code",
   "execution_count": 14,
   "id": "685b5ea9",
   "metadata": {},
   "outputs": [
    {
     "data": {
      "text/html": [
       "<div>\n",
       "<style scoped>\n",
       "    .dataframe tbody tr th:only-of-type {\n",
       "        vertical-align: middle;\n",
       "    }\n",
       "\n",
       "    .dataframe tbody tr th {\n",
       "        vertical-align: top;\n",
       "    }\n",
       "\n",
       "    .dataframe thead th {\n",
       "        text-align: right;\n",
       "    }\n",
       "</style>\n",
       "<table border=\"1\" class=\"dataframe\">\n",
       "  <thead>\n",
       "    <tr style=\"text-align: right;\">\n",
       "      <th></th>\n",
       "      <th>default</th>\n",
       "      <th>student</th>\n",
       "      <th>balance</th>\n",
       "      <th>income</th>\n",
       "    </tr>\n",
       "  </thead>\n",
       "  <tbody>\n",
       "    <tr>\n",
       "      <th>0</th>\n",
       "      <td>0</td>\n",
       "      <td>0</td>\n",
       "      <td>729.526495</td>\n",
       "      <td>44361.625074</td>\n",
       "    </tr>\n",
       "    <tr>\n",
       "      <th>1</th>\n",
       "      <td>0</td>\n",
       "      <td>1</td>\n",
       "      <td>817.180407</td>\n",
       "      <td>12106.134700</td>\n",
       "    </tr>\n",
       "    <tr>\n",
       "      <th>2</th>\n",
       "      <td>0</td>\n",
       "      <td>0</td>\n",
       "      <td>1073.549164</td>\n",
       "      <td>31767.138947</td>\n",
       "    </tr>\n",
       "    <tr>\n",
       "      <th>3</th>\n",
       "      <td>0</td>\n",
       "      <td>0</td>\n",
       "      <td>529.250605</td>\n",
       "      <td>35704.493935</td>\n",
       "    </tr>\n",
       "    <tr>\n",
       "      <th>4</th>\n",
       "      <td>0</td>\n",
       "      <td>0</td>\n",
       "      <td>785.655883</td>\n",
       "      <td>38463.495879</td>\n",
       "    </tr>\n",
       "  </tbody>\n",
       "</table>\n",
       "</div>"
      ],
      "text/plain": [
       "   default  student      balance        income\n",
       "0        0        0   729.526495  44361.625074\n",
       "1        0        1   817.180407  12106.134700\n",
       "2        0        0  1073.549164  31767.138947\n",
       "3        0        0   529.250605  35704.493935\n",
       "4        0        0   785.655883  38463.495879"
      ]
     },
     "execution_count": 14,
     "metadata": {},
     "output_type": "execute_result"
    }
   ],
   "source": [
    "df.replace({\"Yes\": 1, \"No\": 0}, inplace=True)\n",
    "df.head()"
   ]
  },
  {
   "cell_type": "code",
   "execution_count": 54,
   "id": "84940868",
   "metadata": {},
   "outputs": [],
   "source": [
    "from sklearn.model_selection import train_test_split\n",
    "\n",
    "def split_df(random_state=42):\n",
    "    df_train, df_test = train_test_split(\n",
    "        df, test_size=0.2, \n",
    "        stratify=df[[\"default\", \"student\"]],\n",
    "        shuffle=True,\n",
    "        random_state=random_state\n",
    "    )\n",
    "    X_train = df_train.drop(columns=\"default\")\n",
    "    X_test = df_test.drop(columns=\"default\")\n",
    "    y_train = df_train[\"default\"]\n",
    "    y_test = df_test[\"default\"]\n",
    "    return X_train, X_test, y_train, y_test\n",
    "\n",
    "# for col in [\"default\", \"student\"]:\n",
    "#     print(\n",
    "#         \"Train proportion of \" + col + \"s: \", \n",
    "#         df_train[col].mean(), \"\\n\",\n",
    "#         \"Test proportion of \" + col + \"s: \", \n",
    "#         df_test[col].mean(), \"\\n\",\n",
    "#     )"
   ]
  },
  {
   "cell_type": "markdown",
   "id": "e177be94",
   "metadata": {},
   "source": [
    "### Using `income` and `balance`"
   ]
  },
  {
   "cell_type": "code",
   "execution_count": null,
   "id": "2f526087",
   "metadata": {},
   "outputs": [],
   "source": [
    "from sklearn.linear_model import LogisticRegression\n",
    "from sklearn.metrics import zero_one_loss\n",
    "\n",
    "res=[]\n",
    "\n",
    "for X_train, X_test, y_train, y_test in [split_df(i) for i in range(100)]:\n",
    "    logit = LogisticRegression().fit(X_train[[\"income\", \"balance\"]], y_train)\n",
    "    pred_test = logit.predict(X_test[[\"income\", \"balance\"]])\n",
    "    error_rate = zero_one_loss(y_test, pred_test)\n",
    "#     print(\"Test error rate:\", error_rate)\n",
    "    res.append(error_rate)\n",
    "    \n",
    "plt.plot(np.arange(1, len(res)+1), res)\n",
    "plt.gca().set_xlabel(\"split\")\n",
    "plt.gca().set_ylabel(\"error rate\")"
   ]
  },
  {
   "cell_type": "markdown",
   "id": "728ab528",
   "metadata": {},
   "source": [
    "Conclusion: test error differs depending on the particular choice of the train/validation partition. </br>\n",
    "(test set here really refers to the validation set) </br></br>\n",
    "Though this is true, it doesn't affect the model selection process, since different partitions tend to agree on their argmin value (where minimization is w.r.t to all candidate models) (Figure 5.2 on p.200)"
   ]
  },
  {
   "cell_type": "code",
   "execution_count": 73,
   "id": "4e9f880b",
   "metadata": {},
   "outputs": [],
   "source": [
    "# corresponds to the 42 (default) train test split\n",
    "test_error = res[42]"
   ]
  },
  {
   "cell_type": "markdown",
   "id": "94dadd46",
   "metadata": {},
   "source": [
    "### Adding `student`"
   ]
  },
  {
   "cell_type": "code",
   "execution_count": 74,
   "id": "5aceb8e8",
   "metadata": {},
   "outputs": [
    {
     "data": {
      "text/plain": [
       "(0.027000000000000024, 0.02749999999999997)"
      ]
     },
     "execution_count": 74,
     "metadata": {},
     "output_type": "execute_result"
    }
   ],
   "source": [
    "X_train, X_test, y_train, y_test = split_df()\n",
    "logit = LogisticRegression().fit(X_train, y_train)\n",
    "pred_test = logit.predict(X_test)\n",
    "test_error_student = zero_one_loss(y_test, pred_test)\n",
    "\n",
    "test_error, test_error_student"
   ]
  },
  {
   "cell_type": "markdown",
   "id": "3c0ab10c",
   "metadata": {},
   "source": [
    "Conclusion: the test error for the logit model with `student` is higher, so the model is not preferable."
   ]
  },
  {
   "cell_type": "markdown",
   "id": "ddf7789c",
   "metadata": {},
   "source": [
    "### Bootstraping the estimates\n",
    "In particular the SD of the coefficients of our Logit model. </br>\n",
    "We'll compare those to the theoretically obtained (the ones which rely on several assumptions)"
   ]
  },
  {
   "cell_type": "code",
   "execution_count": 75,
   "id": "1851c32e",
   "metadata": {},
   "outputs": [],
   "source": [
    "X_train.drop(columns=\"student\", inplace=True)\n",
    "X_test.drop(columns=\"student\", inplace=True)"
   ]
  },
  {
   "cell_type": "code",
   "execution_count": 103,
   "id": "0cd9901e",
   "metadata": {},
   "outputs": [
    {
     "name": "stdout",
     "output_type": "stream",
     "text": [
      "Optimization terminated successfully.\n",
      "         Current function value: 0.174151\n",
      "         Iterations 8\n"
     ]
    },
    {
     "data": {
      "text/html": [
       "<table class=\"simpletable\">\n",
       "<caption>Logit Regression Results</caption>\n",
       "<tr>\n",
       "  <th>Dep. Variable:</th>        <td>default</td>     <th>  No. Observations:  </th>  <td>  8000</td> \n",
       "</tr>\n",
       "<tr>\n",
       "  <th>Model:</th>                 <td>Logit</td>      <th>  Df Residuals:      </th>  <td>  7998</td> \n",
       "</tr>\n",
       "<tr>\n",
       "  <th>Method:</th>                 <td>MLE</td>       <th>  Df Model:          </th>  <td>     1</td> \n",
       "</tr>\n",
       "<tr>\n",
       "  <th>Date:</th>            <td>Mon, 05 Sep 2022</td> <th>  Pseudo R-squ.:     </th>  <td>-0.1905</td>\n",
       "</tr>\n",
       "<tr>\n",
       "  <th>Time:</th>                <td>15:41:01</td>     <th>  Log-Likelihood:    </th> <td> -1393.2</td>\n",
       "</tr>\n",
       "<tr>\n",
       "  <th>converged:</th>             <td>True</td>       <th>  LL-Null:           </th> <td> -1170.3</td>\n",
       "</tr>\n",
       "<tr>\n",
       "  <th>Covariance Type:</th>     <td>nonrobust</td>    <th>  LLR p-value:       </th>  <td> 1.000</td> \n",
       "</tr>\n",
       "</table>\n",
       "<table class=\"simpletable\">\n",
       "<tr>\n",
       "     <td></td>        <th>coef</th>     <th>std err</th>      <th>z</th>      <th>P>|z|</th>  <th>[0.025</th>    <th>0.975]</th>  \n",
       "</tr>\n",
       "<tr>\n",
       "  <th>balance</th> <td>    0.0004</td> <td> 7.84e-05</td> <td>    5.204</td> <td> 0.000</td> <td>    0.000</td> <td>    0.001</td>\n",
       "</tr>\n",
       "<tr>\n",
       "  <th>income</th>  <td>   -0.0001</td> <td> 4.12e-06</td> <td>  -30.498</td> <td> 0.000</td> <td>   -0.000</td> <td>   -0.000</td>\n",
       "</tr>\n",
       "</table>"
      ],
      "text/plain": [
       "<class 'statsmodels.iolib.summary.Summary'>\n",
       "\"\"\"\n",
       "                           Logit Regression Results                           \n",
       "==============================================================================\n",
       "Dep. Variable:                default   No. Observations:                 8000\n",
       "Model:                          Logit   Df Residuals:                     7998\n",
       "Method:                           MLE   Df Model:                            1\n",
       "Date:                Mon, 05 Sep 2022   Pseudo R-squ.:                 -0.1905\n",
       "Time:                        15:41:01   Log-Likelihood:                -1393.2\n",
       "converged:                       True   LL-Null:                       -1170.3\n",
       "Covariance Type:            nonrobust   LLR p-value:                     1.000\n",
       "==============================================================================\n",
       "                 coef    std err          z      P>|z|      [0.025      0.975]\n",
       "------------------------------------------------------------------------------\n",
       "balance        0.0004   7.84e-05      5.204      0.000       0.000       0.001\n",
       "income        -0.0001   4.12e-06    -30.498      0.000      -0.000      -0.000\n",
       "==============================================================================\n",
       "\"\"\""
      ]
     },
     "execution_count": 103,
     "metadata": {},
     "output_type": "execute_result"
    }
   ],
   "source": [
    "logit_sm = sm.Logit(y_train, X_train).fit()\n",
    "logit_sm.summary()"
   ]
  },
  {
   "cell_type": "code",
   "execution_count": 114,
   "id": "c368972e",
   "metadata": {},
   "outputs": [],
   "source": [
    "B = 100\n",
    "logit = LogisticRegression()\n",
    "\n",
    "coeffs = pd.DataFrame(np.zeros((B, 3)), columns=[\"balance\", \"income\", \"intercept\"])\n",
    "for k in range(B):\n",
    "    # resample\n",
    "    index_resamp_k = np.random.choice(X_train.index, size=X_train.shape[0])\n",
    "    X_train_resamp_k = X_train.loc[index_resamp_k, :]\n",
    "    y_train_resamp_k = y_train.loc[index_resamp_k]\n",
    "    logit.fit(X_train_resamp_k, y_train_resamp_k)\n",
    "    coeffs.loc[k, :] = np.r_[logit.coef_.ravel(), logit.intercept_]"
   ]
  },
  {
   "cell_type": "code",
   "execution_count": 115,
   "id": "b2f59bed",
   "metadata": {},
   "outputs": [
    {
     "data": {
      "text/html": [
       "<div>\n",
       "<style scoped>\n",
       "    .dataframe tbody tr th:only-of-type {\n",
       "        vertical-align: middle;\n",
       "    }\n",
       "\n",
       "    .dataframe tbody tr th {\n",
       "        vertical-align: top;\n",
       "    }\n",
       "\n",
       "    .dataframe thead th {\n",
       "        text-align: right;\n",
       "    }\n",
       "</style>\n",
       "<table border=\"1\" class=\"dataframe\">\n",
       "  <thead>\n",
       "    <tr style=\"text-align: right;\">\n",
       "      <th></th>\n",
       "      <th>balance</th>\n",
       "      <th>income</th>\n",
       "      <th>intercept</th>\n",
       "    </tr>\n",
       "  </thead>\n",
       "  <tbody>\n",
       "    <tr>\n",
       "      <th>mean</th>\n",
       "      <td>0.002745</td>\n",
       "      <td>-0.000058</td>\n",
       "      <td>-5.218478</td>\n",
       "    </tr>\n",
       "    <tr>\n",
       "      <th>std</th>\n",
       "      <td>0.002602</td>\n",
       "      <td>0.000075</td>\n",
       "      <td>5.805531</td>\n",
       "    </tr>\n",
       "  </tbody>\n",
       "</table>\n",
       "</div>"
      ],
      "text/plain": [
       "       balance    income  intercept\n",
       "mean  0.002745 -0.000058  -5.218478\n",
       "std   0.002602  0.000075   5.805531"
      ]
     },
     "execution_count": 115,
     "metadata": {},
     "output_type": "execute_result"
    }
   ],
   "source": [
    "coeffs.agg([\"mean\", \"std\"])"
   ]
  },
  {
   "cell_type": "markdown",
   "id": "ddd4828d",
   "metadata": {},
   "source": [
    "the bootstrapped mean is coeff is significantly (in informal sense) different from the coefficients estimated by the model. </br>\n",
    "This suggests there is a bias. (?) </br>\n",
    "Stds are also different from the estimated.\n",
    "This suggests that some of the assumptions are not satisfied. </br>\n",
    "Perhaps the structure of the model $$logodds = \\beta_0 + \\beta_{balance}X_1 + \\beta_{income}X_2$$\n",
    "is not satisfied, or the error is not normally distributed. (?)"
   ]
  },
  {
   "cell_type": "code",
   "execution_count": null,
   "id": "d26a2913",
   "metadata": {},
   "outputs": [],
   "source": []
  }
 ],
 "metadata": {
  "hide_input": false,
  "kernelspec": {
   "display_name": "Python 3 (ipykernel)",
   "language": "python",
   "name": "python3"
  },
  "language_info": {
   "codemirror_mode": {
    "name": "ipython",
    "version": 3
   },
   "file_extension": ".py",
   "mimetype": "text/x-python",
   "name": "python",
   "nbconvert_exporter": "python",
   "pygments_lexer": "ipython3",
   "version": "3.10.6"
  }
 },
 "nbformat": 4,
 "nbformat_minor": 5
}
