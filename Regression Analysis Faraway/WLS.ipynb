{
 "cells": [
  {
   "cell_type": "code",
   "execution_count": 4,
   "id": "d0df69cb",
   "metadata": {},
   "outputs": [],
   "source": [
    "import numpy as np\n",
    "import pandas as pd \n",
    "import matplotlib.pyplot as plt\n",
    "import statsmodels.api as sm\n",
    "import statsmodels.formula.api as smf\n",
    "import seaborn as sns\n",
    "import scipy as sp\n",
    "import faraway.utils"
   ]
  },
  {
   "cell_type": "code",
   "execution_count": 1,
   "id": "acdb989a",
   "metadata": {
    "scrolled": true
   },
   "outputs": [
    {
     "data": {
      "text/html": [
       "<div>\n",
       "<style scoped>\n",
       "    .dataframe tbody tr th:only-of-type {\n",
       "        vertical-align: middle;\n",
       "    }\n",
       "\n",
       "    .dataframe tbody tr th {\n",
       "        vertical-align: top;\n",
       "    }\n",
       "\n",
       "    .dataframe thead th {\n",
       "        text-align: right;\n",
       "    }\n",
       "</style>\n",
       "<table border=\"1\" class=\"dataframe\">\n",
       "  <thead>\n",
       "    <tr style=\"text-align: right;\">\n",
       "      <th></th>\n",
       "      <th>crawling</th>\n",
       "      <th>SD</th>\n",
       "      <th>n</th>\n",
       "      <th>temperature</th>\n",
       "    </tr>\n",
       "  </thead>\n",
       "  <tbody>\n",
       "    <tr>\n",
       "      <th>January</th>\n",
       "      <td>29.84</td>\n",
       "      <td>7.08</td>\n",
       "      <td>32</td>\n",
       "      <td>66</td>\n",
       "    </tr>\n",
       "    <tr>\n",
       "      <th>February</th>\n",
       "      <td>30.52</td>\n",
       "      <td>6.96</td>\n",
       "      <td>36</td>\n",
       "      <td>73</td>\n",
       "    </tr>\n",
       "    <tr>\n",
       "      <th>March</th>\n",
       "      <td>29.70</td>\n",
       "      <td>8.33</td>\n",
       "      <td>23</td>\n",
       "      <td>72</td>\n",
       "    </tr>\n",
       "    <tr>\n",
       "      <th>April</th>\n",
       "      <td>31.84</td>\n",
       "      <td>6.21</td>\n",
       "      <td>26</td>\n",
       "      <td>63</td>\n",
       "    </tr>\n",
       "    <tr>\n",
       "      <th>May</th>\n",
       "      <td>28.58</td>\n",
       "      <td>8.07</td>\n",
       "      <td>27</td>\n",
       "      <td>52</td>\n",
       "    </tr>\n",
       "  </tbody>\n",
       "</table>\n",
       "</div>"
      ],
      "text/plain": [
       "          crawling    SD   n  temperature\n",
       "January      29.84  7.08  32           66\n",
       "February     30.52  6.96  36           73\n",
       "March        29.70  8.33  23           72\n",
       "April        31.84  6.21  26           63\n",
       "May          28.58  8.07  27           52"
      ]
     },
     "execution_count": 1,
     "metadata": {},
     "output_type": "execute_result"
    }
   ],
   "source": [
    "import faraway.datasets.crawl\n",
    "crawl = faraway.datasets.crawl.load()\n",
    "crawl.head()"
   ]
  },
  {
   "cell_type": "code",
   "execution_count": 2,
   "id": "980fd830",
   "metadata": {},
   "outputs": [
    {
     "name": "stdout",
     "output_type": "stream",
     "text": [
      "\n",
      "Crawling babies by month\n",
      "\n",
      "Description:\n",
      "\n",
      "     A study investigated whether babies take longer to learn to crawl\n",
      "     in cold months when they are often bundled in clothes that\n",
      "     restrict their movement, than in warmer months. The study sought\n",
      "     an association between babies' first crawling age and the average\n",
      "     temperature during the month they first try to crawl (about 6\n",
      "     months after birth). Parents brought their babies into the\n",
      "     University of Denver Infant Study Center between 1988-1991 for the\n",
      "     study. The parents reported the birth month and age at which their\n",
      "     child was first able to creep or crawl a distance of four feet in\n",
      "     one minute.  Data were collected on 208 boys and 206 girls (40\n",
      "     pairs of which were twins)\n",
      "\n",
      "Variables:\n",
      "\n",
      "     A data frame with 12 observations on the following 4 variables.\n",
      "\n",
      "     ‘crawling’ average crawling age in weeks\n",
      "\n",
      "     ‘SD’ standard deviation of crawling age\n",
      "\n",
      "     ‘n’ sample size\n",
      "\n",
      "     ‘temperature’ average temperature(F) six months after birth\n",
      "\n",
      "Source:\n",
      "\n",
      "     Benson, Janette. (1993). Infant Behavior and Development\n",
      "\n"
     ]
    }
   ],
   "source": [
    "print(faraway.datasets.crawl.DESCR)"
   ]
  },
  {
   "cell_type": "markdown",
   "id": "7896ac39",
   "metadata": {},
   "source": [
    "In this special case we are given $\\sigma$ -- standard deviation of the response.</br>\n",
    "Therefore, we would include weights in our model."
   ]
  },
  {
   "cell_type": "code",
   "execution_count": 5,
   "id": "a8536139",
   "metadata": {},
   "outputs": [
    {
     "name": "stdout",
     "output_type": "stream",
     "text": [
      "             coefs stderr tvalues pvalues\n",
      "Intercept   35.678  1.318   27.08  0.0000\n",
      "temperature -0.078  0.025   -3.10  0.0113\n",
      "\n",
      "n=12 p=2 Residual SD=1.319 R-squared=0.49\n"
     ]
    }
   ],
   "source": [
    "lmod = smf.ols(\"crawling ~ temperature\", crawl).fit()\n",
    "lmod.sumary()"
   ]
  },
  {
   "cell_type": "code",
   "execution_count": 6,
   "id": "dc5ccf44",
   "metadata": {},
   "outputs": [],
   "source": [
    "%run utils.ipynb"
   ]
  },
  {
   "cell_type": "code",
   "execution_count": 7,
   "id": "51f5a066",
   "metadata": {},
   "outputs": [
    {
     "data": {
      "text/plain": [
       "(<Figure size 1440x504 with 2 Axes>,\n",
       " array([<AxesSubplot:xlabel='y.hat', ylabel='e.hat'>,\n",
       "        <AxesSubplot:xlabel='y.hat', ylabel='sqrt(|e.hat|)'>], dtype=object))"
      ]
     },
     "execution_count": 7,
     "metadata": {},
     "output_type": "execute_result"
    },
    {
     "data": {
      "image/png": "[encoded data removed]",
      "text/plain": [
       "<Figure size 1440x504 with 2 Axes>"
      ]
     },
     "metadata": {
      "needs_background": "light"
     },
     "output_type": "display_data"
    }
   ],
   "source": [
    "resid_yhat_plot(lmod)"
   ]
  },
  {
   "cell_type": "code",
   "execution_count": 23,
   "id": "ce9ce530",
   "metadata": {},
   "outputs": [
    {
     "name": "stderr",
     "output_type": "stream",
     "text": [
      "/usr/local/lib/python3.10/dist-packages/scipy/stats/_stats_py.py:1769: UserWarning: kurtosistest only valid for n>=20 ... continuing anyway, n=12\n",
      "  warnings.warn(\"kurtosistest only valid for n>=20 ... continuing \"\n"
     ]
    },
    {
     "data": {
      "text/html": [
       "<table class=\"simpletable\">\n",
       "<tr>\n",
       "       <td></td>          <th>coef</th>     <th>std err</th>      <th>t</th>      <th>P>|t|</th>  <th>[0.025</th>    <th>0.975]</th>  \n",
       "</tr>\n",
       "<tr>\n",
       "  <th>Intercept</th>   <td>   35.7308</td> <td>    1.272</td> <td>   28.100</td> <td> 0.000</td> <td>   32.898</td> <td>   38.564</td>\n",
       "</tr>\n",
       "<tr>\n",
       "  <th>temperature</th> <td>   -0.0755</td> <td>    0.024</td> <td>   -3.144</td> <td> 0.010</td> <td>   -0.129</td> <td>   -0.022</td>\n",
       "</tr>\n",
       "</table>"
      ],
      "text/plain": [
       "<class 'statsmodels.iolib.table.SimpleTable'>"
      ]
     },
     "execution_count": 23,
     "metadata": {},
     "output_type": "execute_result"
    }
   ],
   "source": [
    "wlmod = smf.wls(\"crawling ~ temperature\", crawl, weights=1/crawl[\"SD\"]**2).fit()\n",
    "\n",
    "wlmod.summary().tables[1]"
   ]
  },
  {
   "cell_type": "code",
   "execution_count": 24,
   "id": "fa053abb",
   "metadata": {},
   "outputs": [
    {
     "data": {
      "text/plain": [
       "(<Figure size 1440x504 with 2 Axes>,\n",
       " array([<AxesSubplot:xlabel='y.hat', ylabel='e.hat'>,\n",
       "        <AxesSubplot:xlabel='y.hat', ylabel='sqrt(|e.hat|)'>], dtype=object))"
      ]
     },
     "execution_count": 24,
     "metadata": {},
     "output_type": "execute_result"
    },
    {
     "data": {
      "image/png": "[encoded data removed]",
      "text/plain": [
       "<Figure size 1440x504 with 2 Axes>"
      ]
     },
     "metadata": {
      "needs_background": "light"
     },
     "output_type": "display_data"
    }
   ],
   "source": [
    "resid_yhat_plot(wlmod)"
   ]
  },
  {
   "cell_type": "markdown",
   "id": "ff113028",
   "metadata": {},
   "source": [
    "The weights in this case don't make much difference."
   ]
  },
  {
   "cell_type": "markdown",
   "id": "6b6dea16",
   "metadata": {},
   "source": [
    "## Gammaray"
   ]
  },
  {
   "cell_type": "code",
   "execution_count": 26,
   "id": "b8a2cd67",
   "metadata": {},
   "outputs": [
    {
     "data": {
      "text/html": [
       "<div>\n",
       "<style scoped>\n",
       "    .dataframe tbody tr th:only-of-type {\n",
       "        vertical-align: middle;\n",
       "    }\n",
       "\n",
       "    .dataframe tbody tr th {\n",
       "        vertical-align: top;\n",
       "    }\n",
       "\n",
       "    .dataframe thead th {\n",
       "        text-align: right;\n",
       "    }\n",
       "</style>\n",
       "<table border=\"1\" class=\"dataframe\">\n",
       "  <thead>\n",
       "    <tr style=\"text-align: right;\">\n",
       "      <th></th>\n",
       "      <th>time</th>\n",
       "      <th>flux</th>\n",
       "      <th>error</th>\n",
       "    </tr>\n",
       "  </thead>\n",
       "  <tbody>\n",
       "    <tr>\n",
       "      <th>0</th>\n",
       "      <td>133</td>\n",
       "      <td>122.7</td>\n",
       "      <td>5.7</td>\n",
       "    </tr>\n",
       "    <tr>\n",
       "      <th>1</th>\n",
       "      <td>143</td>\n",
       "      <td>109.5</td>\n",
       "      <td>5.4</td>\n",
       "    </tr>\n",
       "    <tr>\n",
       "      <th>2</th>\n",
       "      <td>153</td>\n",
       "      <td>101.4</td>\n",
       "      <td>5.2</td>\n",
       "    </tr>\n",
       "    <tr>\n",
       "      <th>3</th>\n",
       "      <td>163</td>\n",
       "      <td>92.0</td>\n",
       "      <td>4.9</td>\n",
       "    </tr>\n",
       "    <tr>\n",
       "      <th>4</th>\n",
       "      <td>173</td>\n",
       "      <td>86.8</td>\n",
       "      <td>4.8</td>\n",
       "    </tr>\n",
       "  </tbody>\n",
       "</table>\n",
       "</div>"
      ],
      "text/plain": [
       "   time   flux  error\n",
       "0   133  122.7    5.7\n",
       "1   143  109.5    5.4\n",
       "2   153  101.4    5.2\n",
       "3   163   92.0    4.9\n",
       "4   173   86.8    4.8"
      ]
     },
     "execution_count": 26,
     "metadata": {},
     "output_type": "execute_result"
    }
   ],
   "source": [
    "import faraway.datasets.gammaray\n",
    "\n",
    "gammaray = faraway.datasets.gammaray.load()\n",
    "gammaray.head()"
   ]
  },
  {
   "cell_type": "code",
   "execution_count": 28,
   "id": "aca101a8",
   "metadata": {},
   "outputs": [
    {
     "name": "stdout",
     "output_type": "stream",
     "text": [
      "\n",
      "Xray decay from a gamma ray burst\n",
      "\n",
      "Description:\n",
      "\n",
      "     The X-ray decay light curve of Gamma ray burst 050525a obtained\n",
      "     with the X-Ray Telescope (XRT) on board the Swift satellite. The\n",
      "     dataset has 63 brightness measurements in the 0.4-4.5 keV spectral\n",
      "     band at times ranging from 2 minutes to 5 days after the burst.\n",
      "\n",
      "Variables:\n",
      "\n",
      "     A data frame with 63 observations on the following 3 variables.\n",
      "\n",
      "     ‘time’ in seconds since burst\n",
      "\n",
      "     ‘flux’ X-ray flux in units of 10^-11 erg/cm2/s, 2-10 keV\n",
      "\n",
      "     ‘error’ measurement error of the flux based on detector\n",
      "          signal-to-noise values\n",
      "\n",
      "Source:\n",
      "\n",
      "     A. J. Blustin and 64 coauthors, Astrophys. J. 637, 901-913 2006.\n",
      "     Available at http://arxiv.org/abs/astro-ph/0507515.\n",
      "\n"
     ]
    }
   ],
   "source": [
    "print(faraway.datasets.gammaray.DESCR)"
   ]
  },
  {
   "cell_type": "code",
   "execution_count": 38,
   "id": "2c39955a",
   "metadata": {},
   "outputs": [
    {
     "data": {
      "text/plain": [
       "Text(0, 0.5, 'log(flux)')"
      ]
     },
     "execution_count": 38,
     "metadata": {},
     "output_type": "execute_result"
    },
    {
     "data": {
      "image/png": "[encoded data removed]",
      "text/plain": [
       "<Figure size 1080x360 with 3 Axes>"
      ]
     },
     "metadata": {
      "needs_background": "light"
     },
     "output_type": "display_data"
    }
   ],
   "source": [
    "f, ax = plt.subplots(1, 3, figsize=(15, 5))\n",
    "\n",
    "for i in range(3):\n",
    "    sns.scatterplot(x=\"time\", y=\"flux\", data=gammaray, ax=ax[i])\n",
    "ax[1].set_xscale('log')\n",
    "ax[1].set_xlabel(\"log(time)\")\n",
    "ax[2].set_xscale('log')\n",
    "ax[2].set_yscale('log')\n",
    "ax[2].set_xlabel(\"log(time)\")\n",
    "ax[2].set_ylabel(\"log(flux)\")"
   ]
  },
  {
   "cell_type": "code",
   "execution_count": 61,
   "id": "4da13493",
   "metadata": {},
   "outputs": [
    {
     "name": "stdout",
     "output_type": "stream",
     "text": [
      "           coefs stderr tvalues pvalues\n",
      "Intercept 11.703  0.134   87.14  0.0000\n",
      "ltime     -1.338  0.019  -71.79  0.0000\n",
      "\n",
      "n=63 p=2 Residual SD=0.280 R-squared=0.99\n"
     ]
    }
   ],
   "source": [
    "import faraway.utils\n",
    "gammaray[\"ltime\"] = np.log(gammaray[\"time\"])\n",
    "gammaray[\"lflux\"] = np.log(gammaray[\"flux\"])\n",
    "\n",
    "lmod = smf.ols(\"lflux ~ ltime\", gammaray).fit()\n",
    "lmod.sumary()"
   ]
  },
  {
   "cell_type": "code",
   "execution_count": 114,
   "id": "d068f16d",
   "metadata": {},
   "outputs": [
    {
     "data": {
      "text/html": [
       "<div>\n",
       "<style scoped>\n",
       "    .dataframe tbody tr th:only-of-type {\n",
       "        vertical-align: middle;\n",
       "    }\n",
       "\n",
       "    .dataframe tbody tr th {\n",
       "        vertical-align: top;\n",
       "    }\n",
       "\n",
       "    .dataframe thead th {\n",
       "        text-align: right;\n",
       "    }\n",
       "</style>\n",
       "<table border=\"1\" class=\"dataframe\">\n",
       "  <thead>\n",
       "    <tr style=\"text-align: right;\">\n",
       "      <th></th>\n",
       "      <th>time</th>\n",
       "      <th>flux</th>\n",
       "      <th>error</th>\n",
       "      <th>ltime</th>\n",
       "      <th>lflux</th>\n",
       "      <th>wflux</th>\n",
       "      <th>wtime</th>\n",
       "      <th>lwtime</th>\n",
       "      <th>lwflux</th>\n",
       "    </tr>\n",
       "  </thead>\n",
       "  <tbody>\n",
       "    <tr>\n",
       "      <th>0</th>\n",
       "      <td>133</td>\n",
       "      <td>122.7</td>\n",
       "      <td>5.7</td>\n",
       "      <td>4.890349</td>\n",
       "      <td>4.809742</td>\n",
       "      <td>21.526316</td>\n",
       "      <td>23.333333</td>\n",
       "      <td>3.149883</td>\n",
       "      <td>3.069276</td>\n",
       "    </tr>\n",
       "    <tr>\n",
       "      <th>1</th>\n",
       "      <td>143</td>\n",
       "      <td>109.5</td>\n",
       "      <td>5.4</td>\n",
       "      <td>4.962845</td>\n",
       "      <td>4.695925</td>\n",
       "      <td>20.277778</td>\n",
       "      <td>26.481481</td>\n",
       "      <td>3.276446</td>\n",
       "      <td>3.009526</td>\n",
       "    </tr>\n",
       "    <tr>\n",
       "      <th>2</th>\n",
       "      <td>153</td>\n",
       "      <td>101.4</td>\n",
       "      <td>5.2</td>\n",
       "      <td>5.030438</td>\n",
       "      <td>4.619073</td>\n",
       "      <td>19.500000</td>\n",
       "      <td>29.423077</td>\n",
       "      <td>3.381779</td>\n",
       "      <td>2.970414</td>\n",
       "    </tr>\n",
       "    <tr>\n",
       "      <th>3</th>\n",
       "      <td>163</td>\n",
       "      <td>92.0</td>\n",
       "      <td>4.9</td>\n",
       "      <td>5.093750</td>\n",
       "      <td>4.521789</td>\n",
       "      <td>18.775510</td>\n",
       "      <td>33.265306</td>\n",
       "      <td>3.504515</td>\n",
       "      <td>2.932553</td>\n",
       "    </tr>\n",
       "    <tr>\n",
       "      <th>4</th>\n",
       "      <td>173</td>\n",
       "      <td>86.8</td>\n",
       "      <td>4.8</td>\n",
       "      <td>5.153292</td>\n",
       "      <td>4.463607</td>\n",
       "      <td>18.083333</td>\n",
       "      <td>36.041667</td>\n",
       "      <td>3.584676</td>\n",
       "      <td>2.894991</td>\n",
       "    </tr>\n",
       "  </tbody>\n",
       "</table>\n",
       "</div>"
      ],
      "text/plain": [
       "   time   flux  error     ltime     lflux      wflux      wtime    lwtime  \\\n",
       "0   133  122.7    5.7  4.890349  4.809742  21.526316  23.333333  3.149883   \n",
       "1   143  109.5    5.4  4.962845  4.695925  20.277778  26.481481  3.276446   \n",
       "2   153  101.4    5.2  5.030438  4.619073  19.500000  29.423077  3.381779   \n",
       "3   163   92.0    4.9  5.093750  4.521789  18.775510  33.265306  3.504515   \n",
       "4   173   86.8    4.8  5.153292  4.463607  18.083333  36.041667  3.584676   \n",
       "\n",
       "     lwflux  \n",
       "0  3.069276  \n",
       "1  3.009526  \n",
       "2  2.970414  \n",
       "3  2.932553  \n",
       "4  2.894991  "
      ]
     },
     "execution_count": 114,
     "metadata": {},
     "output_type": "execute_result"
    }
   ],
   "source": [
    "for col in [\"flux\", \"time\"]:\n",
    "    gammaray[\"w\" + col] = 1/gammaray[\"error\"] * gammaray[col]\n",
    "    \n",
    "gammaray[\"lwtime\"] = np.log(gammaray[\"wtime\"])\n",
    "gammaray[\"lwflux\"] = np.log(gammaray[\"wflux\"])\n",
    "\n",
    "gammaray.head()"
   ]
  },
  {
   "cell_type": "code",
   "execution_count": 111,
   "id": "b9d94f5a",
   "metadata": {},
   "outputs": [
    {
     "name": "stdout",
     "output_type": "stream",
     "text": [
      "               coefs stderr tvalues pvalues\n",
      "Intercept      3.398  0.043   79.06  0.0000\n",
      "np.log(wtime) -0.121  0.005  -22.90  0.0000\n",
      "\n",
      "n=63 p=2 Residual SD=0.166 R-squared=0.90\n"
     ]
    }
   ],
   "source": [
    "wlmod = smf.ols(\"np.log(wflux) ~ np.log(wtime)\", gammaray).fit()\n",
    "wlmod.sumary()"
   ]
  },
  {
   "cell_type": "code",
   "execution_count": 115,
   "id": "fdea40fe",
   "metadata": {
    "scrolled": true
   },
   "outputs": [
    {
     "data": {
      "image/png": "[encoded data removed]",
      "text/plain": [
       "<Figure size 1080x360 with 1 Axes>"
      ]
     },
     "metadata": {
      "needs_background": "light"
     },
     "output_type": "display_data"
    }
   ],
   "source": [
    "f, ax = plt.subplots(1, 1, figsize=(15, 5))\n",
    "\n",
    "sns.scatterplot(x=\"ltime\", y=\"lflux\", data=gammaray, ax=ax)\n",
    "sns.scatterplot(x=\"lwtime\", y=\"lwflux\", data=gammaray, ax=ax)\n",
    "\n",
    "# unw_exog = pd.DataFrame(wlmod.model.exog, columns=wlmod.params.index)\n",
    "# unw_endog= wlmod.model.endog\n",
    "# wexog = pd.DataFrame(wlmod.model.wexog, columns=wlmod.params.index)\n",
    "# wendog = wlmod.model.wendog\n",
    "# sns.scatterplot(x=wexog[\"ltime\"], y=wendog)\n",
    "\n",
    "\n",
    "for i in range(gammaray.shape[0]):\n",
    "    unw_xi = unw_exog.loc[i, \"ltime\"]\n",
    "    unw_yi = unw_endog[i]\n",
    "    errori = gammaray.loc[i, \"error\"]\n",
    "    \n",
    "    w_xi = wexog.loc[i, \"ltime\"]\n",
    "    w_yi = wendog[i]\n",
    "    \n",
    "    plt.plot\n",
    "\n",
    "    \n",
    "#     plt.plot([unw_xi, unw_xi], np.log([unw_yi-errori, unw_yi+errori]), color=\"r\")\n",
    "    \n",
    "\n",
    "xr = np.array(ax.get_xlim())\n",
    "for model in [lmod, wlmod]:\n",
    "    ax.plot(\n",
    "        xr,\n",
    "        model.params[0] + model.params[1] * xr,\n",
    "    )"
   ]
  },
  {
   "cell_type": "code",
   "execution_count": null,
   "id": "ddf2ef3a",
   "metadata": {},
   "outputs": [],
   "source": []
  }
 ],
 "metadata": {
  "kernelspec": {
   "display_name": "Python 3 (ipykernel)",
   "language": "python",
   "name": "python3"
  },
  "language_info": {
   "codemirror_mode": {
    "name": "ipython",
    "version": 3
   },
   "file_extension": ".py",
   "mimetype": "text/x-python",
   "name": "python",
   "nbconvert_exporter": "python",
   "pygments_lexer": "ipython3",
   "version": "3.10.4"
  }
 },
 "nbformat": 4,
 "nbformat_minor": 5
}
