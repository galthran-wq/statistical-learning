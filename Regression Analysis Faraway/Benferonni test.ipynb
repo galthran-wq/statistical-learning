{
 "cells": [
  {
   "cell_type": "code",
   "execution_count": 1,
   "id": "e945e2c5",
   "metadata": {},
   "outputs": [],
   "source": [
    "import numpy as np\n",
    "import pandas as pd \n",
    "import matplotlib.pyplot as plt\n",
    "import statsmodels.api as sm\n",
    "import statsmodels.formula.api as smf\n",
    "import seaborn as sns\n",
    "import scipy as sp"
   ]
  },
  {
   "cell_type": "code",
   "execution_count": 10,
   "id": "d5711415",
   "metadata": {},
   "outputs": [
    {
     "data": {
      "text/plain": [
       "<AxesSubplot:>"
      ]
     },
     "execution_count": 10,
     "metadata": {},
     "output_type": "execute_result"
    },
    {
     "data": {
      "image/png": "[encoded data removed]",
      "text/plain": [
       "<Figure size 432x288 with 1 Axes>"
      ]
     },
     "metadata": {
      "needs_background": "light"
     },
     "output_type": "display_data"
    }
   ],
   "source": [
    "n = 50\n",
    "x = np.random.uniform(0, 5, size=n) \n",
    "y = x + np.random.normal(size=n)\n",
    "\n",
    "sns.regplot(x=x, y=y)"
   ]
  },
  {
   "cell_type": "code",
   "execution_count": 16,
   "id": "43e89c6a",
   "metadata": {},
   "outputs": [
    {
     "data": {
      "text/html": [
       "<div>\n",
       "<style scoped>\n",
       "    .dataframe tbody tr th:only-of-type {\n",
       "        vertical-align: middle;\n",
       "    }\n",
       "\n",
       "    .dataframe tbody tr th {\n",
       "        vertical-align: top;\n",
       "    }\n",
       "\n",
       "    .dataframe thead th {\n",
       "        text-align: right;\n",
       "    }\n",
       "</style>\n",
       "<table border=\"1\" class=\"dataframe\">\n",
       "  <thead>\n",
       "    <tr style=\"text-align: right;\">\n",
       "      <th></th>\n",
       "      <th>max_stud</th>\n",
       "      <th>benf_crit</th>\n",
       "    </tr>\n",
       "  </thead>\n",
       "  <tbody>\n",
       "    <tr>\n",
       "      <th>0</th>\n",
       "      <td>1.562757</td>\n",
       "      <td>2.939730</td>\n",
       "    </tr>\n",
       "    <tr>\n",
       "      <th>1</th>\n",
       "      <td>1.704262</td>\n",
       "      <td>2.974449</td>\n",
       "    </tr>\n",
       "    <tr>\n",
       "      <th>2</th>\n",
       "      <td>1.808421</td>\n",
       "      <td>3.005953</td>\n",
       "    </tr>\n",
       "    <tr>\n",
       "      <th>3</th>\n",
       "      <td>1.796203</td>\n",
       "      <td>3.034776</td>\n",
       "    </tr>\n",
       "    <tr>\n",
       "      <th>4</th>\n",
       "      <td>1.834299</td>\n",
       "      <td>3.061332</td>\n",
       "    </tr>\n",
       "  </tbody>\n",
       "</table>\n",
       "</div>"
      ],
      "text/plain": [
       "   max_stud  benf_crit\n",
       "0  1.562757   2.939730\n",
       "1  1.704262   2.974449\n",
       "2  1.808421   3.005953\n",
       "3  1.796203   3.034776\n",
       "4  1.834299   3.061332"
      ]
     },
     "execution_count": 16,
     "metadata": {},
     "output_type": "execute_result"
    }
   ],
   "source": [
    "alpha = 0.05\n",
    "res_arr = []\n",
    "for ni in range(10, n+1):\n",
    "    lmodi = sm.OLS(y[:ni], x[:ni]).fit()\n",
    "    diagvi = lmodi.get_influence()\n",
    "    stud = diagvi.resid_studentized_external\n",
    "    max_stud = np.max(abs(stud))\n",
    "    benf_crit_val = abs(sp.stats.t.ppf(0.05/(2*ni), n-lmodi.df_model))\n",
    "    res_arr.append([max_stud, benf_crit_val])\n",
    "res = pd.DataFrame(res_arr, columns=[\"max_stud\", \"benf_crit\"])\n",
    "res.head()"
   ]
  },
  {
   "cell_type": "code",
   "execution_count": 18,
   "id": "397b1113",
   "metadata": {},
   "outputs": [
    {
     "data": {
      "text/plain": [
       "Text(0.5, 0, 'n')"
      ]
     },
     "execution_count": 18,
     "metadata": {},
     "output_type": "execute_result"
    },
    {
     "data": {
      "image/png": "[encoded data removed]",
      "text/plain": [
       "<Figure size 432x288 with 1 Axes>"
      ]
     },
     "metadata": {
      "needs_background": "light"
     },
     "output_type": "display_data"
    }
   ],
   "source": [
    "f, ax = plt.subplots(1, 1)\n",
    "\n",
    "res.plot(ax=ax)\n",
    "ax.set_xlabel('n')"
   ]
  },
  {
   "cell_type": "code",
   "execution_count": null,
   "id": "3ec72cf4",
   "metadata": {},
   "outputs": [],
   "source": []
  }
 ],
 "metadata": {
  "kernelspec": {
   "display_name": "Python 3 (ipykernel)",
   "language": "python",
   "name": "python3"
  },
  "language_info": {
   "codemirror_mode": {
    "name": "ipython",
    "version": 3
   },
   "file_extension": ".py",
   "mimetype": "text/x-python",
   "name": "python",
   "nbconvert_exporter": "python",
   "pygments_lexer": "ipython3",
   "version": "3.10.4"
  }
 },
 "nbformat": 4,
 "nbformat_minor": 5
}
