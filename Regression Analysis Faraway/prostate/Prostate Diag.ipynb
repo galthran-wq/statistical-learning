{
 "cells": [
  {
   "cell_type": "code",
   "execution_count": 1,
   "id": "0d69fc90",
   "metadata": {},
   "outputs": [],
   "source": [
    "import numpy as np\n",
    "import pandas as pd \n",
    "import matplotlib.pyplot as plt\n",
    "import statsmodels.api as sm\n",
    "import statsmodels.formula.api as smf\n",
    "import seaborn as sns\n",
    "import scipy as sp"
   ]
  },
  {
   "cell_type": "code",
   "execution_count": 2,
   "id": "19904f5d",
   "metadata": {},
   "outputs": [
    {
     "data": {
      "text/html": [
       "<div>\n",
       "<style scoped>\n",
       "    .dataframe tbody tr th:only-of-type {\n",
       "        vertical-align: middle;\n",
       "    }\n",
       "\n",
       "    .dataframe tbody tr th {\n",
       "        vertical-align: top;\n",
       "    }\n",
       "\n",
       "    .dataframe thead th {\n",
       "        text-align: right;\n",
       "    }\n",
       "</style>\n",
       "<table border=\"1\" class=\"dataframe\">\n",
       "  <thead>\n",
       "    <tr style=\"text-align: right;\">\n",
       "      <th></th>\n",
       "      <th>lcavol</th>\n",
       "      <th>lweight</th>\n",
       "      <th>age</th>\n",
       "      <th>lbph</th>\n",
       "      <th>svi</th>\n",
       "      <th>lcp</th>\n",
       "      <th>gleason</th>\n",
       "      <th>pgg45</th>\n",
       "      <th>lpsa</th>\n",
       "    </tr>\n",
       "  </thead>\n",
       "  <tbody>\n",
       "    <tr>\n",
       "      <th>0</th>\n",
       "      <td>-0.579819</td>\n",
       "      <td>2.7695</td>\n",
       "      <td>50</td>\n",
       "      <td>-1.386294</td>\n",
       "      <td>0</td>\n",
       "      <td>-1.38629</td>\n",
       "      <td>6</td>\n",
       "      <td>0</td>\n",
       "      <td>-0.43078</td>\n",
       "    </tr>\n",
       "    <tr>\n",
       "      <th>1</th>\n",
       "      <td>-0.994252</td>\n",
       "      <td>3.3196</td>\n",
       "      <td>58</td>\n",
       "      <td>-1.386294</td>\n",
       "      <td>0</td>\n",
       "      <td>-1.38629</td>\n",
       "      <td>6</td>\n",
       "      <td>0</td>\n",
       "      <td>-0.16252</td>\n",
       "    </tr>\n",
       "    <tr>\n",
       "      <th>2</th>\n",
       "      <td>-0.510826</td>\n",
       "      <td>2.6912</td>\n",
       "      <td>74</td>\n",
       "      <td>-1.386294</td>\n",
       "      <td>0</td>\n",
       "      <td>-1.38629</td>\n",
       "      <td>7</td>\n",
       "      <td>20</td>\n",
       "      <td>-0.16252</td>\n",
       "    </tr>\n",
       "    <tr>\n",
       "      <th>3</th>\n",
       "      <td>-1.203973</td>\n",
       "      <td>3.2828</td>\n",
       "      <td>58</td>\n",
       "      <td>-1.386294</td>\n",
       "      <td>0</td>\n",
       "      <td>-1.38629</td>\n",
       "      <td>6</td>\n",
       "      <td>0</td>\n",
       "      <td>-0.16252</td>\n",
       "    </tr>\n",
       "    <tr>\n",
       "      <th>4</th>\n",
       "      <td>0.751416</td>\n",
       "      <td>3.4324</td>\n",
       "      <td>62</td>\n",
       "      <td>-1.386294</td>\n",
       "      <td>0</td>\n",
       "      <td>-1.38629</td>\n",
       "      <td>6</td>\n",
       "      <td>0</td>\n",
       "      <td>0.37156</td>\n",
       "    </tr>\n",
       "  </tbody>\n",
       "</table>\n",
       "</div>"
      ],
      "text/plain": [
       "     lcavol  lweight  age      lbph  svi      lcp  gleason  pgg45     lpsa\n",
       "0 -0.579819   2.7695   50 -1.386294    0 -1.38629        6      0 -0.43078\n",
       "1 -0.994252   3.3196   58 -1.386294    0 -1.38629        6      0 -0.16252\n",
       "2 -0.510826   2.6912   74 -1.386294    0 -1.38629        7     20 -0.16252\n",
       "3 -1.203973   3.2828   58 -1.386294    0 -1.38629        6      0 -0.16252\n",
       "4  0.751416   3.4324   62 -1.386294    0 -1.38629        6      0  0.37156"
      ]
     },
     "execution_count": 2,
     "metadata": {},
     "output_type": "execute_result"
    }
   ],
   "source": [
    "import faraway.datasets.prostate\n",
    "prostate = faraway.datasets.prostate.load()\n",
    "prostate.head()"
   ]
  },
  {
   "cell_type": "code",
   "execution_count": 3,
   "id": "fbd91257",
   "metadata": {},
   "outputs": [],
   "source": [
    "%run utils.ipynb"
   ]
  },
  {
   "cell_type": "code",
   "execution_count": 4,
   "id": "470b8398",
   "metadata": {},
   "outputs": [
    {
     "name": "stdout",
     "output_type": "stream",
     "text": [
      "\n",
      "Prostate cancer surgery\n",
      "\n",
      "Description:\n",
      "\n",
      "     The ‘prostate’ data frame has 97 rows and 9 columns. A study on 97\n",
      "     men with prostate cancer who were due to receive a radical\n",
      "     prostatectomy.\n",
      "\n",
      "Variables:\n",
      "\n",
      "     This data frame contains the following columns:\n",
      "\n",
      "     ‘lcavol’ log(cancer volume)\n",
      "\n",
      "     ‘lweight’ log(prostate weight)\n",
      "\n",
      "     ‘age’ age\n",
      "\n",
      "     ‘lbph’ log(benign prostatic hyperplasia amount)\n",
      "\n",
      "     ‘svi’ seminal vesicle invasion\n",
      "\n",
      "     ‘lcp’ log(capsular penetration)\n",
      "\n",
      "     ‘gleason’ Gleason score\n",
      "\n",
      "     ‘pgg45’ percentage Gleason scores 4 or 5\n",
      "\n",
      "     ‘lpsa’ log(prostate specific antigen)\n",
      "\n",
      "Source:\n",
      "\n",
      "     Andrews DF and Herzberg AM (1985): Data. New York: Springer-Verlag\n",
      "\n"
     ]
    }
   ],
   "source": [
    "print(\n",
    "faraway.datasets.prostate.DESCR\n",
    ")"
   ]
  },
  {
   "cell_type": "code",
   "execution_count": 5,
   "id": "160418b0",
   "metadata": {},
   "outputs": [
    {
     "name": "stdout",
     "output_type": "stream",
     "text": [
      "           coefs stderr tvalues pvalues\n",
      "Intercept  0.669  1.296    0.52  0.6069\n",
      "lcavol     0.587  0.088    6.68  0.0000\n",
      "lweight    0.454  0.170    2.67  0.0090\n",
      "age       -0.020  0.011   -1.76  0.0823\n",
      "lbph       0.107  0.058    1.83  0.0704\n",
      "svi        0.766  0.244    3.14  0.0023\n",
      "lcp       -0.105  0.091   -1.16  0.2496\n",
      "gleason    0.045  0.157    0.29  0.7750\n",
      "pgg45      0.005  0.004    1.02  0.3089\n",
      "\n",
      "n=97 p=9 Residual SD=0.708 R-squared=0.65\n"
     ]
    }
   ],
   "source": [
    "import faraway.utils\n",
    "\n",
    "lmod = smf.ols(\n",
    "    \"lpsa ~ lcavol + lweight + age + lbph + svi + lcp + gleason + pgg45\",\n",
    "    data=prostate\n",
    ").fit()\n",
    "lmod.sumary()"
   ]
  },
  {
   "cell_type": "code",
   "execution_count": 6,
   "id": "89238777",
   "metadata": {},
   "outputs": [
    {
     "data": {
      "text/plain": [
       "(<Figure size 1440x504 with 2 Axes>,\n",
       " array([<AxesSubplot:xlabel='y.hat', ylabel='e.hat'>,\n",
       "        <AxesSubplot:xlabel='y.hat', ylabel='sqrt(|e.hat|)'>], dtype=object))"
      ]
     },
     "execution_count": 6,
     "metadata": {},
     "output_type": "execute_result"
    },
    {
     "data": {
      "image/png": "[encoded data removed]",
      "text/plain": [
       "<Figure size 1440x504 with 2 Axes>"
      ]
     },
     "metadata": {
      "needs_background": "light"
     },
     "output_type": "display_data"
    }
   ],
   "source": [
    "resid_yhat_plot(lmod)"
   ]
  },
  {
   "cell_type": "markdown",
   "id": "3a07b460",
   "metadata": {},
   "source": [
    "Looks perfectly normal to me."
   ]
  },
  {
   "cell_type": "code",
   "execution_count": 7,
   "id": "37c27da6",
   "metadata": {
    "scrolled": true
   },
   "outputs": [
    {
     "data": {
      "text/plain": [
       "0    0.330476\n",
       "1    0.218439\n",
       "2    0.241008\n",
       "3    0.191211\n",
       "4    0.209242\n",
       "dtype: float64"
      ]
     },
     "execution_count": 7,
     "metadata": {},
     "output_type": "execute_result"
    }
   ],
   "source": [
    "diagv = lmod.get_influence()\n",
    "n =  prostate.shape[0]\n",
    "lev = diagv.hat_matrix_diag\n",
    "threshold = 2 * (n - lmod.df_resid) / n\n",
    "high_lev = pd.Series(lev[lev > threshold])\n",
    "high_lev"
   ]
  },
  {
   "cell_type": "code",
   "execution_count": 8,
   "id": "fcdef537",
   "metadata": {
    "scrolled": true
   },
   "outputs": [
    {
     "name": "stdout",
     "output_type": "stream",
     "text": [
      "           coefs stderr tvalues pvalues\n",
      "Intercept  0.669  1.296    0.52  0.6069\n",
      "lcavol     0.587  0.088    6.68  0.0000\n",
      "lweight    0.454  0.170    2.67  0.0090\n",
      "age       -0.020  0.011   -1.76  0.0823\n",
      "lbph       0.107  0.058    1.83  0.0704\n",
      "svi        0.766  0.244    3.14  0.0023\n",
      "lcp       -0.105  0.091   -1.16  0.2496\n",
      "gleason    0.045  0.157    0.29  0.7750\n",
      "pgg45      0.005  0.004    1.02  0.3089\n",
      "\n",
      "n=97 p=9 Residual SD=0.708 R-squared=0.65\n"
     ]
    }
   ],
   "source": [
    "lmod.sumary()"
   ]
  },
  {
   "cell_type": "markdown",
   "id": "3ebbe004",
   "metadata": {},
   "source": [
    "Non-significant: $age, lbph, lcp, gleason, pgg45$"
   ]
  },
  {
   "cell_type": "markdown",
   "id": "5e32c15e",
   "metadata": {},
   "source": [
    "### I cut the model to see its effect on the diagnostics: (?)"
   ]
  },
  {
   "cell_type": "code",
   "execution_count": 9,
   "id": "c2eb4444",
   "metadata": {},
   "outputs": [
    {
     "name": "stdout",
     "output_type": "stream",
     "text": [
      "           coefs stderr tvalues pvalues\n",
      "Intercept -0.268  0.543   -0.49  0.6230\n",
      "lcavol     0.552  0.075    7.39  0.0000\n",
      "lweight    0.509  0.150    3.39  0.0010\n",
      "svi        0.666  0.210    3.18  0.0020\n",
      "\n",
      "n=97 p=4 Residual SD=0.717 R-squared=0.63\n"
     ]
    }
   ],
   "source": [
    "lmod_cut = smf.ols(\n",
    "    \"lpsa ~ lcavol + lweight + svi\",\n",
    "    data=prostate\n",
    ").fit()\n",
    "lmod_cut.sumary()"
   ]
  },
  {
   "cell_type": "code",
   "execution_count": 10,
   "id": "548298f8",
   "metadata": {},
   "outputs": [
    {
     "data": {
      "image/png": "[encoded data removed]",
      "text/plain": [
       "<Figure size 1440x504 with 2 Axes>"
      ]
     },
     "metadata": {
      "needs_background": "light"
     },
     "output_type": "display_data"
    },
    {
     "data": {
      "image/png": "[encoded data removed]",
      "text/plain": [
       "<Figure size 1440x504 with 2 Axes>"
      ]
     },
     "metadata": {
      "needs_background": "light"
     },
     "output_type": "display_data"
    }
   ],
   "source": [
    "_ = resid_yhat_plot(lmod_cut)\n",
    "_ = resid_yhat_plot(lmod)"
   ]
  },
  {
   "cell_type": "markdown",
   "id": "c201501a",
   "metadata": {},
   "source": [
    "The plots are identical"
   ]
  },
  {
   "cell_type": "code",
   "execution_count": 11,
   "id": "fbc72cb8",
   "metadata": {},
   "outputs": [
    {
     "data": {
      "image/png": "[encoded data removed]",
      "text/plain": [
       "<Figure size 432x288 with 1 Axes>"
      ]
     },
     "metadata": {
      "needs_background": "light"
     },
     "output_type": "display_data"
    }
   ],
   "source": [
    "_ = sm.qqplot(lmod.resid, line=\"q\")"
   ]
  },
  {
   "cell_type": "code",
   "execution_count": 12,
   "id": "bd882497",
   "metadata": {},
   "outputs": [
    {
     "data": {
      "text/plain": [
       "ShapiroResult(statistic=0.9911287426948547, pvalue=0.7721095085144043)"
      ]
     },
     "execution_count": 12,
     "metadata": {},
     "output_type": "execute_result"
    }
   ],
   "source": [
    "sp.stats.shapiro(lmod.resid)"
   ]
  },
  {
   "cell_type": "code",
   "execution_count": 13,
   "id": "c6491e70",
   "metadata": {},
   "outputs": [
    {
     "data": {
      "text/plain": [
       "1.5069645441158106"
      ]
     },
     "execution_count": 13,
     "metadata": {},
     "output_type": "execute_result"
    }
   ],
   "source": [
    "sm.stats.stattools.durbin_watson(lmod.resid)"
   ]
  },
  {
   "cell_type": "code",
   "execution_count": 14,
   "id": "bf111ebd",
   "metadata": {},
   "outputs": [
    {
     "name": "stdout",
     "output_type": "stream",
     "text": [
      "31    0.306014\n",
      "dtype: float64\n"
     ]
    },
    {
     "data": {
      "text/plain": [
       "31    0.306014\n",
       "88    0.087305\n",
       "37    0.080146\n",
       "11    0.073446\n",
       "68    0.071509\n",
       "dtype: float64"
      ]
     },
     "execution_count": 14,
     "metadata": {},
     "output_type": "execute_result"
    }
   ],
   "source": [
    "diagv_cut = lmod_cut.get_influence()\n",
    "lev_cut = pd.Series(diagv_cut.hat_matrix_diag)\n",
    "high_lev_cut = lev_cut[lev_cut > threshold]\n",
    "print(high_lev_cut)\n",
    "lev_cut.sort_values(ascending=False).head()"
   ]
  },
  {
   "cell_type": "code",
   "execution_count": 15,
   "id": "7b0a9489",
   "metadata": {},
   "outputs": [
    {
     "data": {
      "text/plain": [
       "Text(0.5, 1.0, 'New leverages')"
      ]
     },
     "execution_count": 15,
     "metadata": {},
     "output_type": "execute_result"
    },
    {
     "data": {
      "image/png": "[encoded data removed]",
      "text/plain": [
       "<Figure size 1080x360 with 2 Axes>"
      ]
     },
     "metadata": {
      "needs_background": "light"
     },
     "output_type": "display_data"
    }
   ],
   "source": [
    "f, ax = plt.subplots(1, 2, figsize=(15, 5))\n",
    "\n",
    "sns.histplot(lev, bins=30, ax=ax[0])\n",
    "ax[0].set_title(\"Old leverages\")\n",
    "sns.histplot(lev_cut, bins=30, ax=ax[1])\n",
    "ax[1].set_title(\"New leverages\")"
   ]
  },
  {
   "cell_type": "code",
   "execution_count": 16,
   "id": "7489a677",
   "metadata": {},
   "outputs": [
    {
     "data": {
      "text/plain": [
       "age         65.000000\n",
       "svi          0.000000\n",
       "gleason      6.000000\n",
       "pgg45        0.000000\n",
       "cavol        1.200000\n",
       "weight     449.259198\n",
       "bph          5.499999\n",
       "cp           0.250001\n",
       "psa          7.449970\n",
       "Name: 31, dtype: float64"
      ]
     },
     "execution_count": 16,
     "metadata": {},
     "output_type": "execute_result"
    }
   ],
   "source": [
    "unusual_record = prostate.loc[31, :]\n",
    "unusual_record_standard = unusual_record.copy()\n",
    "\n",
    "logged_cols = ['lcavol', 'lweight', 'lbph', 'lweight', 'lcp', 'lpsa']\n",
    "unusual_record_standard.drop(index=logged_cols, inplace=True)\n",
    "\n",
    "for col in logged_cols:\n",
    "    stand_col = col[1:]\n",
    "    unusual_record_standard[stand_col] = np.exp(unusual_record.loc[col])\n",
    "    \n",
    "unusual_record_standard"
   ]
  },
  {
   "cell_type": "code",
   "execution_count": 17,
   "id": "4b51fc7b",
   "metadata": {},
   "outputs": [
    {
     "data": {
      "image/png": "[encoded data removed]",
      "text/plain": [
       "<Figure size 1080x360 with 3 Axes>"
      ]
     },
     "metadata": {
      "needs_background": "light"
     },
     "output_type": "display_data"
    }
   ],
   "source": [
    "f, ax = plt.subplots(1, 3, figsize=(15, 5))\n",
    "\n",
    "for i, predictor in enumerate(['lcavol', 'lweight', 'svi']):\n",
    "    sns.histplot(x=predictor, data=prostate, bins=20, ax=ax[i])\n",
    "    ax[i].axvline(unusual_record.loc[predictor])\n"
   ]
  },
  {
   "cell_type": "code",
   "execution_count": 18,
   "id": "46d88b19",
   "metadata": {},
   "outputs": [
    {
     "data": {
      "text/plain": [
       "count     97.000000\n",
       "mean      45.477973\n",
       "std       45.610845\n",
       "min       10.749938\n",
       "25%       29.250597\n",
       "50%       37.449749\n",
       "75%       48.351633\n",
       "max      449.259198\n",
       "Name: lweight, dtype: float64"
      ]
     },
     "execution_count": 18,
     "metadata": {},
     "output_type": "execute_result"
    }
   ],
   "source": [
    "np.exp(prostate['lweight']).describe()"
   ]
  },
  {
   "cell_type": "code",
   "execution_count": 19,
   "id": "9328cd87",
   "metadata": {},
   "outputs": [
    {
     "name": "stdout",
     "output_type": "stream",
     "text": [
      "           coefs stderr tvalues pvalues\n",
      "Intercept -0.268  0.543   -0.49  0.6230\n",
      "lcavol     0.552  0.075    7.39  0.0000\n",
      "lweight    0.509  0.150    3.39  0.0010\n",
      "svi        0.666  0.210    3.18  0.0020\n",
      "\n",
      "n=97 p=4 Residual SD=0.717 R-squared=0.63\n",
      "           coefs stderr tvalues pvalues\n",
      "Intercept -0.770  0.627   -1.23  0.2225\n",
      "lcavol     0.528  0.076    6.98  0.0000\n",
      "lweight    0.659  0.177    3.72  0.0003\n",
      "svi        0.666  0.208    3.20  0.0019\n",
      "\n",
      "n=96 p=4 Residual SD=0.711 R-squared=0.64\n"
     ]
    }
   ],
   "source": [
    "lmod_cut2 = smf.ols(\n",
    "    \"lpsa ~ lcavol + lweight + svi\",\n",
    "    data=prostate.drop(31)\n",
    ").fit()\n",
    "\n",
    "lmod_cut.sumary()\n",
    "lmod_cut2.sumary()"
   ]
  },
  {
   "cell_type": "code",
   "execution_count": 20,
   "id": "391f74a2",
   "metadata": {},
   "outputs": [
    {
     "data": {
      "image/png": "[encoded data removed]",
      "text/plain": [
       "<Figure size 432x288 with 1 Axes>"
      ]
     },
     "metadata": {
      "needs_background": "light"
     },
     "output_type": "display_data"
    }
   ],
   "source": [
    "cooks = pd.Series(diagv.cooks_distance[0])\n",
    "_ = halfqq_plot(cooks)"
   ]
  },
  {
   "cell_type": "code",
   "execution_count": 21,
   "id": "fad5db50",
   "metadata": {},
   "outputs": [
    {
     "data": {
      "text/plain": [
       "31    0.122698\n",
       "46    0.105744\n",
       "68    0.100538\n",
       "94    0.098738\n",
       "96    0.073776\n",
       "95    0.055939\n",
       "38    0.052019\n",
       "dtype: float64"
      ]
     },
     "execution_count": 21,
     "metadata": {},
     "output_type": "execute_result"
    }
   ],
   "source": [
    "high_cooks = cooks.sort_values(ascending=False)[:7]\n",
    "high_cooks"
   ]
  },
  {
   "cell_type": "code",
   "execution_count": 22,
   "id": "d16e1a14",
   "metadata": {},
   "outputs": [
    {
     "data": {
      "text/plain": [
       "31    0.122698\n",
       "46    0.105744\n",
       "68    0.100538\n",
       "94    0.098738\n",
       "96    0.073776\n",
       "95    0.055939\n",
       "38    0.052019\n",
       "0     0.330476\n",
       "1     0.218439\n",
       "2     0.241008\n",
       "3     0.191211\n",
       "4     0.209242\n",
       "dtype: float64"
      ]
     },
     "execution_count": 22,
     "metadata": {},
     "output_type": "execute_result"
    }
   ],
   "source": [
    "high = pd.concat([high_cooks, high_lev]) \n",
    "high"
   ]
  },
  {
   "cell_type": "code",
   "execution_count": 23,
   "id": "acfb45f5",
   "metadata": {},
   "outputs": [
    {
     "data": {
      "text/plain": [
       "(<Figure size 1440x504 with 2 Axes>,\n",
       " array([<AxesSubplot:xlabel='y.hat', ylabel='e.hat'>,\n",
       "        <AxesSubplot:xlabel='y.hat', ylabel='sqrt(|e.hat|)'>], dtype=object))"
      ]
     },
     "execution_count": 23,
     "metadata": {},
     "output_type": "execute_result"
    },
    {
     "data": {
      "image/png": "[encoded data removed]",
      "text/plain": [
       "<Figure size 1440x504 with 2 Axes>"
      ]
     },
     "metadata": {
      "needs_background": "light"
     },
     "output_type": "display_data"
    }
   ],
   "source": [
    "resid_yhat_plot(lmod, to_annotate=high.index)"
   ]
  },
  {
   "cell_type": "code",
   "execution_count": 24,
   "id": "7729590e",
   "metadata": {},
   "outputs": [
    {
     "name": "stdout",
     "output_type": "stream",
     "text": [
      "           coefs stderr tvalues pvalues\n",
      "Intercept -0.268  0.543   -0.49  0.6230\n",
      "lcavol     0.552  0.075    7.39  0.0000\n",
      "lweight    0.509  0.150    3.39  0.0010\n",
      "svi        0.666  0.210    3.18  0.0020\n",
      "\n",
      "n=97 p=4 Residual SD=0.717 R-squared=0.63\n",
      "           coefs stderr tvalues pvalues\n",
      "Intercept -0.141  0.545   -0.26  0.7962\n",
      "lcavol     0.421  0.067    6.31  0.0000\n",
      "lweight    0.537  0.152    3.52  0.0007\n",
      "svi        0.680  0.178    3.82  0.0003\n",
      "\n",
      "n=85 p=4 Residual SD=0.567 R-squared=0.61\n"
     ]
    }
   ],
   "source": [
    "lmod_cut3 = smf.ols(\n",
    "    \"lpsa ~ lcavol + lweight + svi\",\n",
    "    data=prostate.drop(high.index)\n",
    ").fit()\n",
    "\n",
    "lmod_cut.sumary()\n",
    "lmod_cut3.sumary()"
   ]
  },
  {
   "cell_type": "markdown",
   "id": "9c3fba4d",
   "metadata": {},
   "source": [
    "## Multicollinearity"
   ]
  },
  {
   "cell_type": "code",
   "execution_count": 25,
   "id": "0993dbb0",
   "metadata": {},
   "outputs": [
    {
     "name": "stdout",
     "output_type": "stream",
     "text": [
      "           coefs stderr tvalues pvalues\n",
      "Intercept  0.669  1.296    0.52  0.6069\n",
      "lcavol     0.587  0.088    6.68  0.0000\n",
      "lweight    0.454  0.170    2.67  0.0090\n",
      "age       -0.020  0.011   -1.76  0.0823\n",
      "lbph       0.107  0.058    1.83  0.0704\n",
      "svi        0.766  0.244    3.14  0.0023\n",
      "lcp       -0.105  0.091   -1.16  0.2496\n",
      "gleason    0.045  0.157    0.29  0.7750\n",
      "pgg45      0.005  0.004    1.02  0.3089\n",
      "\n",
      "n=97 p=9 Residual SD=0.708 R-squared=0.65\n"
     ]
    }
   ],
   "source": [
    "lmod.sumary()"
   ]
  },
  {
   "cell_type": "code",
   "execution_count": 26,
   "id": "8daa43a9",
   "metadata": {},
   "outputs": [
    {
     "data": {
      "text/plain": [
       "array([1.27502497e+03, 2.43311348e+02, 1.53821735e+02, 1.03697747e+02,\n",
       "       8.55572283e+01, 5.22293197e+01, 4.76444283e+01, 2.78205596e+00,\n",
       "       1.00000000e+00])"
      ]
     },
     "execution_count": 26,
     "metadata": {},
     "output_type": "execute_result"
    }
   ],
   "source": [
    "get_cond_nums(lmod)"
   ]
  },
  {
   "cell_type": "code",
   "execution_count": 27,
   "id": "fcf20d9b",
   "metadata": {},
   "outputs": [
    {
     "data": {
      "text/plain": [
       "Intercept    324.836827\n",
       "lcp            3.097954\n",
       "pgg45          2.974361\n",
       "gleason        2.473411\n",
       "lcavol         2.054115\n",
       "svi            1.956881\n",
       "lbph           1.375534\n",
       "lweight        1.363704\n",
       "age            1.323599\n",
       "dtype: float64"
      ]
     },
     "execution_count": 27,
     "metadata": {},
     "output_type": "execute_result"
    }
   ],
   "source": [
    "1 / (1-get_partial_rsq(lmod))"
   ]
  },
  {
   "cell_type": "markdown",
   "id": "366889ea",
   "metadata": {},
   "source": [
    "Most of the values are above 30, indicating several multicollinear predictors"
   ]
  },
  {
   "cell_type": "code",
   "execution_count": 28,
   "id": "ad68e686",
   "metadata": {},
   "outputs": [
    {
     "data": {
      "text/html": [
       "<div>\n",
       "<style scoped>\n",
       "    .dataframe tbody tr th:only-of-type {\n",
       "        vertical-align: middle;\n",
       "    }\n",
       "\n",
       "    .dataframe tbody tr th {\n",
       "        vertical-align: top;\n",
       "    }\n",
       "\n",
       "    .dataframe thead th {\n",
       "        text-align: right;\n",
       "    }\n",
       "</style>\n",
       "<table border=\"1\" class=\"dataframe\">\n",
       "  <thead>\n",
       "    <tr style=\"text-align: right;\">\n",
       "      <th></th>\n",
       "      <th>lcavol</th>\n",
       "      <th>lweight</th>\n",
       "      <th>age</th>\n",
       "      <th>lbph</th>\n",
       "      <th>svi</th>\n",
       "      <th>lcp</th>\n",
       "      <th>gleason</th>\n",
       "      <th>pgg45</th>\n",
       "    </tr>\n",
       "  </thead>\n",
       "  <tbody>\n",
       "    <tr>\n",
       "      <th>lcavol</th>\n",
       "      <td>1.000000</td>\n",
       "      <td>0.194128</td>\n",
       "      <td>0.225000</td>\n",
       "      <td>0.027350</td>\n",
       "      <td>0.538845</td>\n",
       "      <td>0.675311</td>\n",
       "      <td>0.432417</td>\n",
       "      <td>0.433652</td>\n",
       "    </tr>\n",
       "    <tr>\n",
       "      <th>lweight</th>\n",
       "      <td>0.194128</td>\n",
       "      <td>1.000000</td>\n",
       "      <td>0.307525</td>\n",
       "      <td>0.434932</td>\n",
       "      <td>0.108778</td>\n",
       "      <td>0.100239</td>\n",
       "      <td>-0.001283</td>\n",
       "      <td>0.050846</td>\n",
       "    </tr>\n",
       "    <tr>\n",
       "      <th>age</th>\n",
       "      <td>0.225000</td>\n",
       "      <td>0.307525</td>\n",
       "      <td>1.000000</td>\n",
       "      <td>0.350186</td>\n",
       "      <td>0.117658</td>\n",
       "      <td>0.127668</td>\n",
       "      <td>0.268892</td>\n",
       "      <td>0.276112</td>\n",
       "    </tr>\n",
       "    <tr>\n",
       "      <th>lbph</th>\n",
       "      <td>0.027350</td>\n",
       "      <td>0.434932</td>\n",
       "      <td>0.350186</td>\n",
       "      <td>1.000000</td>\n",
       "      <td>-0.085843</td>\n",
       "      <td>-0.006999</td>\n",
       "      <td>0.077820</td>\n",
       "      <td>0.078460</td>\n",
       "    </tr>\n",
       "    <tr>\n",
       "      <th>svi</th>\n",
       "      <td>0.538845</td>\n",
       "      <td>0.108778</td>\n",
       "      <td>0.117658</td>\n",
       "      <td>-0.085843</td>\n",
       "      <td>1.000000</td>\n",
       "      <td>0.673111</td>\n",
       "      <td>0.320412</td>\n",
       "      <td>0.457648</td>\n",
       "    </tr>\n",
       "    <tr>\n",
       "      <th>lcp</th>\n",
       "      <td>0.675311</td>\n",
       "      <td>0.100239</td>\n",
       "      <td>0.127668</td>\n",
       "      <td>-0.006999</td>\n",
       "      <td>0.673111</td>\n",
       "      <td>1.000000</td>\n",
       "      <td>0.514830</td>\n",
       "      <td>0.631528</td>\n",
       "    </tr>\n",
       "    <tr>\n",
       "      <th>gleason</th>\n",
       "      <td>0.432417</td>\n",
       "      <td>-0.001283</td>\n",
       "      <td>0.268892</td>\n",
       "      <td>0.077820</td>\n",
       "      <td>0.320412</td>\n",
       "      <td>0.514830</td>\n",
       "      <td>1.000000</td>\n",
       "      <td>0.751905</td>\n",
       "    </tr>\n",
       "    <tr>\n",
       "      <th>pgg45</th>\n",
       "      <td>0.433652</td>\n",
       "      <td>0.050846</td>\n",
       "      <td>0.276112</td>\n",
       "      <td>0.078460</td>\n",
       "      <td>0.457648</td>\n",
       "      <td>0.631528</td>\n",
       "      <td>0.751905</td>\n",
       "      <td>1.000000</td>\n",
       "    </tr>\n",
       "  </tbody>\n",
       "</table>\n",
       "</div>"
      ],
      "text/plain": [
       "           lcavol   lweight       age      lbph       svi       lcp   gleason  \\\n",
       "lcavol   1.000000  0.194128  0.225000  0.027350  0.538845  0.675311  0.432417   \n",
       "lweight  0.194128  1.000000  0.307525  0.434932  0.108778  0.100239 -0.001283   \n",
       "age      0.225000  0.307525  1.000000  0.350186  0.117658  0.127668  0.268892   \n",
       "lbph     0.027350  0.434932  0.350186  1.000000 -0.085843 -0.006999  0.077820   \n",
       "svi      0.538845  0.108778  0.117658 -0.085843  1.000000  0.673111  0.320412   \n",
       "lcp      0.675311  0.100239  0.127668 -0.006999  0.673111  1.000000  0.514830   \n",
       "gleason  0.432417 -0.001283  0.268892  0.077820  0.320412  0.514830  1.000000   \n",
       "pgg45    0.433652  0.050846  0.276112  0.078460  0.457648  0.631528  0.751905   \n",
       "\n",
       "            pgg45  \n",
       "lcavol   0.433652  \n",
       "lweight  0.050846  \n",
       "age      0.276112  \n",
       "lbph     0.078460  \n",
       "svi      0.457648  \n",
       "lcp      0.631528  \n",
       "gleason  0.751905  \n",
       "pgg45    1.000000  "
      ]
     },
     "execution_count": 28,
     "metadata": {},
     "output_type": "execute_result"
    },
    {
     "data": {
      "image/png": "[encoded data removed]",
      "text/plain": [
       "<Figure size 432x288 with 2 Axes>"
      ]
     },
     "metadata": {
      "needs_background": "light"
     },
     "output_type": "display_data"
    }
   ],
   "source": [
    "corr = get_dsg_mtx(lmod).corr()\n",
    "sns.heatmap(corr)\n",
    "corr"
   ]
  },
  {
   "cell_type": "markdown",
   "id": "8434b287",
   "metadata": {},
   "source": [
    "There is a clear problem with the lower right square. </br>\n",
    "We might think about keeping only one from total 4 of those predictors. </br>\n",
    "Which one? We certainly prefer significant over nonsignificant. \n",
    "Among the significant ones, a reasonable choice would be the one with the highest $\\rho$ </br>\n",
    "In our case only *svi* is significant. </br>\n",
    "Interestingly, it is also the most correlated one among the rest:"
   ]
  },
  {
   "cell_type": "code",
   "execution_count": 29,
   "id": "ebbf8892",
   "metadata": {},
   "outputs": [
    {
     "data": {
      "text/plain": [
       "lcavol     0.734460\n",
       "lweight    0.354122\n",
       "age        0.169593\n",
       "lbph       0.179810\n",
       "svi        0.566218\n",
       "lcp        0.548813\n",
       "gleason    0.368987\n",
       "pgg45      0.422316\n",
       "lpsa       1.000000\n",
       "Name: lpsa, dtype: float64"
      ]
     },
     "execution_count": 29,
     "metadata": {},
     "output_type": "execute_result"
    }
   ],
   "source": [
    "prostate.corr()[\"lpsa\"]"
   ]
  },
  {
   "cell_type": "code",
   "execution_count": null,
   "id": "0446937d",
   "metadata": {},
   "outputs": [],
   "source": []
  },
  {
   "cell_type": "code",
   "execution_count": 30,
   "id": "fdd79020",
   "metadata": {},
   "outputs": [
    {
     "name": "stdout",
     "output_type": "stream",
     "text": [
      "           coefs stderr tvalues pvalues\n",
      "Intercept  0.951  0.832    1.14  0.2559\n",
      "lcavol     0.566  0.075    7.58  0.0000\n",
      "lweight    0.424  0.167    2.54  0.0128\n",
      "age       -0.015  0.011   -1.38  0.1695\n",
      "lbph       0.112  0.058    1.93  0.0572\n",
      "svi        0.721  0.209    3.45  0.0009\n",
      "\n",
      "n=97 p=6 Residual SD=0.707 R-squared=0.64\n"
     ]
    }
   ],
   "source": [
    "lmod_nonl = smf.ols(\n",
    "    \"lpsa ~ lcavol + lweight + age + lbph + svi\",\n",
    "    data=prostate\n",
    ").fit()\n",
    "lmod_nonl.sumary()"
   ]
  },
  {
   "cell_type": "code",
   "execution_count": 31,
   "id": "c5d8b0a0",
   "metadata": {},
   "outputs": [
    {
     "data": {
      "text/plain": [
       "array([752.19502374, 190.60575784, 119.72838879,  55.09410273,\n",
       "        44.66999831,   1.        ])"
      ]
     },
     "execution_count": 31,
     "metadata": {},
     "output_type": "execute_result"
    }
   ],
   "source": [
    "get_cond_nums(lmod_nonl)"
   ]
  },
  {
   "cell_type": "code",
   "execution_count": 32,
   "id": "352cf574",
   "metadata": {
    "scrolled": true
   },
   "outputs": [
    {
     "data": {
      "text/plain": [
       "Intercept    134.134225\n",
       "lcavol         1.483085\n",
       "svi            1.436938\n",
       "lbph           1.361196\n",
       "lweight        1.317926\n",
       "age            1.230286\n",
       "dtype: float64"
      ]
     },
     "execution_count": 32,
     "metadata": {},
     "output_type": "execute_result"
    }
   ],
   "source": [
    "1 / (1-get_partial_rsq(lmod_nonl))"
   ]
  },
  {
   "cell_type": "code",
   "execution_count": 33,
   "id": "d55d4107",
   "metadata": {},
   "outputs": [
    {
     "name": "stdout",
     "output_type": "stream",
     "text": [
      "          coefs stderr tvalues pvalues\n",
      "Intercept 0.146  0.597    0.24  0.8081\n",
      "lcavol    0.550  0.074    7.42  0.0000\n",
      "lweight   0.391  0.166    2.35  0.0207\n",
      "lbph      0.090  0.056    1.60  0.1121\n",
      "svi       0.712  0.210    3.39  0.0010\n",
      "\n",
      "n=97 p=5 Residual SD=0.711 R-squared=0.64\n"
     ]
    }
   ],
   "source": [
    "lmod_nonl2 = smf.ols(\n",
    "    \"lpsa ~ lcavol + lweight + lbph + svi\",\n",
    "    data=prostate\n",
    ").fit()\n",
    "lmod_nonl2.sumary()"
   ]
  },
  {
   "cell_type": "code",
   "execution_count": 34,
   "id": "a80e9a91",
   "metadata": {},
   "outputs": [
    {
     "data": {
      "text/plain": [
       "array([35.10663574, 12.08070384,  3.7355786 ,  2.8373097 ,  1.        ])"
      ]
     },
     "execution_count": 34,
     "metadata": {},
     "output_type": "execute_result"
    }
   ],
   "source": [
    "get_cond_nums(lmod_nonl2)"
   ]
  },
  {
   "cell_type": "code",
   "execution_count": 35,
   "id": "8dbad9c8",
   "metadata": {},
   "outputs": [
    {
     "data": {
      "text/plain": [
       "Intercept    68.530719\n",
       "lcavol        1.447473\n",
       "svi           1.435481\n",
       "lweight       1.291345\n",
       "lbph          1.261576\n",
       "dtype: float64"
      ]
     },
     "execution_count": 35,
     "metadata": {},
     "output_type": "execute_result"
    }
   ],
   "source": [
    "1 / (1-get_partial_rsq(lmod_nonl2))"
   ]
  },
  {
   "cell_type": "code",
   "execution_count": null,
   "id": "244d6a10",
   "metadata": {},
   "outputs": [],
   "source": []
  },
  {
   "cell_type": "markdown",
   "id": "24eee458",
   "metadata": {},
   "source": [
    "## Model Selection"
   ]
  },
  {
   "cell_type": "code",
   "execution_count": 36,
   "id": "a422d1b7",
   "metadata": {},
   "outputs": [
    {
     "name": "stdout",
     "output_type": "stream",
     "text": [
      "           coefs stderr tvalues pvalues\n",
      "Intercept  0.669  1.296    0.52  0.6069\n",
      "lcavol     0.587  0.088    6.68  0.0000\n",
      "lweight    0.454  0.170    2.67  0.0090\n",
      "age       -0.020  0.011   -1.76  0.0823\n",
      "lbph       0.107  0.058    1.83  0.0704\n",
      "svi        0.766  0.244    3.14  0.0023\n",
      "lcp       -0.105  0.091   -1.16  0.2496\n",
      "gleason    0.045  0.157    0.29  0.7750\n",
      "pgg45      0.005  0.004    1.02  0.3089\n",
      "\n",
      "n=97 p=9 Residual SD=0.708 R-squared=0.65\n"
     ]
    }
   ],
   "source": [
    "lmod.sumary()"
   ]
  },
  {
   "cell_type": "markdown",
   "id": "e6b532a6",
   "metadata": {},
   "source": [
    "### Backward elimination\n",
    "Note that it does not remove the intercept"
   ]
  },
  {
   "cell_type": "code",
   "execution_count": 102,
   "id": "829891c8",
   "metadata": {},
   "outputs": [
    {
     "name": "stdout",
     "output_type": "stream",
     "text": [
      "\n",
      "Remove:  gleason with pval: 0.78\n",
      "           coefs stderr tvalues pvalues\n",
      "Intercept  0.954  0.829    1.15  0.2532\n",
      "lcavol     0.592  0.086    6.88  0.0000\n",
      "lweight    0.448  0.168    2.67  0.0090\n",
      "age       -0.019  0.011   -1.75  0.0840\n",
      "lbph       0.108  0.058    1.85  0.0672\n",
      "svi        0.758  0.241    3.14  0.0023\n",
      "lcp       -0.104  0.090   -1.15  0.2513\n",
      "pgg45      0.005  0.003    1.55  0.1249\n",
      "\n",
      "n=97 p=8 Residual SD=0.705 R-squared=0.65\n",
      "\n",
      "Remove:  lcp with pval: 0.25\n",
      "           coefs stderr tvalues pvalues\n",
      "Intercept  0.980  0.831    1.18  0.2412\n",
      "lcavol     0.546  0.076    7.14  0.0000\n",
      "lweight    0.449  0.168    2.67  0.0089\n",
      "age       -0.017  0.011   -1.59  0.1147\n",
      "lbph       0.106  0.058    1.82  0.0725\n",
      "svi        0.642  0.220    2.92  0.0044\n",
      "pgg45      0.004  0.003    1.15  0.2533\n",
      "\n",
      "n=97 p=7 Residual SD=0.706 R-squared=0.65\n",
      "\n",
      "Remove:  pgg45 with pval: 0.25\n",
      "           coefs stderr tvalues pvalues\n",
      "Intercept  0.951  0.832    1.14  0.2559\n",
      "lcavol     0.566  0.075    7.58  0.0000\n",
      "lweight    0.424  0.167    2.54  0.0128\n",
      "age       -0.015  0.011   -1.38  0.1695\n",
      "lbph       0.112  0.058    1.93  0.0572\n",
      "svi        0.721  0.209    3.45  0.0009\n",
      "\n",
      "n=97 p=6 Residual SD=0.707 R-squared=0.64\n",
      "\n",
      "Remove:  age with pval: 0.17\n",
      "          coefs stderr tvalues pvalues\n",
      "Intercept 0.146  0.597    0.24  0.8081\n",
      "lcavol    0.550  0.074    7.42  0.0000\n",
      "lweight   0.391  0.166    2.35  0.0207\n",
      "lbph      0.090  0.056    1.60  0.1121\n",
      "svi       0.712  0.210    3.39  0.0010\n",
      "\n",
      "n=97 p=5 Residual SD=0.711 R-squared=0.64\n",
      "\n",
      "Remove:  lbph with pval: 0.11\n",
      "           coefs stderr tvalues pvalues\n",
      "Intercept -0.268  0.543   -0.49  0.6230\n",
      "lcavol     0.552  0.075    7.39  0.0000\n",
      "lweight    0.509  0.150    3.39  0.0010\n",
      "svi        0.666  0.210    3.18  0.0020\n",
      "\n",
      "n=97 p=4 Residual SD=0.717 R-squared=0.63\n"
     ]
    },
    {
     "data": {
      "text/plain": [
       "['lbph', 'age', 'pgg45', 'lcp', 'gleason']"
      ]
     },
     "execution_count": 102,
     "metadata": {},
     "output_type": "execute_result"
    }
   ],
   "source": [
    "y = lmod.model.endog\n",
    "X1 = pd.DataFrame(lmod.model.exog, columns=lmod.params.index)\n",
    "\n",
    "Xi = X1\n",
    "lmodi = lmod\n",
    "mpval = lmodi.pvalues.max()\n",
    "be_imp = []\n",
    "\n",
    "while mpval > 0.05:\n",
    "    pred_to_remove = lmodi.pvalues.drop(\"Intercept\").idxmax()\n",
    "    be_imp.insert(0, pred_to_remove)\n",
    "    print(\"\\nRemove: \", pred_to_remove, \"with pval:\", mpval.round(2))\n",
    "    Xi = Xi.drop(columns=pred_to_remove)\n",
    "    lmodi = sm.OLS(y, Xi).fit()\n",
    "    lmodi.sumary()\n",
    "    mpval = lmodi.pvalues.drop(\"Intercept\").max()\n",
    "be_imp"
   ]
  },
  {
   "cell_type": "markdown",
   "id": "d5e84f51",
   "metadata": {},
   "source": [
    "Interestingly, the procedure picks the same predictors as the ones significant in the full model. </br>\n",
    "This is not always the case. It might well happend that as one remove insignificant variables the other ones become significant."
   ]
  },
  {
   "cell_type": "markdown",
   "id": "12ec086e",
   "metadata": {},
   "source": [
    "#### Recursive Feature Elimination (RFE)"
   ]
  },
  {
   "cell_type": "code",
   "execution_count": 70,
   "id": "64425deb",
   "metadata": {},
   "outputs": [
    {
     "data": {
      "text/plain": [
       "(array([ 0.59937738,  0.19552622, -0.12665462,  0.13454979,  0.27477892,\n",
       "        -0.12776184,  0.02824004,  0.11056623]),\n",
       " 9.129315014908017e-18)"
      ]
     },
     "execution_count": 70,
     "metadata": {},
     "output_type": "execute_result"
    }
   ],
   "source": [
    "from sklearn.preprocessing import scale\n",
    "scaled_prostate = pd.DataFrame(scale(prostate), columns=prostate.columns)\n",
    "X=scaled_prostate.drop(columns=\"lpsa\")\n",
    "y=scaled_prostate.loc[:, \"lpsa\"]\n",
    "\n",
    "from sklearn import linear_model\n",
    "reg = linear_model.LinearRegression(fit_intercept=False)\n",
    "reg.fit(X, y)\n",
    "reg.coef_, reg.intercept_"
   ]
  },
  {
   "cell_type": "markdown",
   "id": "80e946c6",
   "metadata": {},
   "source": [
    "Note that since the data is scaled, \n",
    "$$\\begin{cases}\n",
    "\\hat\\beta_0=0,\\\\ \n",
    "|\\hat\\beta_i| \\in [0;1]\n",
    "\\end{cases}$$\n",
    "Thus, coefficients can be interpreted as the relative contributions of the predictors to explaining the response. </br>\n",
    "This suggests the RFE method: iteratively eliminate the \"less important\" ones.\n"
   ]
  },
  {
   "cell_type": "code",
   "execution_count": 91,
   "id": "cefc922d",
   "metadata": {},
   "outputs": [
    {
     "data": {
      "text/plain": [
       "array([1, 3, 7, 4, 2, 5, 8, 6])"
      ]
     },
     "execution_count": 91,
     "metadata": {},
     "output_type": "execute_result"
    }
   ],
   "source": [
    "from sklearn.feature_selection import RFE\n",
    "selector = RFE(reg, n_features_to_select=1)\n",
    "selector = selector.fit(X, y)\n",
    "selector.ranking_"
   ]
  },
  {
   "cell_type": "markdown",
   "id": "cf29ab2a",
   "metadata": {},
   "source": [
    "This says that the first column was found to be the most relevant one, the 5th column was second best and so on. </br>\n",
    "We can get the column indices listed according to their relative importance as follows:"
   ]
  },
  {
   "cell_type": "code",
   "execution_count": 84,
   "id": "400bd155",
   "metadata": {},
   "outputs": [
    {
     "data": {
      "text/plain": [
       "array([0, 4, 1, 3, 5, 7, 2, 6])"
      ]
     },
     "execution_count": 84,
     "metadata": {},
     "output_type": "execute_result"
    }
   ],
   "source": [
    "np.argsort(selector.ranking_)"
   ]
  },
  {
   "cell_type": "code",
   "execution_count": 98,
   "id": "92261767",
   "metadata": {},
   "outputs": [
    {
     "data": {
      "text/plain": [
       "['lcavol', 'svi', 'lweight', 'lbph', 'lcp', 'pgg45', 'age', 'gleason']"
      ]
     },
     "execution_count": 98,
     "metadata": {},
     "output_type": "execute_result"
    }
   ],
   "source": [
    "rfe_imp = list(X.columns[np.argsort(selector.ranking_)])\n",
    "rfe_imp"
   ]
  },
  {
   "cell_type": "markdown",
   "id": "e27f8c41",
   "metadata": {},
   "source": [
    "We are not surprised to see `gleason` taking the last place, since, in the first iteration:"
   ]
  },
  {
   "cell_type": "code",
   "execution_count": 87,
   "id": "43291be3",
   "metadata": {},
   "outputs": [
    {
     "data": {
      "text/plain": [
       "'gleason'"
      ]
     },
     "execution_count": 87,
     "metadata": {},
     "output_type": "execute_result"
    }
   ],
   "source": [
    "X.columns[np.abs(reg.coef_).argmin()]"
   ]
  },
  {
   "cell_type": "markdown",
   "id": "9a0281be",
   "metadata": {},
   "source": [
    "If we were to change `n_features` to some other value, then the algorithm would simply stop when the specified number of features is obtained. Comparing this to the previous result, this means that the rankings shift:"
   ]
  },
  {
   "cell_type": "code",
   "execution_count": 93,
   "id": "1480ea8d",
   "metadata": {},
   "outputs": [
    {
     "data": {
      "text/plain": [
       "array([1, 2, 6, 3, 1, 4, 7, 5])"
      ]
     },
     "execution_count": 93,
     "metadata": {},
     "output_type": "execute_result"
    }
   ],
   "source": [
    "from sklearn.feature_selection import RFE\n",
    "selector = RFE(reg, n_features_to_select=2)\n",
    "selector = selector.fit(X, y)\n",
    "selector.ranking_"
   ]
  },
  {
   "cell_type": "markdown",
   "id": "b5d05ed3",
   "metadata": {},
   "source": [
    "The model has ranked `lcavol`, `svi` and `lweight` as the most important variables. </br>\n",
    "These are the same ones as turned out to be included in the model after Backward elimination. </br>\n",
    "This would not generally be the case: hypothesis-test (looking at p-values at different times) procedures. </br>\n",
    "Even in this case we see that the importance rankings for two procedures differ:"
   ]
  },
  {
   "cell_type": "code",
   "execution_count": 103,
   "id": "1823a644",
   "metadata": {},
   "outputs": [
    {
     "name": "stdout",
     "output_type": "stream",
     "text": [
      "['lbph', 'lcp', 'pgg45', 'age', 'gleason']\n"
     ]
    },
    {
     "data": {
      "text/plain": [
       "['lbph', 'age', 'pgg45', 'lcp', 'gleason']"
      ]
     },
     "execution_count": 103,
     "metadata": {},
     "output_type": "execute_result"
    }
   ],
   "source": [
    "print(rfe_imp[3:])\n",
    "be_imp"
   ]
  },
  {
   "cell_type": "markdown",
   "id": "28913787",
   "metadata": {},
   "source": [
    "Let's see how good the resulting model compares to the best one according to AIC."
   ]
  },
  {
   "cell_type": "code",
   "execution_count": 133,
   "id": "8c0a3691",
   "metadata": {},
   "outputs": [
    {
     "data": {
      "text/plain": [
       "[('None', 127.918),\n",
       " (('lcavol',), 58.915),\n",
       " (('lcavol', 'lweight'), 52.966),\n",
       " (('lcavol', 'lweight', 'svi'), 47.785),\n",
       " (('lcavol', 'lweight', 'lbph', 'svi'), 46.485),\n",
       " (('lcavol', 'lweight', 'age', 'lbph', 'svi'), 45.526),\n",
       " (('lcavol', 'lweight', 'age', 'lbph', 'svi', 'pgg45'), 44.867),\n",
       " (('lcavol', 'lweight', 'age', 'lbph', 'svi', 'lcp', 'pgg45'), 44.204),\n",
       " (('lcavol', 'lweight', 'age', 'lbph', 'svi', 'lcp', 'gleason', 'pgg45'),\n",
       "  44.163)]"
      ]
     },
     "execution_count": 133,
     "metadata": {},
     "output_type": "execute_result"
    }
   ],
   "source": [
    "import itertools\n",
    "pcols = list(X.columns)\n",
    "\n",
    "rss = np.empty(len(pcols) + 1)\n",
    "# rss for 0-predictor model\n",
    "# only one parameter \\beta_0\n",
    "# which is estimated by y.bar\n",
    "rss[0] = np. sum(\n",
    "    (prostate[\"lpsa\"] - np.mean(prostate[\"lpsa\"]))**2\n",
    ")\n",
    "selvar = ['None']\n",
    "\n",
    "for k in range(1, len(pcols)+1):\n",
    "    RSS = {}\n",
    "    for variables in itertools.combinations(pcols, k):\n",
    "        predictors = prostate.loc[:, list(variables)]\n",
    "        predictors['Intercept'] = 1\n",
    "        res = sm.OLS(prostate[\"lpsa\"], predictors).fit()\n",
    "        RSS[variables] = res.ssr\n",
    "    rss[k] = min(RSS.values())\n",
    "    selvar.append(min(RSS, key=RSS.get))\n",
    "    \n",
    "min_rss_models = list(zip(selvar, rss.round(3)))\n",
    "min_rss_models"
   ]
  },
  {
   "cell_type": "code",
   "execution_count": 110,
   "id": "d58dc489",
   "metadata": {},
   "outputs": [
    {
     "data": {
      "text/plain": [
       "Text(0, 0.5, 'min RSS')"
      ]
     },
     "execution_count": 110,
     "metadata": {},
     "output_type": "execute_result"
    },
    {
     "data": {
      "image/png": "[encoded data removed]",
      "text/plain": [
       "<Figure size 432x288 with 1 Axes>"
      ]
     },
     "metadata": {
      "needs_background": "light"
     },
     "output_type": "display_data"
    }
   ],
   "source": [
    "f, ax = plt.subplots()\n",
    "ax.plot(range(0, len(pcols)+1), rss)\n",
    "ax.set_xlabel(\"#predictors\")\n",
    "ax.set_ylabel(\"min RSS\")"
   ]
  },
  {
   "cell_type": "markdown",
   "id": "2865c80b",
   "metadata": {},
   "source": [
    "There are two commonly used measures of performance for comparing models (and therefore selecting one).\n",
    "$$  AIC = -2L(\\hat\\theta) + 2p$$\n",
    "which for linear regression under $\\epsilon \\sim \\mathcal{N_n}(\\mu,\\,\\sigma^{2}I_n)$ becomes:\n",
    "$$AIC = nlog(\\frac{RSS}{n}) +2p$$\n",
    "$$R_{adj}^2=1 - \\frac{(1-R^2)(n-1)}{n-p-1}$$"
   ]
  },
  {
   "cell_type": "code",
   "execution_count": 139,
   "id": "c72fc150",
   "metadata": {},
   "outputs": [
    {
     "name": "stdout",
     "output_type": "stream",
     "text": [
      "[ 28.83749469 -44.36607865 -52.69042533 -60.67620569 -61.35179309\n",
      " -61.37439196 -60.78867481 -60.23129517 -58.32184232] 5\n"
     ]
    },
    {
     "data": {
      "text/plain": [
       "(array([0.01030928, 0.53943191, 0.58157593, 0.61849217, 0.62488101,\n",
       "        0.62862859, 0.62998206, 0.63139377, 0.62759991]),\n",
       " 7)"
      ]
     },
     "execution_count": 139,
     "metadata": {},
     "output_type": "execute_result"
    }
   ],
   "source": [
    "n = X.shape[0]\n",
    "aic = n * np.log(rss/n) + 2*np.arange(1, len(rss)+1)\n",
    "print(aic, aic.argmin())\n",
    "\n",
    "rsq = 1 - rss/rss[0]\n",
    "rsq_adj = 1 - (1-rsq)*(n-1)/(n-np.arange(rss.shape[0]))\n",
    "rsq_adj, rsq_adj.argmax()"
   ]
  },
  {
   "cell_type": "code",
   "execution_count": 143,
   "id": "b43132c2",
   "metadata": {},
   "outputs": [
    {
     "data": {
      "image/png": "[encoded data removed]",
      "text/plain": [
       "<Figure size 1080x360 with 3 Axes>"
      ]
     },
     "metadata": {
      "needs_background": "light"
     },
     "output_type": "display_data"
    }
   ],
   "source": [
    "f, (ax1, ax2, ax3) = plt.subplots(1, 3, figsize=(15, 5))\n",
    "ax1.plot(range(0, len(rss)), rss)\n",
    "ax1.set_xlabel(\"#predictors\")\n",
    "ax1.set_ylabel(\"min RSS\")\n",
    "\n",
    "ax2.plot(range(0, len(rss)), aic)\n",
    "ax2.set_xlabel(\"#predictors\")\n",
    "ax2.set_ylabel(\"AIC for the minRSS model\")\n",
    "\n",
    "\n",
    "ax3.plot(range(0, len(rss)), rsq_adj)\n",
    "ax3.set_xlabel(\"#predictors\")\n",
    "ax3.set_ylabel(\"$R^2_{adj}$ for the minRSS model\")\n",
    "\n",
    "for ax in (ax1, ax2, ax3):\n",
    "    ax.set_xticks(range(0, len(rss)))"
   ]
  },
  {
   "cell_type": "markdown",
   "id": "30f89f62",
   "metadata": {},
   "source": [
    "Not surprisingly, the intercept for the RSS always decreases. </br>\n",
    "AIC, though being minimized at 5 predictors, has a similar value for 3 predictor model, which is:"
   ]
  },
  {
   "cell_type": "code",
   "execution_count": 134,
   "id": "f345cd3e",
   "metadata": {},
   "outputs": [
    {
     "data": {
      "text/plain": [
       "(('lcavol', 'lweight', 'svi'), 47.785)"
      ]
     },
     "execution_count": 134,
     "metadata": {},
     "output_type": "execute_result"
    }
   ],
   "source": [
    "min_rss_models[3]"
   ]
  },
  {
   "cell_type": "markdown",
   "id": "3fa71505",
   "metadata": {},
   "source": [
    "As we see, the model which is obtained and suggested by BE and RFE, respectively, has a near-optimal values in terms of $AIC$, $R^2_{adj}$"
   ]
  },
  {
   "cell_type": "markdown",
   "id": "a8e05468",
   "metadata": {},
   "source": [
    "### Sample spliting\n",
    "is an alternative approach for choosing between several existing models.</br>\n",
    "It might be complicated by the relatively small sample size"
   ]
  },
  {
   "cell_type": "markdown",
   "id": "484b84ec",
   "metadata": {},
   "source": []
  },
  {
   "cell_type": "code",
   "execution_count": null,
   "id": "62594f4c",
   "metadata": {},
   "outputs": [],
   "source": []
  }
 ],
 "metadata": {
  "hide_input": false,
  "kernelspec": {
   "display_name": "Python 3 (ipykernel)",
   "language": "python",
   "name": "python3"
  },
  "language_info": {
   "codemirror_mode": {
    "name": "ipython",
    "version": 3
   },
   "file_extension": ".py",
   "mimetype": "text/x-python",
   "name": "python",
   "nbconvert_exporter": "python",
   "pygments_lexer": "ipython3",
   "version": "3.10.6"
  }
 },
 "nbformat": 4,
 "nbformat_minor": 5
}
