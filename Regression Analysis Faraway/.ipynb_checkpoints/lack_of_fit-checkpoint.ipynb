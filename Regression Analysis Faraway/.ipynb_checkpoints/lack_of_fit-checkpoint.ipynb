{
 "cells": [
  {
   "cell_type": "code",
   "execution_count": null,
   "id": "b67c1de8",
   "metadata": {
    "collapsed": true
   },
   "outputs": [],
   "source": [
    "import numpy as np\n",
    "import pandas as pd \n",
    "import matplotlib.pyplot as plt\n",
    "import statsmodels.api as sm\n",
    "import statsmodels.formula.api as smf\n",
    "import seaborn as sns\n",
    "import scipy as sp\n",
    "import faraway.utils"
   ]
  },
  {
   "cell_type": "code",
   "execution_count": null,
   "id": "2a6184e2",
   "metadata": {},
   "outputs": [],
   "source": [
    "import faraway.datasets.salmonella\n",
    "salmonella = faraway.datasets.salmonella.load()\n",
    "salmonella.head()"
   ]
  },
  {
   "cell_type": "code",
   "execution_count": null,
   "id": "6e5f623d",
   "metadata": {},
   "outputs": [],
   "source": [
    "print(faraway.datasets.salmonella.DESCR)"
   ]
  },
  {
   "cell_type": "code",
   "execution_count": 3,
   "id": "fe1d407f",
   "metadata": {},
   "outputs": [
    {
     "data": {
      "text/plain": [
       "0       3\n",
       "10      3\n",
       "33      3\n",
       "100     3\n",
       "333     3\n",
       "1000    3\n",
       "Name: dose, dtype: int64"
      ]
     },
     "execution_count": 3,
     "metadata": {},
     "output_type": "execute_result"
    }
   ],
   "source": [
    "salmonella[\"dose\"].value_counts()"
   ]
  },
  {
   "cell_type": "code",
   "execution_count": 12,
   "id": "0730943f",
   "metadata": {},
   "outputs": [
    {
     "data": {
      "text/plain": [
       "<AxesSubplot:xlabel='dose', ylabel='colonies'>"
      ]
     },
     "execution_count": 12,
     "metadata": {},
     "output_type": "execute_result"
    },
    {
     "data": {
      "image/png": "[encoded data removed]",
      "text/plain": [
       "<Figure size 432x288 with 1 Axes>"
      ]
     },
     "metadata": {
      "needs_background": "light"
     },
     "output_type": "display_data"
    }
   ],
   "source": [
    "sns.boxplot(y=\"colonies\", x=\"dose\", data=salmonella)"
   ]
  },
  {
   "cell_type": "code",
   "execution_count": 14,
   "id": "e8200b52",
   "metadata": {},
   "outputs": [
    {
     "name": "stdout",
     "output_type": "stream",
     "text": [
      "                  coefs stderr tvalues pvalues\n",
      "Intercept        19.823  5.064    3.91  0.0012\n",
      "np.log(dose + 1)  2.396  1.128    2.12  0.0495\n",
      "\n",
      "n=18 p=2 Residual SD=10.843 R-squared=0.22\n"
     ]
    }
   ],
   "source": [
    "import faraway.utils \n",
    "lmod = smf.ols(\"colonies ~ np.log(dose+1)\", data=salmonella).fit()\n",
    "lmod.sumary()"
   ]
  },
  {
   "cell_type": "markdown",
   "id": "4b153a82",
   "metadata": {},
   "source": [
    "In order to check for a lack of fit, we compare $\\hat\\sigma^2$ to $\\sigma^2$. </br>\n",
    "Usually, $\\sigma^2$ is unknown, so we have to estimate it somehow, model-free. </br>\n",
    "The method presented in the chapter required responses for the same sets of predictors. Then, we average the variations in such groups and form an estimate. </br>\n",
    "The data is precisely suitable for this."
   ]
  },
  {
   "cell_type": "code",
   "execution_count": 15,
   "id": "e5bc9a02",
   "metadata": {},
   "outputs": [],
   "source": [
    "%run utils.ipynb"
   ]
  },
  {
   "cell_type": "code",
   "execution_count": 42,
   "id": "117b77f3",
   "metadata": {},
   "outputs": [
    {
     "name": "stdout",
     "output_type": "stream",
     "text": [
      "                 coefs stderr tvalues pvalues\n",
      "Intercept       21.667  5.506    3.94  0.0020\n",
      "dosecat[T.10]   -3.333  7.787   -0.43  0.6762\n",
      "dosecat[T.33]    3.333  7.787    0.43  0.6762\n",
      "dosecat[T.100]  21.000  7.787    2.70  0.0194\n",
      "dosecat[T.333]  15.667  7.787    2.01  0.0672\n",
      "dosecat[T.1000]  8.000  7.787    1.03  0.3245\n",
      "\n",
      "n=18 p=6 Residual SD=9.536 R-squared=0.55\n"
     ]
    }
   ],
   "source": [
    "salmonella[\"dosecat\"] = salmonella[\"dose\"].astype(\"category\")\n",
    "\n",
    "lmod_cat = smf.ols(\"colonies ~ dosecat\", data=salmonella).fit()\n",
    "lmod_cat.sumary()"
   ]
  },
  {
   "cell_type": "markdown",
   "id": "8e9db390",
   "metadata": {},
   "source": [
    "Here is the meaning of this model:"
   ]
  },
  {
   "cell_type": "code",
   "execution_count": 43,
   "id": "7e21f860",
   "metadata": {},
   "outputs": [
    {
     "data": {
      "text/plain": [
       "(0     21.666667\n",
       " 1     21.666667\n",
       " 2     21.666667\n",
       " 3     18.333333\n",
       " 4     18.333333\n",
       " 5     18.333333\n",
       " 6     25.000000\n",
       " 7     25.000000\n",
       " 8     25.000000\n",
       " 9     42.666667\n",
       " 10    42.666667\n",
       " 11    42.666667\n",
       " 12    37.333333\n",
       " 13    37.333333\n",
       " 14    37.333333\n",
       " 15    29.666667\n",
       " 16    29.666667\n",
       " 17    29.666667\n",
       " dtype: float64,\n",
       " dosecat\n",
       " 0       21.666667\n",
       " 10      18.333333\n",
       " 33      25.000000\n",
       " 100     42.666667\n",
       " 333     37.333333\n",
       " 1000    29.666667\n",
       " Name: colonies, dtype: float64)"
      ]
     },
     "execution_count": 43,
     "metadata": {},
     "output_type": "execute_result"
    }
   ],
   "source": [
    "lmod_cat.fittedvalues, salmonella.groupby(\"dosecat\").mean()[\"colonies\"]"
   ]
  },
  {
   "cell_type": "markdown",
   "id": "d3afa15c",
   "metadata": {},
   "source": [
    "It basically fits the mean to each group of observatons. Then the $\\hat\\sigma$ is equal to sum of each group's variations. </br>"
   ]
  },
  {
   "cell_type": "code",
   "execution_count": 44,
   "id": "7b8ab102",
   "metadata": {},
   "outputs": [
    {
     "data": {
      "text/plain": [
       "(2.1709130036358295, 0.1341968033845776, 4.0)"
      ]
     },
     "execution_count": 44,
     "metadata": {},
     "output_type": "execute_result"
    }
   ],
   "source": [
    "lmod_cat.compare_f_test(lmod)"
   ]
  },
  {
   "cell_type": "markdown",
   "id": "4d864f46",
   "metadata": {},
   "source": [
    "No significant difference between two groups. We conlcude that there is no lack of fit."
   ]
  },
  {
   "cell_type": "markdown",
   "id": "0e4b1002",
   "metadata": {},
   "source": [
    "### Example from the book"
   ]
  },
  {
   "cell_type": "code",
   "execution_count": 50,
   "id": "c05a29dc",
   "metadata": {},
   "outputs": [
    {
     "name": "stdout",
     "output_type": "stream",
     "text": [
      "            coefs stderr tvalues pvalues\n",
      "Intercept 129.787  1.403   92.52  0.0000\n",
      "Fe        -24.020  1.280  -18.77  0.0000\n",
      "\n",
      "n=13 p=2 Residual SD=3.058 R-squared=0.97\n"
     ]
    }
   ],
   "source": [
    "import faraway.datasets.corrosion\n",
    "corrosion = faraway.datasets.corrosion.load()\n",
    "lmod = smf.ols('loss ~ Fe', corrosion).fit()\n",
    "lmod.sumary()"
   ]
  },
  {
   "cell_type": "code",
   "execution_count": 53,
   "id": "b423c525",
   "metadata": {},
   "outputs": [
    {
     "name": "stdout",
     "output_type": "stream",
     "text": [
      "                coefs stderr tvalues pvalues\n",
      "Intercept     128.567  0.809  158.91  0.0000\n",
      "Fecat[T.0.48]  -5.567  1.279   -4.35  0.0048\n",
      "Fecat[T.0.71] -16.617  1.279  -12.99  0.0000\n",
      "Fecat[T.0.95] -24.667  1.618  -15.24  0.0000\n",
      "Fecat[T.1.19] -27.067  1.618  -16.73  0.0000\n",
      "Fecat[T.1.44] -36.717  1.279  -28.70  0.0000\n",
      "Fecat[T.1.96] -43.617  1.279  -34.10  0.0000\n",
      "\n",
      "n=13 p=7 Residual SD=1.401 R-squared=1.00\n"
     ]
    }
   ],
   "source": [
    "corrosion[\"Fecat\"] = corrosion[\"Fe\"].astype(\"category\")\n",
    "lmod_cat = smf.ols(\"loss ~ Fecat\", corrosion).fit()\n",
    "lmod_cat.sumary()"
   ]
  },
  {
   "cell_type": "code",
   "execution_count": 63,
   "id": "68f969ab",
   "metadata": {},
   "outputs": [
    {
     "data": {
      "text/html": [
       "<div>\n",
       "<style scoped>\n",
       "    .dataframe tbody tr th:only-of-type {\n",
       "        vertical-align: middle;\n",
       "    }\n",
       "\n",
       "    .dataframe tbody tr th {\n",
       "        vertical-align: top;\n",
       "    }\n",
       "\n",
       "    .dataframe thead th {\n",
       "        text-align: right;\n",
       "    }\n",
       "</style>\n",
       "<table border=\"1\" class=\"dataframe\">\n",
       "  <thead>\n",
       "    <tr style=\"text-align: right;\">\n",
       "      <th></th>\n",
       "      <th>mean</th>\n",
       "      <th>#members</th>\n",
       "    </tr>\n",
       "  </thead>\n",
       "  <tbody>\n",
       "    <tr>\n",
       "      <th>0</th>\n",
       "      <td>128.566667</td>\n",
       "      <td>3</td>\n",
       "    </tr>\n",
       "    <tr>\n",
       "      <th>1</th>\n",
       "      <td>123.000000</td>\n",
       "      <td>2</td>\n",
       "    </tr>\n",
       "    <tr>\n",
       "      <th>2</th>\n",
       "      <td>111.950000</td>\n",
       "      <td>2</td>\n",
       "    </tr>\n",
       "    <tr>\n",
       "      <th>3</th>\n",
       "      <td>91.850000</td>\n",
       "      <td>2</td>\n",
       "    </tr>\n",
       "    <tr>\n",
       "      <th>4</th>\n",
       "      <td>84.950000</td>\n",
       "      <td>2</td>\n",
       "    </tr>\n",
       "    <tr>\n",
       "      <th>5</th>\n",
       "      <td>103.900000</td>\n",
       "      <td>1</td>\n",
       "    </tr>\n",
       "    <tr>\n",
       "      <th>6</th>\n",
       "      <td>101.500000</td>\n",
       "      <td>1</td>\n",
       "    </tr>\n",
       "  </tbody>\n",
       "</table>\n",
       "</div>"
      ],
      "text/plain": [
       "         mean  #members\n",
       "0  128.566667         3\n",
       "1  123.000000         2\n",
       "2  111.950000         2\n",
       "3   91.850000         2\n",
       "4   84.950000         2\n",
       "5  103.900000         1\n",
       "6  101.500000         1"
      ]
     },
     "execution_count": 63,
     "metadata": {},
     "output_type": "execute_result"
    }
   ],
   "source": [
    "a = lmod_cat.fittedvalues.value_counts()\n",
    "pd.DataFrame({\"mean\": a.index, \"#members\": a.values})"
   ]
  },
  {
   "cell_type": "markdown",
   "id": "b06a304f",
   "metadata": {},
   "source": [
    "### Cars"
   ]
  },
  {
   "cell_type": "code",
   "execution_count": 66,
   "id": "8b8e8e05",
   "metadata": {},
   "outputs": [
    {
     "data": {
      "text/html": [
       "<div>\n",
       "<style scoped>\n",
       "    .dataframe tbody tr th:only-of-type {\n",
       "        vertical-align: middle;\n",
       "    }\n",
       "\n",
       "    .dataframe tbody tr th {\n",
       "        vertical-align: top;\n",
       "    }\n",
       "\n",
       "    .dataframe thead th {\n",
       "        text-align: right;\n",
       "    }\n",
       "</style>\n",
       "<table border=\"1\" class=\"dataframe\">\n",
       "  <thead>\n",
       "    <tr style=\"text-align: right;\">\n",
       "      <th></th>\n",
       "      <th>speed</th>\n",
       "      <th>dist</th>\n",
       "    </tr>\n",
       "  </thead>\n",
       "  <tbody>\n",
       "    <tr>\n",
       "      <th>0</th>\n",
       "      <td>4</td>\n",
       "      <td>2</td>\n",
       "    </tr>\n",
       "    <tr>\n",
       "      <th>1</th>\n",
       "      <td>4</td>\n",
       "      <td>10</td>\n",
       "    </tr>\n",
       "    <tr>\n",
       "      <th>2</th>\n",
       "      <td>7</td>\n",
       "      <td>4</td>\n",
       "    </tr>\n",
       "    <tr>\n",
       "      <th>3</th>\n",
       "      <td>7</td>\n",
       "      <td>22</td>\n",
       "    </tr>\n",
       "    <tr>\n",
       "      <th>4</th>\n",
       "      <td>8</td>\n",
       "      <td>16</td>\n",
       "    </tr>\n",
       "  </tbody>\n",
       "</table>\n",
       "</div>"
      ],
      "text/plain": [
       "   speed  dist\n",
       "0      4     2\n",
       "1      4    10\n",
       "2      7     4\n",
       "3      7    22\n",
       "4      8    16"
      ]
     },
     "execution_count": 66,
     "metadata": {},
     "output_type": "execute_result"
    }
   ],
   "source": [
    "import faraway.datasets.cars\n",
    "cars = faraway.datasets.cars.load()\n",
    "cars.head()"
   ]
  },
  {
   "cell_type": "code",
   "execution_count": 67,
   "id": "6fe96b8a",
   "metadata": {},
   "outputs": [
    {
     "name": "stdout",
     "output_type": "stream",
     "text": [
      "\n",
      "Speed and Stopping Distances of Cars\n",
      "\n",
      "Description\n",
      "\n",
      "The data give the speed of cars and the distances taken to stop. Note that the data were recorded in the 1920s.\n",
      "\n",
      "A data frame with 50 observations on 2 variables.\n",
      "\n",
      "speed\tnumeric\tSpeed (mph)\n",
      "dist\tnumeric\tStopping distance (ft)\n",
      "\n",
      "Source\n",
      "\n",
      "Ezekiel, M. (1930) Methods of Correlation Analysis. Wiley.\n",
      "\n",
      "References\n",
      "\n",
      "McNeil, D. R. (1977) Interactive Data Analysis. Wiley.\n",
      "\n"
     ]
    }
   ],
   "source": [
    "print(faraway.datasets.cars.DESCR)"
   ]
  },
  {
   "cell_type": "code",
   "execution_count": 69,
   "id": "4f03b4d1",
   "metadata": {},
   "outputs": [
    {
     "name": "stdout",
     "output_type": "stream",
     "text": [
      "            coefs stderr tvalues pvalues\n",
      "Intercept -17.579  6.758   -2.60  0.0123\n",
      "speed       3.932  0.416    9.46  0.0000\n",
      "\n",
      "n=50 p=2 Residual SD=15.380 R-squared=0.65\n"
     ]
    }
   ],
   "source": [
    "lmod = smf.ols('dist ~ speed', cars).fit()\n",
    "lmod.sumary()"
   ]
  },
  {
   "cell_type": "code",
   "execution_count": 70,
   "id": "465c5df9",
   "metadata": {},
   "outputs": [
    {
     "data": {
      "text/plain": [
       "(<Figure size 1440x504 with 2 Axes>,\n",
       " array([<AxesSubplot:xlabel='y.hat', ylabel='e.hat'>,\n",
       "        <AxesSubplot:xlabel='y.hat', ylabel='sqrt(|e.hat|)'>], dtype=object))"
      ]
     },
     "execution_count": 70,
     "metadata": {},
     "output_type": "execute_result"
    },
    {
     "data": {
      "image/png": "[encoded data removed]",
      "text/plain": [
       "<Figure size 1440x504 with 2 Axes>"
      ]
     },
     "metadata": {
      "needs_background": "light"
     },
     "output_type": "display_data"
    }
   ],
   "source": [
    "resid_yhat_plot(lmod)"
   ]
  },
  {
   "cell_type": "code",
   "execution_count": 73,
   "id": "8bba71c7",
   "metadata": {},
   "outputs": [
    {
     "data": {
      "text/plain": [
       "20    5\n",
       "24    4\n",
       "12    4\n",
       "13    4\n",
       "14    4\n",
       "18    4\n",
       "15    3\n",
       "17    3\n",
       "10    3\n",
       "19    3\n",
       "4     2\n",
       "16    2\n",
       "7     2\n",
       "11    2\n",
       "9     1\n",
       "22    1\n",
       "23    1\n",
       "8     1\n",
       "25    1\n",
       "Name: speed, dtype: int64"
      ]
     },
     "execution_count": 73,
     "metadata": {},
     "output_type": "execute_result"
    }
   ],
   "source": [
    "cars[\"speed\"].value_counts()"
   ]
  },
  {
   "cell_type": "markdown",
   "id": "32766b56",
   "metadata": {},
   "source": [
    "We once again have records with the same predictor, which allows us to carry out"
   ]
  },
  {
   "cell_type": "code",
   "execution_count": 78,
   "id": "017b682c",
   "metadata": {},
   "outputs": [
    {
     "name": "stdout",
     "output_type": "stream",
     "text": [
      "                coefs stderr tvalues pvalues\n",
      "Intercept       6.000 10.446    0.57  0.5698\n",
      "speedcat[T.7]   7.000 14.772    0.47  0.6389\n",
      "speedcat[T.8]  10.000 18.092    0.55  0.5844\n",
      "speedcat[T.9]   4.000 18.092    0.22  0.8265\n",
      "speedcat[T.10] 20.000 13.485    1.48  0.1481\n",
      "speedcat[T.11] 16.500 14.772    1.12  0.2726\n",
      "speedcat[T.12] 15.500 12.793    1.21  0.2348\n",
      "speedcat[T.13] 29.000 12.793    2.27  0.0305\n",
      "speedcat[T.14] 44.500 12.793    3.48  0.0015\n",
      "speedcat[T.15] 27.333 13.485    2.03  0.0513\n",
      "speedcat[T.16] 30.000 14.772    2.03  0.0509\n",
      "speedcat[T.17] 34.667 13.485    2.57  0.0152\n",
      "speedcat[T.18] 58.500 12.793    4.57  0.0001\n",
      "speedcat[T.19] 44.000 13.485    3.26  0.0027\n",
      "speedcat[T.20] 44.400 12.359    3.59  0.0011\n",
      "speedcat[T.22] 60.000 18.092    3.32  0.0023\n",
      "speedcat[T.23] 48.000 18.092    2.65  0.0125\n",
      "speedcat[T.24] 87.750 12.793    6.86  0.0000\n",
      "speedcat[T.25] 79.000 18.092    4.37  0.0001\n",
      "\n",
      "n=50 p=19 Residual SD=14.772 R-squared=0.79\n"
     ]
    }
   ],
   "source": [
    "cars[\"speedcat\"] = cars[\"speed\"].astype(\"category\")\n",
    "lmod_cat = smf.ols(\"dist ~ speedcat\", cars).fit()\n",
    "lmod_cat.sumary()"
   ]
  },
  {
   "cell_type": "code",
   "execution_count": 93,
   "id": "1527861b",
   "metadata": {},
   "outputs": [
    {
     "data": {
      "text/plain": [
       "(1.2369499182598478, 0.2948373967970451, 17.0)"
      ]
     },
     "execution_count": 93,
     "metadata": {},
     "output_type": "execute_result"
    }
   ],
   "source": [
    "lmod_cat.compare_f_test(lmod)"
   ]
  },
  {
   "cell_type": "markdown",
   "id": "9046f1a6",
   "metadata": {},
   "source": [
    "Once again, no lack of fit"
   ]
  },
  {
   "cell_type": "code",
   "execution_count": null,
   "id": "d791df04",
   "metadata": {},
   "outputs": [],
   "source": []
  }
 ],
 "metadata": {
  "kernelspec": {
   "display_name": "Python 3 (ipykernel)",
   "language": "python",
   "name": "python3"
  },
  "language_info": {
   "codemirror_mode": {
    "name": "ipython",
    "version": 3
   },
   "file_extension": ".py",
   "mimetype": "text/x-python",
   "name": "python",
   "nbconvert_exporter": "python",
   "pygments_lexer": "ipython3",
   "version": "3.10.4"
  }
 },
 "nbformat": 4,
 "nbformat_minor": 5
}
