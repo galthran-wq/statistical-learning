{
 "cells": [
  {
   "cell_type": "code",
   "execution_count": 2,
   "id": "fab38025",
   "metadata": {},
   "outputs": [],
   "source": [
    "import numpy as np\n",
    "import pandas as pd \n",
    "import matplotlib.pyplot as plt\n",
    "import statsmodels.api as sm\n",
    "import statsmodels.formula.api as smf\n",
    "import seaborn as sns\n",
    "import scipy as sp\n",
    "import faraway.utils"
   ]
  },
  {
   "cell_type": "code",
   "execution_count": 3,
   "id": "f20d13b1",
   "metadata": {},
   "outputs": [
    {
     "data": {
      "text/html": [
       "<div>\n",
       "<style scoped>\n",
       "    .dataframe tbody tr th:only-of-type {\n",
       "        vertical-align: middle;\n",
       "    }\n",
       "\n",
       "    .dataframe tbody tr th {\n",
       "        vertical-align: top;\n",
       "    }\n",
       "\n",
       "    .dataframe thead th {\n",
       "        text-align: right;\n",
       "    }\n",
       "</style>\n",
       "<table border=\"1\" class=\"dataframe\">\n",
       "  <thead>\n",
       "    <tr style=\"text-align: right;\">\n",
       "      <th></th>\n",
       "      <th>STACKLOSS</th>\n",
       "      <th>AIRFLOW</th>\n",
       "      <th>WATERTEMP</th>\n",
       "      <th>ACIDCONC</th>\n",
       "    </tr>\n",
       "  </thead>\n",
       "  <tbody>\n",
       "    <tr>\n",
       "      <th>0</th>\n",
       "      <td>42.0</td>\n",
       "      <td>80.0</td>\n",
       "      <td>27.0</td>\n",
       "      <td>89.0</td>\n",
       "    </tr>\n",
       "    <tr>\n",
       "      <th>1</th>\n",
       "      <td>37.0</td>\n",
       "      <td>80.0</td>\n",
       "      <td>27.0</td>\n",
       "      <td>88.0</td>\n",
       "    </tr>\n",
       "    <tr>\n",
       "      <th>2</th>\n",
       "      <td>37.0</td>\n",
       "      <td>75.0</td>\n",
       "      <td>25.0</td>\n",
       "      <td>90.0</td>\n",
       "    </tr>\n",
       "    <tr>\n",
       "      <th>3</th>\n",
       "      <td>28.0</td>\n",
       "      <td>62.0</td>\n",
       "      <td>24.0</td>\n",
       "      <td>87.0</td>\n",
       "    </tr>\n",
       "    <tr>\n",
       "      <th>4</th>\n",
       "      <td>18.0</td>\n",
       "      <td>62.0</td>\n",
       "      <td>22.0</td>\n",
       "      <td>87.0</td>\n",
       "    </tr>\n",
       "  </tbody>\n",
       "</table>\n",
       "</div>"
      ],
      "text/plain": [
       "   STACKLOSS  AIRFLOW  WATERTEMP  ACIDCONC\n",
       "0       42.0     80.0       27.0      89.0\n",
       "1       37.0     80.0       27.0      88.0\n",
       "2       37.0     75.0       25.0      90.0\n",
       "3       28.0     62.0       24.0      87.0\n",
       "4       18.0     62.0       22.0      87.0"
      ]
     },
     "execution_count": 3,
     "metadata": {},
     "output_type": "execute_result"
    }
   ],
   "source": [
    "stackloss = sm.datasets.stackloss.load_pandas().data\n",
    "stackloss.head()"
   ]
  },
  {
   "cell_type": "markdown",
   "id": "f1ea8b4a",
   "metadata": {},
   "source": [
    "**Description**\n",
    "Data from the operation of a plant for the oxidation of ammonia to nitric acid, measured on 21 consecutive days.\n",
    "\n",
    "**Format**</br>\n",
    "stackloss is a dataframe with 21 observations on the following 4 numeric variables.</br>\n",
    "*Air.Flow* </br>\n",
    "    air flow to the plant.</br>\n",
    "*Water.Temp*</br>\n",
    "    cooling water inlet temperature.</br>\n",
    "*Acid.Conc.*</br>\n",
    "    acid concentration (percentage minus 50 times 10).</br>\n",
    "*stack.loss*</br>\n",
    "    ammonia lost (percentage times 10). This is generally used as the response variable.</br>"
   ]
  },
  {
   "cell_type": "code",
   "execution_count": 4,
   "id": "4fd57158",
   "metadata": {
    "scrolled": true
   },
   "outputs": [
    {
     "name": "stdout",
     "output_type": "stream",
     "text": [
      "            coefs stderr tvalues pvalues\n",
      "Intercept -39.920 11.896   -3.36  0.0038\n",
      "AIRFLOW     0.716  0.135    5.31  0.0001\n",
      "WATERTEMP   1.295  0.368    3.52  0.0026\n",
      "ACIDCONC   -0.152  0.156   -0.97  0.3440\n",
      "\n",
      "n=21 p=4 Residual SD=3.243 R-squared=0.91\n"
     ]
    }
   ],
   "source": [
    "import faraway.utils\n",
    "olsmod = smf.ols(\"STACKLOSS ~ AIRFLOW + WATERTEMP + ACIDCONC\", stackloss).fit()\n",
    "olsmod.sumary()"
   ]
  },
  {
   "cell_type": "code",
   "execution_count": 5,
   "id": "282e7fe9",
   "metadata": {},
   "outputs": [],
   "source": [
    "%run utils.ipynb"
   ]
  },
  {
   "cell_type": "code",
   "execution_count": 6,
   "id": "45e72477",
   "metadata": {},
   "outputs": [
    {
     "data": {
      "text/plain": [
       "(<Figure size 1440x504 with 2 Axes>,\n",
       " array([<AxesSubplot:xlabel='y.hat', ylabel='e.hat'>,\n",
       "        <AxesSubplot:xlabel='y.hat', ylabel='sqrt(|e.hat|)'>], dtype=object))"
      ]
     },
     "execution_count": 6,
     "metadata": {},
     "output_type": "execute_result"
    },
    {
     "data": {
      "image/png": "[encoded data removed]",
      "text/plain": [
       "<Figure size 1440x504 with 2 Axes>"
      ]
     },
     "metadata": {
      "needs_background": "light"
     },
     "output_type": "display_data"
    }
   ],
   "source": [
    "resid_yhat_plot(olsmod)"
   ]
  },
  {
   "cell_type": "code",
   "execution_count": 7,
   "id": "75ea5c0a",
   "metadata": {},
   "outputs": [
    {
     "data": {
      "text/html": [
       "<table class=\"simpletable\">\n",
       "<caption>Robust linear Model Regression Results</caption>\n",
       "<tr>\n",
       "  <th>Dep. Variable:</th>          <td>y</td>        <th>  No. Observations:  </th> <td>    21</td>\n",
       "</tr>\n",
       "<tr>\n",
       "  <th>Model:</th>                 <td>RLM</td>       <th>  Df Residuals:      </th> <td>    17</td>\n",
       "</tr>\n",
       "<tr>\n",
       "  <th>Method:</th>               <td>IRLS</td>       <th>  Df Model:          </th> <td>     3</td>\n",
       "</tr>\n",
       "<tr>\n",
       "  <th>Norm:</th>                <td>HuberT</td>      <th>                     </th>    <td> </td>  \n",
       "</tr>\n",
       "<tr>\n",
       "  <th>Scale Est.:</th>            <td>mad</td>       <th>                     </th>    <td> </td>  \n",
       "</tr>\n",
       "<tr>\n",
       "  <th>Cov Type:</th>              <td>H1</td>        <th>                     </th>    <td> </td>  \n",
       "</tr>\n",
       "<tr>\n",
       "  <th>Date:</th>           <td>Mon, 22 Aug 2022</td> <th>                     </th>    <td> </td>  \n",
       "</tr>\n",
       "<tr>\n",
       "  <th>Time:</th>               <td>19:35:01</td>     <th>                     </th>    <td> </td>  \n",
       "</tr>\n",
       "<tr>\n",
       "  <th>No. Iterations:</th>        <td>19</td>        <th>                     </th>    <td> </td>  \n",
       "</tr>\n",
       "</table>\n",
       "<table class=\"simpletable\">\n",
       "<tr>\n",
       "      <td></td>         <th>coef</th>     <th>std err</th>      <th>z</th>      <th>P>|z|</th>  <th>[0.025</th>    <th>0.975]</th>  \n",
       "</tr>\n",
       "<tr>\n",
       "  <th>Intercept</th> <td>  -41.0265</td> <td>    9.792</td> <td>   -4.190</td> <td> 0.000</td> <td>  -60.218</td> <td>  -21.835</td>\n",
       "</tr>\n",
       "<tr>\n",
       "  <th>AIRFLOW</th>   <td>    0.8294</td> <td>    0.111</td> <td>    7.472</td> <td> 0.000</td> <td>    0.612</td> <td>    1.047</td>\n",
       "</tr>\n",
       "<tr>\n",
       "  <th>WATERTEMP</th> <td>    0.9261</td> <td>    0.303</td> <td>    3.057</td> <td> 0.002</td> <td>    0.332</td> <td>    1.520</td>\n",
       "</tr>\n",
       "<tr>\n",
       "  <th>ACIDCONC</th>  <td>   -0.1278</td> <td>    0.129</td> <td>   -0.994</td> <td> 0.320</td> <td>   -0.380</td> <td>    0.124</td>\n",
       "</tr>\n",
       "</table><br/><br/>If the model instance has been used for another fit with different fit parameters, then the fit options might not be the correct ones anymore ."
      ],
      "text/plain": [
       "<class 'statsmodels.iolib.summary.Summary'>\n",
       "\"\"\"\n",
       "                    Robust linear Model Regression Results                    \n",
       "==============================================================================\n",
       "Dep. Variable:                      y   No. Observations:                   21\n",
       "Model:                            RLM   Df Residuals:                       17\n",
       "Method:                          IRLS   Df Model:                            3\n",
       "Norm:                          HuberT                                         \n",
       "Scale Est.:                       mad                                         \n",
       "Cov Type:                          H1                                         \n",
       "Date:                Mon, 22 Aug 2022                                         \n",
       "Time:                        19:35:01                                         \n",
       "No. Iterations:                    19                                         \n",
       "==============================================================================\n",
       "                 coef    std err          z      P>|z|      [0.025      0.975]\n",
       "------------------------------------------------------------------------------\n",
       "Intercept    -41.0265      9.792     -4.190      0.000     -60.218     -21.835\n",
       "AIRFLOW        0.8294      0.111      7.472      0.000       0.612       1.047\n",
       "WATERTEMP      0.9261      0.303      3.057      0.002       0.332       1.520\n",
       "ACIDCONC      -0.1278      0.129     -0.994      0.320      -0.380       0.124\n",
       "==============================================================================\n",
       "\n",
       "If the model instance has been used for another fit with different fit parameters, then the fit options might not be the correct ones anymore .\n",
       "\"\"\""
      ]
     },
     "execution_count": 7,
     "metadata": {},
     "output_type": "execute_result"
    }
   ],
   "source": [
    "X = pd.DataFrame(olsmod.model.wexog, columns=olsmod.params.index)\n",
    "y = olsmod.model.wendog\n",
    "rlmod_huber = sm.RLM(y, X, M=sm.robust.norms.HuberT()).fit()\n",
    "rlmod_huber.summary()"
   ]
  },
  {
   "cell_type": "code",
   "execution_count": 8,
   "id": "662f4e43",
   "metadata": {},
   "outputs": [
    {
     "data": {
      "text/plain": [
       "2     0.785813\n",
       "3     0.504867\n",
       "20    0.368092\n",
       "dtype: float64"
      ]
     },
     "execution_count": 8,
     "metadata": {},
     "output_type": "execute_result"
    }
   ],
   "source": [
    "rlmod_huber.weights[rlmod_huber.weights<1]"
   ]
  },
  {
   "cell_type": "code",
   "execution_count": 9,
   "id": "029aeaaa",
   "metadata": {},
   "outputs": [
    {
     "data": {
      "text/html": [
       "<table class=\"simpletable\">\n",
       "<caption>QuantReg Regression Results</caption>\n",
       "<tr>\n",
       "  <th>Dep. Variable:</th>         <td>y</td>        <th>  Pseudo R-squared:  </th> <td>  0.7098</td>\n",
       "</tr>\n",
       "<tr>\n",
       "  <th>Model:</th>             <td>QuantReg</td>     <th>  Bandwidth:         </th> <td>   2.723</td>\n",
       "</tr>\n",
       "<tr>\n",
       "  <th>Method:</th>          <td>Least Squares</td>  <th>  Sparsity:          </th> <td>   5.498</td>\n",
       "</tr>\n",
       "<tr>\n",
       "  <th>Date:</th>          <td>Mon, 22 Aug 2022</td> <th>  No. Observations:  </th>  <td>    21</td> \n",
       "</tr>\n",
       "<tr>\n",
       "  <th>Time:</th>              <td>19:35:01</td>     <th>  Df Residuals:      </th>  <td>    17</td> \n",
       "</tr>\n",
       "<tr>\n",
       "  <th> </th>                      <td> </td>        <th>  Df Model:          </th>  <td>     3</td> \n",
       "</tr>\n",
       "</table>\n",
       "<table class=\"simpletable\">\n",
       "<tr>\n",
       "      <td></td>         <th>coef</th>     <th>std err</th>      <th>t</th>      <th>P>|t|</th>  <th>[0.025</th>    <th>0.975]</th>  \n",
       "</tr>\n",
       "<tr>\n",
       "  <th>Intercept</th> <td>  -39.6899</td> <td>   10.082</td> <td>   -3.937</td> <td> 0.001</td> <td>  -60.962</td> <td>  -18.418</td>\n",
       "</tr>\n",
       "<tr>\n",
       "  <th>AIRFLOW</th>   <td>    0.8319</td> <td>    0.114</td> <td>    7.278</td> <td> 0.000</td> <td>    0.591</td> <td>    1.073</td>\n",
       "</tr>\n",
       "<tr>\n",
       "  <th>WATERTEMP</th> <td>    0.5739</td> <td>    0.312</td> <td>    1.840</td> <td> 0.083</td> <td>   -0.084</td> <td>    1.232</td>\n",
       "</tr>\n",
       "<tr>\n",
       "  <th>ACIDCONC</th>  <td>   -0.0609</td> <td>    0.132</td> <td>   -0.460</td> <td> 0.652</td> <td>   -0.340</td> <td>    0.219</td>\n",
       "</tr>\n",
       "</table><br/><br/>The condition number is large, 1.81e+03. This might indicate that there are<br/>strong multicollinearity or other numerical problems."
      ],
      "text/plain": [
       "<class 'statsmodels.iolib.summary.Summary'>\n",
       "\"\"\"\n",
       "                         QuantReg Regression Results                          \n",
       "==============================================================================\n",
       "Dep. Variable:                      y   Pseudo R-squared:               0.7098\n",
       "Model:                       QuantReg   Bandwidth:                       2.723\n",
       "Method:                 Least Squares   Sparsity:                        5.498\n",
       "Date:                Mon, 22 Aug 2022   No. Observations:                   21\n",
       "Time:                        19:35:01   Df Residuals:                       17\n",
       "                                        Df Model:                            3\n",
       "==============================================================================\n",
       "                 coef    std err          t      P>|t|      [0.025      0.975]\n",
       "------------------------------------------------------------------------------\n",
       "Intercept    -39.6899     10.082     -3.937      0.001     -60.962     -18.418\n",
       "AIRFLOW        0.8319      0.114      7.278      0.000       0.591       1.073\n",
       "WATERTEMP      0.5739      0.312      1.840      0.083      -0.084       1.232\n",
       "ACIDCONC      -0.0609      0.132     -0.460      0.652      -0.340       0.219\n",
       "==============================================================================\n",
       "\n",
       "The condition number is large, 1.81e+03. This might indicate that there are\n",
       "strong multicollinearity or other numerical problems.\n",
       "\"\"\""
      ]
     },
     "execution_count": 9,
     "metadata": {},
     "output_type": "execute_result"
    }
   ],
   "source": [
    "from statsmodels.regression.quantile_regression import QuantReg\n",
    "rlmod = QuantReg(y, X).fit(q=0.5)\n",
    "rlmod.summary()"
   ]
  },
  {
   "cell_type": "code",
   "execution_count": null,
   "id": "cf6d08da",
   "metadata": {},
   "outputs": [],
   "source": []
  },
  {
   "cell_type": "code",
   "execution_count": 10,
   "id": "42256f88",
   "metadata": {},
   "outputs": [
    {
     "data": {
      "text/plain": [
       "(<Figure size 1440x504 with 2 Axes>,\n",
       " array([<AxesSubplot:xlabel='y.hat', ylabel='e.hat'>,\n",
       "        <AxesSubplot:xlabel='y.hat', ylabel='sqrt(|e.hat|)'>], dtype=object))"
      ]
     },
     "execution_count": 10,
     "metadata": {},
     "output_type": "execute_result"
    },
    {
     "data": {
      "image/png": "[encoded data removed]",
      "text/plain": [
       "<Figure size 1440x504 with 2 Axes>"
      ]
     },
     "metadata": {
      "needs_background": "light"
     },
     "output_type": "display_data"
    }
   ],
   "source": [
    "resid_yhat_plot(rlmod)"
   ]
  },
  {
   "cell_type": "code",
   "execution_count": 11,
   "id": "9d3a3999",
   "metadata": {},
   "outputs": [
    {
     "data": {
      "text/plain": [
       "(<Figure size 1440x504 with 2 Axes>,\n",
       " array([<AxesSubplot:xlabel='y.hat', ylabel='e.hat'>,\n",
       "        <AxesSubplot:xlabel='y.hat', ylabel='sqrt(|e.hat|)'>], dtype=object))"
      ]
     },
     "execution_count": 11,
     "metadata": {},
     "output_type": "execute_result"
    },
    {
     "data": {
      "image/png": "[encoded data removed]",
      "text/plain": [
       "<Figure size 1440x504 with 2 Axes>"
      ]
     },
     "metadata": {
      "needs_background": "light"
     },
     "output_type": "display_data"
    }
   ],
   "source": [
    "resid_yhat_plot(rlmod)"
   ]
  },
  {
   "cell_type": "markdown",
   "id": "22354da9",
   "metadata": {},
   "source": [
    "### Model Selection\n",
    "Start with BE"
   ]
  },
  {
   "cell_type": "code",
   "execution_count": 17,
   "id": "b4e8dc59",
   "metadata": {},
   "outputs": [],
   "source": [
    "%run utils.ipynb"
   ]
  },
  {
   "cell_type": "code",
   "execution_count": 18,
   "id": "06654657",
   "metadata": {},
   "outputs": [
    {
     "name": "stdout",
     "output_type": "stream",
     "text": [
      "Start with:\n",
      "            coefs stderr tvalues pvalues\n",
      "Intercept -39.920 11.896   -3.36  0.0038\n",
      "AIRFLOW     0.716  0.135    5.31  0.0001\n",
      "WATERTEMP   1.295  0.368    3.52  0.0026\n",
      "ACIDCONC   -0.152  0.156   -0.97  0.3440\n",
      "\n",
      "n=21 p=4 Residual SD=3.243 R-squared=0.91\n",
      "\n",
      "Remove:  ACIDCONC with pval: 0.34\n",
      "            coefs stderr tvalues pvalues\n",
      "Intercept -50.359  5.138   -9.80  0.0000\n",
      "AIRFLOW     0.671  0.127    5.30  0.0000\n",
      "WATERTEMP   1.295  0.367    3.52  0.0024\n",
      "\n",
      "n=21 p=3 Residual SD=3.239 R-squared=0.91\n"
     ]
    },
    {
     "data": {
      "text/plain": [
       "(<statsmodels.regression.linear_model.RegressionResultsWrapper at 0x7f3076661090>,\n",
       " ['ACIDCONC'])"
      ]
     },
     "execution_count": 18,
     "metadata": {},
     "output_type": "execute_result"
    }
   ],
   "source": [
    "backward_elimination(olsmod)"
   ]
  },
  {
   "cell_type": "code",
   "execution_count": null,
   "id": "ef1ea26f",
   "metadata": {},
   "outputs": [],
   "source": []
  }
 ],
 "metadata": {
  "kernelspec": {
   "display_name": "Python 3 (ipykernel)",
   "language": "python",
   "name": "python3"
  },
  "language_info": {
   "codemirror_mode": {
    "name": "ipython",
    "version": 3
   },
   "file_extension": ".py",
   "mimetype": "text/x-python",
   "name": "python",
   "nbconvert_exporter": "python",
   "pygments_lexer": "ipython3",
   "version": "3.10.4"
  }
 },
 "nbformat": 4,
 "nbformat_minor": 5
}
