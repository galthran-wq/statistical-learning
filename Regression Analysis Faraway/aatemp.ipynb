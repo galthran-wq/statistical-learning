{
 "cells": [
  {
   "cell_type": "code",
   "execution_count": 4,
   "id": "d0df69cb",
   "metadata": {},
   "outputs": [],
   "source": [
    "import numpy as np\n",
    "import pandas as pd \n",
    "import matplotlib.pyplot as plt\n",
    "import statsmodels.api as sm\n",
    "import statsmodels.formula.api as smf\n",
    "import seaborn as sns\n",
    "import scipy as sp\n",
    "import faraway.utils"
   ]
  },
  {
   "cell_type": "code",
   "execution_count": 1,
   "id": "acdb989a",
   "metadata": {
    "scrolled": true
   },
   "outputs": [
    {
     "data": {
      "text/html": [
       "<div>\n",
       "<style scoped>\n",
       "    .dataframe tbody tr th:only-of-type {\n",
       "        vertical-align: middle;\n",
       "    }\n",
       "\n",
       "    .dataframe tbody tr th {\n",
       "        vertical-align: top;\n",
       "    }\n",
       "\n",
       "    .dataframe thead th {\n",
       "        text-align: right;\n",
       "    }\n",
       "</style>\n",
       "<table border=\"1\" class=\"dataframe\">\n",
       "  <thead>\n",
       "    <tr style=\"text-align: right;\">\n",
       "      <th></th>\n",
       "      <th>year</th>\n",
       "      <th>temp</th>\n",
       "    </tr>\n",
       "  </thead>\n",
       "  <tbody>\n",
       "    <tr>\n",
       "      <th>0</th>\n",
       "      <td>1854</td>\n",
       "      <td>49.15</td>\n",
       "    </tr>\n",
       "    <tr>\n",
       "      <th>1</th>\n",
       "      <td>1855</td>\n",
       "      <td>46.52</td>\n",
       "    </tr>\n",
       "    <tr>\n",
       "      <th>2</th>\n",
       "      <td>1871</td>\n",
       "      <td>48.80</td>\n",
       "    </tr>\n",
       "    <tr>\n",
       "      <th>3</th>\n",
       "      <td>1881</td>\n",
       "      <td>47.95</td>\n",
       "    </tr>\n",
       "    <tr>\n",
       "      <th>4</th>\n",
       "      <td>1882</td>\n",
       "      <td>47.31</td>\n",
       "    </tr>\n",
       "  </tbody>\n",
       "</table>\n",
       "</div>"
      ],
      "text/plain": [
       "   year   temp\n",
       "0  1854  49.15\n",
       "1  1855  46.52\n",
       "2  1871  48.80\n",
       "3  1881  47.95\n",
       "4  1882  47.31"
      ]
     },
     "execution_count": 1,
     "metadata": {},
     "output_type": "execute_result"
    }
   ],
   "source": [
    "import faraway.datasets.aatemp\n",
    "aatemp = faraway.datasets.aatemp.load()\n",
    "aatemp.head()"
   ]
  },
  {
   "cell_type": "code",
   "execution_count": 2,
   "id": "23e1ec39",
   "metadata": {},
   "outputs": [
    {
     "name": "stdout",
     "output_type": "stream",
     "text": [
      "\n",
      "Annual mean temperatures in Ann Arbor, Michigan\n",
      "\n",
      "Description:\n",
      "\n",
      "     The data comes from the U.S. Historical Climatology Network.\n",
      "\n",
      "Variables:\n",
      "\n",
      "     A data frame with 115 observations on the following 2 variables.\n",
      "\n",
      "     year year from 1854 to 2000\n",
      "\n",
      "     temp annual mean temperatures in degrees F in Ann Arbor\n",
      "\n",
      "Source:\n",
      "\n",
      "     United States Historical Climatology Network: <URL:\n",
      "     http://www.ncdc.noaa.gov/oa/climate/research/ushcn/ushcn.html>\n",
      "\n"
     ]
    }
   ],
   "source": [
    "print(faraway.datasets.aatemp.DESCR)"
   ]
  },
  {
   "cell_type": "code",
   "execution_count": 5,
   "id": "f29eff9d",
   "metadata": {},
   "outputs": [
    {
     "data": {
      "text/plain": [
       "<AxesSubplot:xlabel='year', ylabel='temp'>"
      ]
     },
     "execution_count": 5,
     "metadata": {},
     "output_type": "execute_result"
    },
    {
     "data": {
      "image/png": "[encoded data removed]",
      "text/plain": [
       "<Figure size 432x288 with 1 Axes>"
      ]
     },
     "metadata": {
      "needs_background": "light"
     },
     "output_type": "display_data"
    }
   ],
   "source": [
    "sns.scatterplot(y=\"temp\", x=\"year\", data=aatemp)"
   ]
  },
  {
   "cell_type": "markdown",
   "id": "ec703785",
   "metadata": {},
   "source": [
    "There is a linear trend."
   ]
  },
  {
   "cell_type": "markdown",
   "id": "9ac8be2d",
   "metadata": {},
   "source": [
    "Temporal data is prone to correlated errors. How do I check for it? </br>\n",
    "Fir a model and examine Durbin-Watson. </br>"
   ]
  },
  {
   "cell_type": "code",
   "execution_count": 40,
   "id": "974d146b",
   "metadata": {},
   "outputs": [
    {
     "data": {
      "text/html": [
       "<table class=\"simpletable\">\n",
       "<caption>OLS Regression Results</caption>\n",
       "<tr>\n",
       "  <th>Dep. Variable:</th>          <td>temp</td>       <th>  R-squared:         </th> <td>   0.085</td>\n",
       "</tr>\n",
       "<tr>\n",
       "  <th>Model:</th>                   <td>OLS</td>       <th>  Adj. R-squared:    </th> <td>   0.077</td>\n",
       "</tr>\n",
       "<tr>\n",
       "  <th>Method:</th>             <td>Least Squares</td>  <th>  F-statistic:       </th> <td>   10.55</td>\n",
       "</tr>\n",
       "<tr>\n",
       "  <th>Date:</th>             <td>Sat, 20 Aug 2022</td> <th>  Prob (F-statistic):</th>  <td>0.00153</td>\n",
       "</tr>\n",
       "<tr>\n",
       "  <th>Time:</th>                 <td>15:24:20</td>     <th>  Log-Likelihood:    </th> <td> -206.18</td>\n",
       "</tr>\n",
       "<tr>\n",
       "  <th>No. Observations:</th>      <td>   115</td>      <th>  AIC:               </th> <td>   416.4</td>\n",
       "</tr>\n",
       "<tr>\n",
       "  <th>Df Residuals:</th>          <td>   113</td>      <th>  BIC:               </th> <td>   421.9</td>\n",
       "</tr>\n",
       "<tr>\n",
       "  <th>Df Model:</th>              <td>     1</td>      <th>                     </th>     <td> </td>   \n",
       "</tr>\n",
       "<tr>\n",
       "  <th>Covariance Type:</th>      <td>nonrobust</td>    <th>                     </th>     <td> </td>   \n",
       "</tr>\n",
       "</table>\n",
       "<table class=\"simpletable\">\n",
       "<tr>\n",
       "      <td></td>         <th>coef</th>     <th>std err</th>      <th>t</th>      <th>P>|t|</th>  <th>[0.025</th>    <th>0.975]</th>  \n",
       "</tr>\n",
       "<tr>\n",
       "  <th>Intercept</th> <td>   24.0055</td> <td>    7.311</td> <td>    3.284</td> <td> 0.001</td> <td>    9.522</td> <td>   38.489</td>\n",
       "</tr>\n",
       "<tr>\n",
       "  <th>year</th>      <td>    0.0122</td> <td>    0.004</td> <td>    3.247</td> <td> 0.002</td> <td>    0.005</td> <td>    0.020</td>\n",
       "</tr>\n",
       "</table>\n",
       "<table class=\"simpletable\">\n",
       "<tr>\n",
       "  <th>Omnibus:</th>       <td> 0.103</td> <th>  Durbin-Watson:     </th> <td>   1.618</td>\n",
       "</tr>\n",
       "<tr>\n",
       "  <th>Prob(Omnibus):</th> <td> 0.950</td> <th>  Jarque-Bera (JB):  </th> <td>   0.134</td>\n",
       "</tr>\n",
       "<tr>\n",
       "  <th>Skew:</th>          <td>-0.068</td> <th>  Prob(JB):          </th> <td>   0.935</td>\n",
       "</tr>\n",
       "<tr>\n",
       "  <th>Kurtosis:</th>      <td> 2.902</td> <th>  Cond. No.          </th> <td>1.04e+05</td>\n",
       "</tr>\n",
       "</table><br/><br/>Notes:<br/>[1] Standard Errors assume that the covariance matrix of the errors is correctly specified.<br/>[2] The condition number is large, 1.04e+05. This might indicate that there are<br/>strong multicollinearity or other numerical problems."
      ],
      "text/plain": [
       "<class 'statsmodels.iolib.summary.Summary'>\n",
       "\"\"\"\n",
       "                            OLS Regression Results                            \n",
       "==============================================================================\n",
       "Dep. Variable:                   temp   R-squared:                       0.085\n",
       "Model:                            OLS   Adj. R-squared:                  0.077\n",
       "Method:                 Least Squares   F-statistic:                     10.55\n",
       "Date:                Sat, 20 Aug 2022   Prob (F-statistic):            0.00153\n",
       "Time:                        15:24:20   Log-Likelihood:                -206.18\n",
       "No. Observations:                 115   AIC:                             416.4\n",
       "Df Residuals:                     113   BIC:                             421.9\n",
       "Df Model:                           1                                         \n",
       "Covariance Type:            nonrobust                                         \n",
       "==============================================================================\n",
       "                 coef    std err          t      P>|t|      [0.025      0.975]\n",
       "------------------------------------------------------------------------------\n",
       "Intercept     24.0055      7.311      3.284      0.001       9.522      38.489\n",
       "year           0.0122      0.004      3.247      0.002       0.005       0.020\n",
       "==============================================================================\n",
       "Omnibus:                        0.103   Durbin-Watson:                   1.618\n",
       "Prob(Omnibus):                  0.950   Jarque-Bera (JB):                0.134\n",
       "Skew:                          -0.068   Prob(JB):                        0.935\n",
       "Kurtosis:                       2.902   Cond. No.                     1.04e+05\n",
       "==============================================================================\n",
       "\n",
       "Notes:\n",
       "[1] Standard Errors assume that the covariance matrix of the errors is correctly specified.\n",
       "[2] The condition number is large, 1.04e+05. This might indicate that there are\n",
       "strong multicollinearity or other numerical problems.\n",
       "\"\"\""
      ]
     },
     "execution_count": 40,
     "metadata": {},
     "output_type": "execute_result"
    }
   ],
   "source": [
    "lmod = smf.ols(\"temp ~ year\", data=aatemp).fit()\n",
    "lmod.summary()"
   ]
  },
  {
   "cell_type": "code",
   "execution_count": 7,
   "id": "38edb7a1",
   "metadata": {},
   "outputs": [],
   "source": [
    "%run utils.ipynb"
   ]
  },
  {
   "cell_type": "code",
   "execution_count": 11,
   "id": "55d20bd7",
   "metadata": {},
   "outputs": [
    {
     "data": {
      "text/plain": [
       "[<matplotlib.lines.Line2D at 0x7fe2f9e1ad40>]"
      ]
     },
     "execution_count": 11,
     "metadata": {},
     "output_type": "execute_result"
    },
    {
     "data": {
      "image/png": "[encoded data removed]",
      "text/plain": [
       "<Figure size 432x288 with 1 Axes>"
      ]
     },
     "metadata": {
      "needs_background": "light"
     },
     "output_type": "display_data"
    }
   ],
   "source": [
    "f, ax = plt.subplots(1, 1)\n",
    "\n",
    "sns.scatterplot(y=lmod.resid, x=aatemp[\"year\"])\n",
    "plt.axhline(0, ls='--')\n",
    "\n",
    "p = np.poly1d(np.polyfit(aatemp[\"year\"], lmod.resid, 5))\n",
    "xlim = ax.get_xlim()\n",
    "xr = np.linspace(xlim[0], xlim[1], num=50)\n",
    "ax.plot(xr, p(xr))"
   ]
  },
  {
   "cell_type": "code",
   "execution_count": 42,
   "id": "7fe35eed",
   "metadata": {},
   "outputs": [
    {
     "data": {
      "text/plain": [
       "<AxesSubplot:>"
      ]
     },
     "execution_count": 42,
     "metadata": {},
     "output_type": "execute_result"
    },
    {
     "data": {
      "image/png": "[encoded data removed]",
      "text/plain": [
       "<Figure size 432x288 with 1 Axes>"
      ]
     },
     "metadata": {
      "needs_background": "light"
     },
     "output_type": "display_data"
    }
   ],
   "source": [
    "sns.regplot(y=lmod.resid[1:], x=lmod.resid[:-1], ci=None)"
   ]
  },
  {
   "cell_type": "code",
   "execution_count": 47,
   "id": "81e52b15",
   "metadata": {
    "scrolled": true
   },
   "outputs": [
    {
     "name": "stdout",
     "output_type": "stream",
     "text": [
      "   coefs stderr tvalues pvalues\n",
      "x1 0.179  0.091    1.95  0.0531\n",
      "\n",
      "n=114 p=2 Residual SD=1.424 R-squared=0.03\n"
     ]
    }
   ],
   "source": [
    "residmod = sm.OLS(np.array(lmod.resid[1:]), np.array(lmod.resid[:-1])).fit()\n",
    "residmod.sumary()"
   ]
  },
  {
   "cell_type": "markdown",
   "id": "26bc89f7",
   "metadata": {},
   "source": [
    "There is a minor positive relation, close to significant. These all indicate a small between-error correalation. </br>\n",
    "A possible solution would be to include the correlation explicitly in the model : GLSAR model"
   ]
  },
  {
   "cell_type": "code",
   "execution_count": 127,
   "id": "7198149d",
   "metadata": {},
   "outputs": [
    {
     "name": "stderr",
     "output_type": "stream",
     "text": [
      "/usr/local/lib/python3.10/dist-packages/IPython/core/interactiveshell.py:3398: RankWarning: Polyfit may be poorly conditioned\n",
      "  exec(code_obj, self.user_global_ns, self.user_ns)\n"
     ]
    },
    {
     "data": {
      "text/plain": [
       "<matplotlib.legend.Legend at 0x7fe2f019a350>"
      ]
     },
     "execution_count": 127,
     "metadata": {},
     "output_type": "execute_result"
    },
    {
     "data": {
      "image/png": "[encoded data removed]",
      "text/plain": [
       "<Figure size 432x288 with 1 Axes>"
      ]
     },
     "metadata": {
      "needs_background": "light"
     },
     "output_type": "display_data"
    }
   ],
   "source": [
    "f, ax = plt.subplots(1, 1)\n",
    "\n",
    "sns.scatterplot(y=\"temp\", x=\"year\", data=aatemp, ax=ax)\n",
    "\n",
    "xlim = ax.get_xlim()\n",
    "xr = np.linspace(xlim[0], xlim[1], num=50)\n",
    "\n",
    "l = np.poly1d(np.polyfit(aatemp[\"year\"], aatemp[\"temp\"], 1))\n",
    "p = np.poly1d(np.polyfit(aatemp[\"year\"], aatemp[\"temp\"], 2))\n",
    "h = np.poly1d(np.polyfit(aatemp[\"year\"], aatemp[\"temp\"], 10))\n",
    "ax.plot(xr, l(xr), label=\"line\")\n",
    "ax.plot(xr, p(xr), label=\"parabola\")\n",
    "ax.plot(xr, h(xr), label=\"high-degree\")\n",
    "plt.legend()\n"
   ]
  },
  {
   "cell_type": "code",
   "execution_count": 133,
   "id": "39946bdb",
   "metadata": {
    "scrolled": true
   },
   "outputs": [
    {
     "data": {
      "text/plain": [
       "(array([48.72478209]), 54.337642669677734)"
      ]
     },
     "execution_count": 133,
     "metadata": {},
     "output_type": "execute_result"
    }
   ],
   "source": [
    "lmod.get_prediction(\n",
    "    pd.DataFrame({\"year\": [2020]})\n",
    ").predicted_mean, h(2020)"
   ]
  },
  {
   "cell_type": "markdown",
   "id": "4603af96",
   "metadata": {},
   "source": [
    "As we see, the difference in the predictions is dramatic, as expected. </br>\n",
    "High-degree model is clearly an overfit."
   ]
  },
  {
   "cell_type": "markdown",
   "id": "9735cf60",
   "metadata": {},
   "source": [
    "### next\n",
    "Suppose someone claims that the temperature was constant until 1930 and then\n",
    "began a linear trend. Fit a model corresponding to this claim. Is this better than\n",
    "a simple linear model?"
   ]
  },
  {
   "cell_type": "code",
   "execution_count": 68,
   "id": "9aa7cc11",
   "metadata": {},
   "outputs": [
    {
     "name": "stdout",
     "output_type": "stream",
     "text": [
      "              coefs stderr tvalues pvalues\n",
      "Intercept    47.432  0.185  256.94  0.0000\n",
      "rhs(year, c)  0.015  0.006    2.56  0.0119\n",
      "\n",
      "n=115 p=2 Residual SD=1.491 R-squared=0.05\n"
     ]
    }
   ],
   "source": [
    "# def lhs(x, c): return np.where(x < c, c-x, 0)\n",
    "def rhs(x, c): return np.where(x < c, 0, x-c)\n",
    "    \n",
    "c=1930\n",
    "stick_mod = smf.ols(\"temp ~ rhs(year,c)\", data=aatemp).fit()\n",
    "stick_mod.sumary()\n"
   ]
  },
  {
   "cell_type": "code",
   "execution_count": 69,
   "id": "34c8b722",
   "metadata": {},
   "outputs": [
    {
     "data": {
      "text/plain": [
       "[<matplotlib.lines.Line2D at 0x7fe2f3006470>]"
      ]
     },
     "execution_count": 69,
     "metadata": {},
     "output_type": "execute_result"
    },
    {
     "data": {
      "image/png": "[encoded data removed]",
      "text/plain": [
       "<Figure size 432x288 with 1 Axes>"
      ]
     },
     "metadata": {
      "needs_background": "light"
     },
     "output_type": "display_data"
    }
   ],
   "source": [
    "f, ax = plt.subplots(1, 1)\n",
    "\n",
    "sns.scatterplot(y=\"temp\", x=\"year\", data=aatemp, ax=ax)\n",
    "\n",
    "xlim = ax.get_xlim()\n",
    "xr = np.linspace(xlim[0], xlim[1], num=50)\n",
    "xr = np.sort(np.append(xr, c))\n",
    "\n",
    "ax.plot(\n",
    "    xr, \n",
    "    stick_mod.params[0] + \n",
    "    stick_mod.params[1]*rhs(xr, c),\n",
    "    ls='--'\n",
    ")"
   ]
  },
  {
   "cell_type": "markdown",
   "id": "0a8cb84e",
   "metadata": {},
   "source": [
    "$R^2 = 0.05$ is less then for a linear fit ($<0.085$)"
   ]
  },
  {
   "cell_type": "markdown",
   "id": "8defe7f4",
   "metadata": {},
   "source": [
    "### next"
   ]
  },
  {
   "cell_type": "code",
   "execution_count": 162,
   "id": "b8a3db2a",
   "metadata": {},
   "outputs": [
    {
     "data": {
      "text/plain": [
       "array([1854., 1883., 1912., 1941., 1970., 1999.])"
      ]
     },
     "execution_count": 162,
     "metadata": {},
     "output_type": "execute_result"
    }
   ],
   "source": [
    "n = 6\n",
    "xr = np.linspace(aatemp[\"year\"].min(), aatemp[\"year\"].max()-1, n)\n",
    "xr"
   ]
  },
  {
   "cell_type": "code",
   "execution_count": 163,
   "id": "075e2cde",
   "metadata": {},
   "outputs": [
    {
     "data": {
      "text/html": [
       "<div>\n",
       "<style scoped>\n",
       "    .dataframe tbody tr th:only-of-type {\n",
       "        vertical-align: middle;\n",
       "    }\n",
       "\n",
       "    .dataframe tbody tr th {\n",
       "        vertical-align: top;\n",
       "    }\n",
       "\n",
       "    .dataframe thead th {\n",
       "        text-align: right;\n",
       "    }\n",
       "</style>\n",
       "<table border=\"1\" class=\"dataframe\">\n",
       "  <thead>\n",
       "    <tr style=\"text-align: right;\">\n",
       "      <th></th>\n",
       "      <th>0</th>\n",
       "      <th>1</th>\n",
       "      <th>2</th>\n",
       "      <th>3</th>\n",
       "      <th>4</th>\n",
       "      <th>5</th>\n",
       "      <th>6</th>\n",
       "      <th>7</th>\n",
       "      <th>8</th>\n",
       "      <th>9</th>\n",
       "    </tr>\n",
       "  </thead>\n",
       "  <tbody>\n",
       "    <tr>\n",
       "      <th>0</th>\n",
       "      <td>0.0</td>\n",
       "      <td>1.000000</td>\n",
       "      <td>0.000000</td>\n",
       "      <td>0.000000</td>\n",
       "      <td>0.000000</td>\n",
       "      <td>0.000000</td>\n",
       "      <td>0.000000</td>\n",
       "      <td>0.000000</td>\n",
       "      <td>0.000000</td>\n",
       "      <td>0.0</td>\n",
       "    </tr>\n",
       "    <tr>\n",
       "      <th>1</th>\n",
       "      <td>0.0</td>\n",
       "      <td>0.900078</td>\n",
       "      <td>0.098169</td>\n",
       "      <td>0.001746</td>\n",
       "      <td>0.000007</td>\n",
       "      <td>0.000000</td>\n",
       "      <td>0.000000</td>\n",
       "      <td>0.000000</td>\n",
       "      <td>0.000000</td>\n",
       "      <td>0.0</td>\n",
       "    </tr>\n",
       "    <tr>\n",
       "      <th>2</th>\n",
       "      <td>0.0</td>\n",
       "      <td>0.070852</td>\n",
       "      <td>0.564773</td>\n",
       "      <td>0.330801</td>\n",
       "      <td>0.033574</td>\n",
       "      <td>0.000000</td>\n",
       "      <td>0.000000</td>\n",
       "      <td>0.000000</td>\n",
       "      <td>0.000000</td>\n",
       "      <td>0.0</td>\n",
       "    </tr>\n",
       "    <tr>\n",
       "      <th>3</th>\n",
       "      <td>0.0</td>\n",
       "      <td>0.000328</td>\n",
       "      <td>0.304717</td>\n",
       "      <td>0.560447</td>\n",
       "      <td>0.134507</td>\n",
       "      <td>0.000000</td>\n",
       "      <td>0.000000</td>\n",
       "      <td>0.000000</td>\n",
       "      <td>0.000000</td>\n",
       "      <td>0.0</td>\n",
       "    </tr>\n",
       "    <tr>\n",
       "      <th>4</th>\n",
       "      <td>0.0</td>\n",
       "      <td>0.000041</td>\n",
       "      <td>0.276682</td>\n",
       "      <td>0.573264</td>\n",
       "      <td>0.150013</td>\n",
       "      <td>0.000000</td>\n",
       "      <td>0.000000</td>\n",
       "      <td>0.000000</td>\n",
       "      <td>0.000000</td>\n",
       "      <td>0.0</td>\n",
       "    </tr>\n",
       "    <tr>\n",
       "      <th>...</th>\n",
       "      <td>...</td>\n",
       "      <td>...</td>\n",
       "      <td>...</td>\n",
       "      <td>...</td>\n",
       "      <td>...</td>\n",
       "      <td>...</td>\n",
       "      <td>...</td>\n",
       "      <td>...</td>\n",
       "      <td>...</td>\n",
       "      <td>...</td>\n",
       "    </tr>\n",
       "    <tr>\n",
       "      <th>110</th>\n",
       "      <td>0.0</td>\n",
       "      <td>0.000000</td>\n",
       "      <td>0.000000</td>\n",
       "      <td>0.000000</td>\n",
       "      <td>0.000000</td>\n",
       "      <td>0.000185</td>\n",
       "      <td>0.019921</td>\n",
       "      <td>0.306484</td>\n",
       "      <td>0.673410</td>\n",
       "      <td>0.0</td>\n",
       "    </tr>\n",
       "    <tr>\n",
       "      <th>111</th>\n",
       "      <td>0.0</td>\n",
       "      <td>0.000000</td>\n",
       "      <td>0.000000</td>\n",
       "      <td>0.000000</td>\n",
       "      <td>0.000000</td>\n",
       "      <td>0.000055</td>\n",
       "      <td>0.010443</td>\n",
       "      <td>0.235364</td>\n",
       "      <td>0.754138</td>\n",
       "      <td>0.0</td>\n",
       "    </tr>\n",
       "    <tr>\n",
       "      <th>112</th>\n",
       "      <td>0.0</td>\n",
       "      <td>0.000000</td>\n",
       "      <td>0.000000</td>\n",
       "      <td>0.000000</td>\n",
       "      <td>0.000000</td>\n",
       "      <td>0.000007</td>\n",
       "      <td>0.003918</td>\n",
       "      <td>0.155002</td>\n",
       "      <td>0.841073</td>\n",
       "      <td>0.0</td>\n",
       "    </tr>\n",
       "    <tr>\n",
       "      <th>113</th>\n",
       "      <td>0.0</td>\n",
       "      <td>0.000000</td>\n",
       "      <td>0.000000</td>\n",
       "      <td>0.000000</td>\n",
       "      <td>0.000000</td>\n",
       "      <td>0.000000</td>\n",
       "      <td>0.000565</td>\n",
       "      <td>0.064991</td>\n",
       "      <td>0.934444</td>\n",
       "      <td>0.0</td>\n",
       "    </tr>\n",
       "    <tr>\n",
       "      <th>114</th>\n",
       "      <td>0.0</td>\n",
       "      <td>0.000000</td>\n",
       "      <td>0.000000</td>\n",
       "      <td>0.000000</td>\n",
       "      <td>0.000000</td>\n",
       "      <td>0.000000</td>\n",
       "      <td>0.000000</td>\n",
       "      <td>0.000000</td>\n",
       "      <td>0.000000</td>\n",
       "      <td>1.0</td>\n",
       "    </tr>\n",
       "  </tbody>\n",
       "</table>\n",
       "<p>115 rows × 10 columns</p>\n",
       "</div>"
      ],
      "text/plain": [
       "       0         1         2         3         4         5         6  \\\n",
       "0    0.0  1.000000  0.000000  0.000000  0.000000  0.000000  0.000000   \n",
       "1    0.0  0.900078  0.098169  0.001746  0.000007  0.000000  0.000000   \n",
       "2    0.0  0.070852  0.564773  0.330801  0.033574  0.000000  0.000000   \n",
       "3    0.0  0.000328  0.304717  0.560447  0.134507  0.000000  0.000000   \n",
       "4    0.0  0.000041  0.276682  0.573264  0.150013  0.000000  0.000000   \n",
       "..   ...       ...       ...       ...       ...       ...       ...   \n",
       "110  0.0  0.000000  0.000000  0.000000  0.000000  0.000185  0.019921   \n",
       "111  0.0  0.000000  0.000000  0.000000  0.000000  0.000055  0.010443   \n",
       "112  0.0  0.000000  0.000000  0.000000  0.000000  0.000007  0.003918   \n",
       "113  0.0  0.000000  0.000000  0.000000  0.000000  0.000000  0.000565   \n",
       "114  0.0  0.000000  0.000000  0.000000  0.000000  0.000000  0.000000   \n",
       "\n",
       "            7         8    9  \n",
       "0    0.000000  0.000000  0.0  \n",
       "1    0.000000  0.000000  0.0  \n",
       "2    0.000000  0.000000  0.0  \n",
       "3    0.000000  0.000000  0.0  \n",
       "4    0.000000  0.000000  0.0  \n",
       "..        ...       ...  ...  \n",
       "110  0.306484  0.673410  0.0  \n",
       "111  0.235364  0.754138  0.0  \n",
       "112  0.155002  0.841073  0.0  \n",
       "113  0.064991  0.934444  0.0  \n",
       "114  0.000000  0.000000  1.0  \n",
       "\n",
       "[115 rows x 10 columns]"
      ]
     },
     "execution_count": 163,
     "metadata": {},
     "output_type": "execute_result"
    }
   ],
   "source": [
    "from patsy import bs\n",
    "spline = bs(aatemp[\"year\"], knots=xr, include_intercept=True)\n",
    "spline"
   ]
  },
  {
   "cell_type": "code",
   "execution_count": 164,
   "id": "29b39206",
   "metadata": {},
   "outputs": [
    {
     "name": "stdout",
     "output_type": "stream",
     "text": [
      "   coefs stderr tvalues pvalues\n",
      "0  0.000  0.000     NaN     NaN\n",
      "1 48.044  1.057   45.45  0.0000\n",
      "2 46.547  2.492   18.68  0.0000\n",
      "3 47.429  1.208   39.25  0.0000\n",
      "4 46.185  0.767   60.19  0.0000\n",
      "5 49.009  0.712   68.83  0.0000\n",
      "6 48.699  0.874   55.69  0.0000\n",
      "7 46.508  0.921   50.49  0.0000\n",
      "8 49.506  0.867   57.11  0.0000\n",
      "9 48.220  1.407   34.28  0.0000\n",
      "\n",
      "n=115 p=9 Residual SD=1.407 R-squared=0.21\n",
      "Warning: Strong collinearity - design may be singular\n"
     ]
    }
   ],
   "source": [
    "z = sm.OLS(aatemp[\"temp\"], spline).fit()\n",
    "z.sumary()"
   ]
  },
  {
   "cell_type": "markdown",
   "id": "538c41ca",
   "metadata": {},
   "source": [
    "Fits better then the linear model; though the same problem as for the high-deg pol -- overfitting -- is present."
   ]
  },
  {
   "cell_type": "code",
   "execution_count": 165,
   "id": "9b9a379b",
   "metadata": {},
   "outputs": [
    {
     "name": "stderr",
     "output_type": "stream",
     "text": [
      "/usr/local/lib/python3.10/dist-packages/IPython/core/interactiveshell.py:3398: RankWarning: Polyfit may be poorly conditioned\n",
      "  exec(code_obj, self.user_global_ns, self.user_ns)\n"
     ]
    },
    {
     "data": {
      "text/plain": [
       "<matplotlib.legend.Legend at 0x7fe2efd24e20>"
      ]
     },
     "execution_count": 165,
     "metadata": {},
     "output_type": "execute_result"
    },
    {
     "data": {
      "image/png": "[encoded data removed]",
      "text/plain": [
       "<Figure size 1080x576 with 1 Axes>"
      ]
     },
     "metadata": {
      "needs_background": "light"
     },
     "output_type": "display_data"
    }
   ],
   "source": [
    "f, ax = plt.subplots(1, 1, figsize=(15, 8))\n",
    "\n",
    "sns.scatterplot(y=\"temp\", x=\"year\", data=aatemp, ax=ax)\n",
    "\n",
    "xlim = ax.get_xlim()\n",
    "xr = np.linspace(xlim[0], xlim[1], num=50)\n",
    "\n",
    "l = np.poly1d(np.polyfit(aatemp[\"year\"], aatemp[\"temp\"], 1))\n",
    "p = np.poly1d(np.polyfit(aatemp[\"year\"], aatemp[\"temp\"], 2))\n",
    "h = np.poly1d(np.polyfit(aatemp[\"year\"], aatemp[\"temp\"], 10))\n",
    "ax.plot(xr, l(xr), label=\"line\")\n",
    "ax.plot(xr, p(xr), label=\"parabola\")\n",
    "ax.plot(xr, h(xr), label=\"high-degree\")\n",
    "\n",
    "ax.plot(aatemp[\"year\"], z.fittedvalues, label=\"cubic spline\")\n",
    "\n",
    "ax.set_ylim([40, 55])\n",
    "\n",
    "plt.legend()"
   ]
  },
  {
   "cell_type": "code",
   "execution_count": null,
   "id": "5c634420",
   "metadata": {},
   "outputs": [],
   "source": []
  }
 ],
 "metadata": {
  "kernelspec": {
   "display_name": "Python 3 (ipykernel)",
   "language": "python",
   "name": "python3"
  },
  "language_info": {
   "codemirror_mode": {
    "name": "ipython",
    "version": 3
   },
   "file_extension": ".py",
   "mimetype": "text/x-python",
   "name": "python",
   "nbconvert_exporter": "python",
   "pygments_lexer": "ipython3",
   "version": "3.10.4"
  }
 },
 "nbformat": 4,
 "nbformat_minor": 5
}
