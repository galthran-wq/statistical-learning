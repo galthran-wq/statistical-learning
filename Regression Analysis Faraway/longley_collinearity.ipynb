{
 "cells": [
  {
   "cell_type": "code",
   "execution_count": 1,
   "id": "64b46ac5",
   "metadata": {},
   "outputs": [],
   "source": [
    "import numpy as np\n",
    "import pandas as pd \n",
    "import matplotlib.pyplot as plt\n",
    "import statsmodels.api as sm\n",
    "import statsmodels.formula.api as smf\n",
    "import seaborn as sns\n",
    "import scipy as sp\n",
    "import faraway.utils"
   ]
  },
  {
   "cell_type": "code",
   "execution_count": 3,
   "id": "3160399d",
   "metadata": {
    "scrolled": true
   },
   "outputs": [
    {
     "data": {
      "text/html": [
       "<div>\n",
       "<style scoped>\n",
       "    .dataframe tbody tr th:only-of-type {\n",
       "        vertical-align: middle;\n",
       "    }\n",
       "\n",
       "    .dataframe tbody tr th {\n",
       "        vertical-align: top;\n",
       "    }\n",
       "\n",
       "    .dataframe thead th {\n",
       "        text-align: right;\n",
       "    }\n",
       "</style>\n",
       "<table border=\"1\" class=\"dataframe\">\n",
       "  <thead>\n",
       "    <tr style=\"text-align: right;\">\n",
       "      <th></th>\n",
       "      <th>TOTEMP</th>\n",
       "      <th>GNPDEFL</th>\n",
       "      <th>GNP</th>\n",
       "      <th>UNEMP</th>\n",
       "      <th>ARMED</th>\n",
       "      <th>POP</th>\n",
       "      <th>YEAR</th>\n",
       "    </tr>\n",
       "  </thead>\n",
       "  <tbody>\n",
       "    <tr>\n",
       "      <th>0</th>\n",
       "      <td>60323.0</td>\n",
       "      <td>83.0</td>\n",
       "      <td>234289.0</td>\n",
       "      <td>2356.0</td>\n",
       "      <td>1590.0</td>\n",
       "      <td>107608.0</td>\n",
       "      <td>1947.0</td>\n",
       "    </tr>\n",
       "    <tr>\n",
       "      <th>1</th>\n",
       "      <td>61122.0</td>\n",
       "      <td>88.5</td>\n",
       "      <td>259426.0</td>\n",
       "      <td>2325.0</td>\n",
       "      <td>1456.0</td>\n",
       "      <td>108632.0</td>\n",
       "      <td>1948.0</td>\n",
       "    </tr>\n",
       "    <tr>\n",
       "      <th>2</th>\n",
       "      <td>60171.0</td>\n",
       "      <td>88.2</td>\n",
       "      <td>258054.0</td>\n",
       "      <td>3682.0</td>\n",
       "      <td>1616.0</td>\n",
       "      <td>109773.0</td>\n",
       "      <td>1949.0</td>\n",
       "    </tr>\n",
       "    <tr>\n",
       "      <th>3</th>\n",
       "      <td>61187.0</td>\n",
       "      <td>89.5</td>\n",
       "      <td>284599.0</td>\n",
       "      <td>3351.0</td>\n",
       "      <td>1650.0</td>\n",
       "      <td>110929.0</td>\n",
       "      <td>1950.0</td>\n",
       "    </tr>\n",
       "    <tr>\n",
       "      <th>4</th>\n",
       "      <td>63221.0</td>\n",
       "      <td>96.2</td>\n",
       "      <td>328975.0</td>\n",
       "      <td>2099.0</td>\n",
       "      <td>3099.0</td>\n",
       "      <td>112075.0</td>\n",
       "      <td>1951.0</td>\n",
       "    </tr>\n",
       "  </tbody>\n",
       "</table>\n",
       "</div>"
      ],
      "text/plain": [
       "    TOTEMP  GNPDEFL       GNP   UNEMP   ARMED       POP    YEAR\n",
       "0  60323.0     83.0  234289.0  2356.0  1590.0  107608.0  1947.0\n",
       "1  61122.0     88.5  259426.0  2325.0  1456.0  108632.0  1948.0\n",
       "2  60171.0     88.2  258054.0  3682.0  1616.0  109773.0  1949.0\n",
       "3  61187.0     89.5  284599.0  3351.0  1650.0  110929.0  1950.0\n",
       "4  63221.0     96.2  328975.0  2099.0  3099.0  112075.0  1951.0"
      ]
     },
     "execution_count": 3,
     "metadata": {},
     "output_type": "execute_result"
    }
   ],
   "source": [
    "gd = sm.datasets.longley.load_pandas()\n",
    "longley = gd.data\n",
    "longley.head()"
   ]
  },
  {
   "cell_type": "markdown",
   "id": "00d0e16c",
   "metadata": {},
   "source": [
    "The Longley dataset contains various US macroeconomic variables that are known to be highly collinear. It has been used to appraise the accuracy of least squares routines.\n",
    "\n",
    "Number of Observations - 16\n",
    "\n",
    "Number of Variables - 6\n",
    "\n",
    "Variable name definitions::\n",
    "\n",
    "        TOTEMP - Total Employment\n",
    "        GNPDEFL - GNP deflator\n",
    "        GNP - GNP\n",
    "        UNEMP - Number of unemployed\n",
    "        ARMED - Size of armed forces\n",
    "        POP - Population\n",
    "        YEAR - Year (1947 - 1962)"
   ]
  },
  {
   "cell_type": "code",
   "execution_count": 10,
   "id": "be678669",
   "metadata": {},
   "outputs": [],
   "source": [
    "%run utils.ipynb"
   ]
  },
  {
   "cell_type": "code",
   "execution_count": 13,
   "id": "bf34bb4f",
   "metadata": {},
   "outputs": [
    {
     "name": "stdout",
     "output_type": "stream",
     "text": [
      "                   coefs      stderr tvalues pvalues\n",
      "Intercept -3,482,258.635 890,420.384   -3.91  0.0036\n",
      "GNPDEFL           15.062      84.915    0.18  0.8631\n",
      "GNP               -0.036       0.033   -1.07  0.3127\n",
      "UNEMP             -2.020       0.488   -4.14  0.0025\n",
      "ARMED             -1.033       0.214   -4.82  0.0009\n",
      "POP               -0.051       0.226   -0.23  0.8262\n",
      "YEAR           1,829.151     455.478    4.02  0.0030\n",
      "\n",
      "n=16 p=7 Residual SD=304.854 R-squared=1.00\n"
     ]
    }
   ],
   "source": [
    "import faraway.utils\n",
    "\n",
    "lmod = smf.ols(\n",
    "    \"TOTEMP ~ GNPDEFL + GNP + UNEMP + ARMED + POP + YEAR\",\n",
    "    data=longley\n",
    ").fit()\n",
    "lmod.sumary()"
   ]
  },
  {
   "cell_type": "code",
   "execution_count": 14,
   "id": "10e3f99c",
   "metadata": {},
   "outputs": [
    {
     "name": "stderr",
     "output_type": "stream",
     "text": [
      "/tmp/ipykernel_59559/1716416555.py:16: RuntimeWarning: invalid value encountered in sqrt\n",
      "  cond_nums = np.sqrt(eigs[-1] / eigs)\n"
     ]
    },
    {
     "data": {
      "text/plain": [
       "array([           nan, 4.56040296e+05, 3.99022436e+04, 1.05119570e+03,\n",
       "       4.88280556e+02, 1.98292801e+01, 1.00000000e+00])"
      ]
     },
     "execution_count": 14,
     "metadata": {},
     "output_type": "execute_result"
    }
   ],
   "source": [
    "get_cond_nums(lmod)"
   ]
  },
  {
   "cell_type": "code",
   "execution_count": 19,
   "id": "1743b46e",
   "metadata": {},
   "outputs": [
    {
     "data": {
      "text/plain": [
       "Intercept    1.000000\n",
       "GNP          0.999441\n",
       "YEAR         0.998682\n",
       "POP          0.997495\n",
       "GNPDEFL      0.992622\n",
       "UNEMP        0.970255\n",
       "ARMED        0.721365\n",
       "dtype: float64"
      ]
     },
     "execution_count": 19,
     "metadata": {},
     "output_type": "execute_result"
    }
   ],
   "source": [
    "part_rsq = get_partial_rsquareds(lmod)\n",
    "part_rsq"
   ]
  },
  {
   "cell_type": "code",
   "execution_count": 22,
   "id": "2da1fb50",
   "metadata": {},
   "outputs": [
    {
     "data": {
      "text/plain": [
       "Intercept    1.364980e+08\n",
       "GNP          1.788513e+03\n",
       "YEAR         7.589806e+02\n",
       "POP          3.991510e+02\n",
       "GNPDEFL      1.355324e+02\n",
       "UNEMP        3.361889e+01\n",
       "ARMED        3.588930e+00\n",
       "dtype: float64"
      ]
     },
     "execution_count": 22,
     "metadata": {},
     "output_type": "execute_result"
    }
   ],
   "source": [
    "VIFs = 1 / (1 - part_rsq)\n",
    "VIFs"
   ]
  },
  {
   "cell_type": "code",
   "execution_count": 24,
   "id": "c9b46a03",
   "metadata": {},
   "outputs": [
    {
     "data": {
      "text/html": [
       "<div>\n",
       "<style scoped>\n",
       "    .dataframe tbody tr th:only-of-type {\n",
       "        vertical-align: middle;\n",
       "    }\n",
       "\n",
       "    .dataframe tbody tr th {\n",
       "        vertical-align: top;\n",
       "    }\n",
       "\n",
       "    .dataframe thead th {\n",
       "        text-align: right;\n",
       "    }\n",
       "</style>\n",
       "<table border=\"1\" class=\"dataframe\">\n",
       "  <thead>\n",
       "    <tr style=\"text-align: right;\">\n",
       "      <th></th>\n",
       "      <th>GNPDEFL</th>\n",
       "      <th>GNP</th>\n",
       "      <th>UNEMP</th>\n",
       "      <th>ARMED</th>\n",
       "      <th>POP</th>\n",
       "      <th>YEAR</th>\n",
       "    </tr>\n",
       "  </thead>\n",
       "  <tbody>\n",
       "    <tr>\n",
       "      <th>GNPDEFL</th>\n",
       "      <td>1.000000</td>\n",
       "      <td>0.991589</td>\n",
       "      <td>0.620633</td>\n",
       "      <td>0.464744</td>\n",
       "      <td>0.979163</td>\n",
       "      <td>0.991149</td>\n",
       "    </tr>\n",
       "    <tr>\n",
       "      <th>GNP</th>\n",
       "      <td>0.991589</td>\n",
       "      <td>1.000000</td>\n",
       "      <td>0.604261</td>\n",
       "      <td>0.446437</td>\n",
       "      <td>0.991090</td>\n",
       "      <td>0.995273</td>\n",
       "    </tr>\n",
       "    <tr>\n",
       "      <th>UNEMP</th>\n",
       "      <td>0.620633</td>\n",
       "      <td>0.604261</td>\n",
       "      <td>1.000000</td>\n",
       "      <td>-0.177421</td>\n",
       "      <td>0.686552</td>\n",
       "      <td>0.668257</td>\n",
       "    </tr>\n",
       "    <tr>\n",
       "      <th>ARMED</th>\n",
       "      <td>0.464744</td>\n",
       "      <td>0.446437</td>\n",
       "      <td>-0.177421</td>\n",
       "      <td>1.000000</td>\n",
       "      <td>0.364416</td>\n",
       "      <td>0.417245</td>\n",
       "    </tr>\n",
       "    <tr>\n",
       "      <th>POP</th>\n",
       "      <td>0.979163</td>\n",
       "      <td>0.991090</td>\n",
       "      <td>0.686552</td>\n",
       "      <td>0.364416</td>\n",
       "      <td>1.000000</td>\n",
       "      <td>0.993953</td>\n",
       "    </tr>\n",
       "    <tr>\n",
       "      <th>YEAR</th>\n",
       "      <td>0.991149</td>\n",
       "      <td>0.995273</td>\n",
       "      <td>0.668257</td>\n",
       "      <td>0.417245</td>\n",
       "      <td>0.993953</td>\n",
       "      <td>1.000000</td>\n",
       "    </tr>\n",
       "  </tbody>\n",
       "</table>\n",
       "</div>"
      ],
      "text/plain": [
       "          GNPDEFL       GNP     UNEMP     ARMED       POP      YEAR\n",
       "GNPDEFL  1.000000  0.991589  0.620633  0.464744  0.979163  0.991149\n",
       "GNP      0.991589  1.000000  0.604261  0.446437  0.991090  0.995273\n",
       "UNEMP    0.620633  0.604261  1.000000 -0.177421  0.686552  0.668257\n",
       "ARMED    0.464744  0.446437 -0.177421  1.000000  0.364416  0.417245\n",
       "POP      0.979163  0.991090  0.686552  0.364416  1.000000  0.993953\n",
       "YEAR     0.991149  0.995273  0.668257  0.417245  0.993953  1.000000"
      ]
     },
     "execution_count": 24,
     "metadata": {},
     "output_type": "execute_result"
    }
   ],
   "source": [
    "get_dsg_mtx(lmod).corr()"
   ]
  },
  {
   "cell_type": "code",
   "execution_count": null,
   "id": "13fca93f",
   "metadata": {},
   "outputs": [],
   "source": []
  }
 ],
 "metadata": {
  "kernelspec": {
   "display_name": "Python 3 (ipykernel)",
   "language": "python",
   "name": "python3"
  },
  "language_info": {
   "codemirror_mode": {
    "name": "ipython",
    "version": 3
   },
   "file_extension": ".py",
   "mimetype": "text/x-python",
   "name": "python",
   "nbconvert_exporter": "python",
   "pygments_lexer": "ipython3",
   "version": "3.10.4"
  }
 },
 "nbformat": 4,
 "nbformat_minor": 5
}
