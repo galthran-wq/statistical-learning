{
 "cells": [
  {
   "cell_type": "code",
   "execution_count": 14,
   "metadata": {
    "colab": {
     "base_uri": "https://localhost:8080/"
    },
    "executionInfo": {
     "elapsed": 1491,
     "status": "ok",
     "timestamp": 1660140951065,
     "user": {
      "displayName": "lev morozov",
      "userId": "08138582278897554642"
     },
     "user_tz": -180
    },
    "id": "wVb8bJ_dGFCG",
    "outputId": "d3664af6-796a-4ea4-fde6-de624699a2bf"
   },
   "outputs": [],
   "source": [
    "# This Python 3 environment comes with many helpful analytics libraries installed\n",
    "# It is defined by the kaggle/python Docker image: https://github.com/kaggle/docker-python\n",
    "# For example, here's several helpful packages to load\n",
    "\n",
    "import numpy as np # linear algebra\n",
    "import pandas as pd # data processing, CSV file I/O (e.g. pd.read_csv)\n",
    "import matplotlib.pyplot as plt\n",
    "import scipy as sp\n",
    "import seaborn as sns\n",
    "import statsmodels.formula.api as smf\n",
    "import statsmodels.api as sm\n",
    "import sklearn\n",
    "\n",
    "sns.set(rc={'figure.figsize':(20,8.27)})\n",
    "\n",
    "# Input data files are available in the read-only \"../input/\" directory\n",
    "# For example, running this (by clicking run or pressing Shift+Enter) will list all files under the input directory\n",
    "\n",
    "import os\n",
    "for dirname, _, filenames in os.walk('/kaggle/input'):\n",
    "    for filename in filenames:\n",
    "        print(os.path.join(dirname, filename))\n",
    "\n",
    "# You can write up to 20GB to the current directory (/kaggle/working/) that gets preserved as output when you create a version using \"Save & Run All\" \n",
    "# You can also write temporary files to /kaggle/temp/, but they won't be saved outside of the current session"
   ]
  },
  {
   "cell_type": "code",
   "execution_count": 2,
   "metadata": {
    "colab": {
     "base_uri": "https://localhost:8080/"
    },
    "executionInfo": {
     "elapsed": 7388,
     "status": "ok",
     "timestamp": 1660140728623,
     "user": {
      "displayName": "lev morozov",
      "userId": "08138582278897554642"
     },
     "user_tz": -180
    },
    "id": "ZZCc9tslGN89",
    "outputId": "be604f3d-2745-4dfd-9817-edd6d3207c24"
   },
   "outputs": [
    {
     "name": "stdout",
     "output_type": "stream",
     "text": [
      "Defaulting to user installation because normal site-packages is not writeable\n",
      "Requirement already satisfied: faraway in /home/lev/.local/lib/python3.10/site-packages (0.0.6)\n"
     ]
    }
   ],
   "source": [
    "!pip install faraway"
   ]
  },
  {
   "cell_type": "code",
   "execution_count": 3,
   "metadata": {
    "colab": {
     "base_uri": "https://localhost:8080/",
     "height": 206
    },
    "executionInfo": {
     "elapsed": 785,
     "status": "ok",
     "timestamp": 1660140738625,
     "user": {
      "displayName": "lev morozov",
      "userId": "08138582278897554642"
     },
     "user_tz": -180
    },
    "id": "3BAvDeqbGPzP",
    "outputId": "090d6bca-3511-4a31-99d0-2be150c61bef"
   },
   "outputs": [
    {
     "data": {
      "text/html": [
       "<div>\n",
       "<style scoped>\n",
       "    .dataframe tbody tr th:only-of-type {\n",
       "        vertical-align: middle;\n",
       "    }\n",
       "\n",
       "    .dataframe tbody tr th {\n",
       "        vertical-align: top;\n",
       "    }\n",
       "\n",
       "    .dataframe thead th {\n",
       "        text-align: right;\n",
       "    }\n",
       "</style>\n",
       "<table border=\"1\" class=\"dataframe\">\n",
       "  <thead>\n",
       "    <tr style=\"text-align: right;\">\n",
       "      <th></th>\n",
       "      <th>odor</th>\n",
       "      <th>temp</th>\n",
       "      <th>gas</th>\n",
       "      <th>pack</th>\n",
       "    </tr>\n",
       "  </thead>\n",
       "  <tbody>\n",
       "    <tr>\n",
       "      <th>0</th>\n",
       "      <td>66</td>\n",
       "      <td>-1</td>\n",
       "      <td>-1</td>\n",
       "      <td>0</td>\n",
       "    </tr>\n",
       "    <tr>\n",
       "      <th>1</th>\n",
       "      <td>39</td>\n",
       "      <td>1</td>\n",
       "      <td>-1</td>\n",
       "      <td>0</td>\n",
       "    </tr>\n",
       "    <tr>\n",
       "      <th>2</th>\n",
       "      <td>43</td>\n",
       "      <td>-1</td>\n",
       "      <td>1</td>\n",
       "      <td>0</td>\n",
       "    </tr>\n",
       "    <tr>\n",
       "      <th>3</th>\n",
       "      <td>49</td>\n",
       "      <td>1</td>\n",
       "      <td>1</td>\n",
       "      <td>0</td>\n",
       "    </tr>\n",
       "    <tr>\n",
       "      <th>4</th>\n",
       "      <td>58</td>\n",
       "      <td>-1</td>\n",
       "      <td>0</td>\n",
       "      <td>-1</td>\n",
       "    </tr>\n",
       "  </tbody>\n",
       "</table>\n",
       "</div>"
      ],
      "text/plain": [
       "   odor  temp  gas  pack\n",
       "0    66    -1   -1     0\n",
       "1    39     1   -1     0\n",
       "2    43    -1    1     0\n",
       "3    49     1    1     0\n",
       "4    58    -1    0    -1"
      ]
     },
     "execution_count": 3,
     "metadata": {},
     "output_type": "execute_result"
    }
   ],
   "source": [
    "import faraway.datasets.odor\n",
    "\n",
    "odor = faraway.datasets.odor.load()\n",
    "odor.head()"
   ]
  },
  {
   "cell_type": "code",
   "execution_count": 4,
   "metadata": {
    "colab": {
     "base_uri": "https://localhost:8080/"
    },
    "executionInfo": {
     "elapsed": 340,
     "status": "ok",
     "timestamp": 1660140759439,
     "user": {
      "displayName": "lev morozov",
      "userId": "08138582278897554642"
     },
     "user_tz": -180
    },
    "id": "Yvc30DTgGVM9",
    "outputId": "9939866c-6690-4f43-aadd-321bbe0d2532"
   },
   "outputs": [
    {
     "name": "stdout",
     "output_type": "stream",
     "text": [
      "\n",
      "Odor of chemical by production settings\n",
      "\n",
      "Description:\n",
      "\n",
      "     Data from an experiment to determine the effects of column\n",
      "     temperature, gas/liquid ratio and packing height in reducing\n",
      "     unpleasant odor of chemical product that was being sold for\n",
      "     household use\n",
      "\n",
      "Variables:\n",
      "\n",
      "     ‘odor’ Odor score\n",
      "\n",
      "     ‘temp’ Temperature coded as -1, 0 and 1\n",
      "\n",
      "     ‘gas’ Gas/Liquid ratio coded as -1, 0 and 1\n",
      "\n",
      "     ‘pack’ Packing height coded as -1, 0 and 1\n",
      "\n",
      "Source:\n",
      "\n",
      "     \"Statistical Design and Analysis of Experiments\" by P. John,\n",
      "     Macmillan, 1971\n",
      "\n"
     ]
    }
   ],
   "source": [
    "print(faraway.datasets.odor.DESCR)"
   ]
  },
  {
   "cell_type": "code",
   "execution_count": 11,
   "metadata": {},
   "outputs": [
    {
     "data": {
      "image/png": "[encoded data removed]",
      "text/plain": [
       "<Figure size 1080x360 with 3 Axes>"
      ]
     },
     "metadata": {
      "needs_background": "light"
     },
     "output_type": "display_data"
    }
   ],
   "source": [
    "f, (ax1, ax2, ax3) = plt.subplots(1, 3, figsize=(15, 5))\n",
    "\n",
    "for col, ax in [\n",
    "    (\"temp\", ax1),\n",
    "    (\"gas\", ax2),\n",
    "    (\"pack\", ax3),\n",
    "]:\n",
    "    sns.boxplot(x=col, y=\"odor\", data=odor, ax=ax)\n"
   ]
  },
  {
   "cell_type": "code",
   "execution_count": 5,
   "metadata": {
    "colab": {
     "base_uri": "https://localhost:8080/"
    },
    "executionInfo": {
     "elapsed": 210,
     "status": "ok",
     "timestamp": 1660141286914,
     "user": {
      "displayName": "lev morozov",
      "userId": "08138582278897554642"
     },
     "user_tz": -180
    },
    "id": "UD6LHMNqGaYE",
    "outputId": "9c9431de-986f-4dc0-8a5d-67f6deedfa81"
   },
   "outputs": [
    {
     "name": "stdout",
     "output_type": "stream",
     "text": [
      "Index(['Intercept', 'temp'], dtype='object') \n",
      " beta_temp:  -12.125 \n",
      " tstat =  -0.8693127657626215 \n",
      " pval =  0.40044187635510997 \n",
      " se = 13.947799316352048\n",
      "Index(['Intercept', 'pack', 'temp'], dtype='object') \n",
      " beta_temp:  -12.124999999999996 \n",
      " tstat =  -0.922704057049009 \n",
      " pval =  0.37434159772291087 \n",
      " se = 13.140724707310984\n",
      "Index(['Intercept', 'gas', 'temp'], dtype='object') \n",
      " beta_temp:  -12.124999999999996 \n",
      " tstat =  -0.8874523194499726 \n",
      " pval =  0.39227537192606743 \n",
      " se = 13.662705853892927\n",
      "Index(['Intercept', 'gas', 'pack', 'temp'], dtype='object') \n",
      " beta_temp:  -12.125000000000004 \n",
      " tstat =  -0.9523244005479982 \n",
      " pval =  0.36138996361313636 \n",
      " se = 12.732006019191452\n"
     ]
    },
    {
     "name": "stderr",
     "output_type": "stream",
     "text": [
      "/tmp/ipykernel_31915/2473802909.py:21: SettingWithCopyWarning: \n",
      "A value is trying to be set on a copy of a slice from a DataFrame.\n",
      "Try using .loc[row_indexer,col_indexer] = value instead\n",
      "\n",
      "See the caveats in the documentation: https://pandas.pydata.org/pandas-docs/stable/user_guide/indexing.html#returning-a-view-versus-a-copy\n",
      "  X_cut[\"temp\"] = odor[\"temp\"]\n"
     ]
    }
   ],
   "source": [
    "X = odor.loc[:, odor.columns.map(lambda x: (x != \"temp\") & (x != \"odor\"))]\n",
    "y = odor[\"odor\"]\n",
    "\n",
    "mask = pd.DataFrame(\n",
    "    np.full((1, X.shape[1]), False),\n",
    "    [0],\n",
    "    X.columns,\n",
    ")\n",
    "\n",
    "for i in range(4):\n",
    " \n",
    "  # i to binary\n",
    "  # binary to mask\n",
    "  for i, j in enumerate(format(i, \"02b\")):\n",
    "    if j == \"1\":\n",
    "      mask.iloc[0, i] = True\n",
    "    else:\n",
    "      mask.iloc[0, i] = False\n",
    "\n",
    "  X_cut = X.loc[:, mask.iloc[0, :]]\n",
    "  X_cut[\"temp\"] = odor[\"temp\"]\n",
    "  X_cut.insert(0, \"Intercept\", 1)\n",
    "\n",
    "  lmodi = sm.OLS(y, X_cut).fit()\n",
    "  print(\n",
    "      X_cut.columns, '\\n', \n",
    "      \"beta_temp: \", lmodi.params[\"temp\"], '\\n', \n",
    "      \"tstat = \", lmodi.tvalues[\"temp\"], '\\n',\n",
    "      \"pval = \", lmodi.pvalues[\"temp\"], '\\n',\n",
    "      \"se =\", lmodi.bse[\"temp\"],\n",
    "  )\n"
   ]
  },
  {
   "cell_type": "markdown",
   "metadata": {},
   "source": [
    "### exercise"
   ]
  },
  {
   "cell_type": "markdown",
   "metadata": {},
   "source": [
    "First get an obvious model just for the future reference"
   ]
  },
  {
   "cell_type": "code",
   "execution_count": 20,
   "metadata": {},
   "outputs": [
    {
     "name": "stdout",
     "output_type": "stream",
     "text": [
      "            coefs stderr tvalues pvalues\n",
      "Intercept  15.200  9.298    1.63  0.1304\n",
      "temp      -12.125 12.732   -0.95  0.3614\n",
      "gas       -17.000 12.732   -1.34  0.2088\n",
      "pack      -21.375 12.732   -1.68  0.1213\n",
      "\n",
      "n=15 p=4 Residual SD=36.012 R-squared=0.33\n"
     ]
    }
   ],
   "source": [
    "lmodp = smf.ols(\"odor ~ temp + gas + pack\", data=odor).fit()\n",
    "lmodp.sumary()"
   ]
  },
  {
   "cell_type": "markdown",
   "metadata": {
    "id": "67ekCaElHgq6"
   },
   "source": [
    "Now we fit the *second order response surface*"
   ]
  },
  {
   "cell_type": "code",
   "execution_count": 17,
   "metadata": {
    "id": "zVqI435yHHEs"
   },
   "outputs": [
    {
     "data": {
      "text/html": [
       "<div>\n",
       "<style scoped>\n",
       "    .dataframe tbody tr th:only-of-type {\n",
       "        vertical-align: middle;\n",
       "    }\n",
       "\n",
       "    .dataframe tbody tr th {\n",
       "        vertical-align: top;\n",
       "    }\n",
       "\n",
       "    .dataframe thead th {\n",
       "        text-align: right;\n",
       "    }\n",
       "</style>\n",
       "<table border=\"1\" class=\"dataframe\">\n",
       "  <thead>\n",
       "    <tr style=\"text-align: right;\">\n",
       "      <th></th>\n",
       "      <th>Intercept</th>\n",
       "      <th>temp</th>\n",
       "      <th>gas</th>\n",
       "      <th>pack</th>\n",
       "      <th>temp2</th>\n",
       "      <th>temp_gas</th>\n",
       "      <th>temp_pack</th>\n",
       "      <th>gas2</th>\n",
       "      <th>gas_pack</th>\n",
       "      <th>pack2</th>\n",
       "    </tr>\n",
       "  </thead>\n",
       "  <tbody>\n",
       "    <tr>\n",
       "      <th>0</th>\n",
       "      <td>1.0</td>\n",
       "      <td>-1.0</td>\n",
       "      <td>-1.0</td>\n",
       "      <td>0.0</td>\n",
       "      <td>1.0</td>\n",
       "      <td>1.0</td>\n",
       "      <td>-0.0</td>\n",
       "      <td>1.0</td>\n",
       "      <td>-0.0</td>\n",
       "      <td>0.0</td>\n",
       "    </tr>\n",
       "    <tr>\n",
       "      <th>1</th>\n",
       "      <td>1.0</td>\n",
       "      <td>1.0</td>\n",
       "      <td>-1.0</td>\n",
       "      <td>0.0</td>\n",
       "      <td>1.0</td>\n",
       "      <td>-1.0</td>\n",
       "      <td>0.0</td>\n",
       "      <td>1.0</td>\n",
       "      <td>-0.0</td>\n",
       "      <td>0.0</td>\n",
       "    </tr>\n",
       "    <tr>\n",
       "      <th>2</th>\n",
       "      <td>1.0</td>\n",
       "      <td>-1.0</td>\n",
       "      <td>1.0</td>\n",
       "      <td>0.0</td>\n",
       "      <td>1.0</td>\n",
       "      <td>-1.0</td>\n",
       "      <td>-0.0</td>\n",
       "      <td>1.0</td>\n",
       "      <td>0.0</td>\n",
       "      <td>0.0</td>\n",
       "    </tr>\n",
       "    <tr>\n",
       "      <th>3</th>\n",
       "      <td>1.0</td>\n",
       "      <td>1.0</td>\n",
       "      <td>1.0</td>\n",
       "      <td>0.0</td>\n",
       "      <td>1.0</td>\n",
       "      <td>1.0</td>\n",
       "      <td>0.0</td>\n",
       "      <td>1.0</td>\n",
       "      <td>0.0</td>\n",
       "      <td>0.0</td>\n",
       "    </tr>\n",
       "    <tr>\n",
       "      <th>4</th>\n",
       "      <td>1.0</td>\n",
       "      <td>-1.0</td>\n",
       "      <td>0.0</td>\n",
       "      <td>-1.0</td>\n",
       "      <td>1.0</td>\n",
       "      <td>-0.0</td>\n",
       "      <td>1.0</td>\n",
       "      <td>0.0</td>\n",
       "      <td>-0.0</td>\n",
       "      <td>1.0</td>\n",
       "    </tr>\n",
       "  </tbody>\n",
       "</table>\n",
       "</div>"
      ],
      "text/plain": [
       "   Intercept  temp  gas  pack  temp2  temp_gas  temp_pack  gas2  gas_pack  \\\n",
       "0        1.0  -1.0 -1.0   0.0    1.0       1.0       -0.0   1.0      -0.0   \n",
       "1        1.0   1.0 -1.0   0.0    1.0      -1.0        0.0   1.0      -0.0   \n",
       "2        1.0  -1.0  1.0   0.0    1.0      -1.0       -0.0   1.0       0.0   \n",
       "3        1.0   1.0  1.0   0.0    1.0       1.0        0.0   1.0       0.0   \n",
       "4        1.0  -1.0  0.0  -1.0    1.0      -0.0        1.0   0.0      -0.0   \n",
       "\n",
       "   pack2  \n",
       "0    0.0  \n",
       "1    0.0  \n",
       "2    0.0  \n",
       "3    0.0  \n",
       "4    1.0  "
      ]
     },
     "execution_count": 17,
     "metadata": {},
     "output_type": "execute_result"
    }
   ],
   "source": [
    "from sklearn.preprocessing import PolynomialFeatures\n",
    "poly = PolynomialFeatures(2)\n",
    "X = odor.loc[:, [\"temp\", \"gas\", \"pack\"]]\n",
    "Xp = poly.fit_transform(X)\n",
    "Xp = pd.DataFrame(\n",
    "    Xp, columns=[\n",
    "        \"Intercept\", \n",
    "        \"temp\", \"gas\", \"pack\", \n",
    "        \"temp2\", \"temp_gas\", \"temp_pack\", \n",
    "        \"gas2\", \"gas_pack\", \"pack2\"\n",
    "])\n",
    "Xp.head()"
   ]
  },
  {
   "cell_type": "code",
   "execution_count": 33,
   "metadata": {},
   "outputs": [
    {
     "name": "stdout",
     "output_type": "stream",
     "text": [
      "            coefs stderr tvalues pvalues\n",
      "Intercept -30.667 12.978   -2.36  0.0645\n",
      "temp      -12.125  7.947   -1.53  0.1876\n",
      "gas       -17.000  7.947   -2.14  0.0854\n",
      "pack      -21.375  7.947   -2.69  0.0433\n",
      "temp2      32.083 11.698    2.74  0.0407\n",
      "temp_gas    8.250 11.239    0.73  0.4959\n",
      "temp_pack   1.500 11.239    0.13  0.8990\n",
      "gas2       47.833 11.698    4.09  0.0095\n",
      "gas_pack   -1.750 11.239   -0.16  0.8824\n",
      "pack2       6.083 11.698    0.52  0.6252\n",
      "\n",
      "n=15 p=10 Residual SD=22.479 R-squared=0.88\n"
     ]
    }
   ],
   "source": [
    "import faraway.utils\n",
    "\n",
    "lmod = sm.OLS(odor[\"odor\"], Xp).fit()\n",
    "lmod.sumary()"
   ]
  },
  {
   "cell_type": "code",
   "execution_count": 21,
   "metadata": {},
   "outputs": [
    {
     "data": {
      "text/plain": [
       "5.0"
      ]
     },
     "execution_count": 21,
     "metadata": {},
     "output_type": "execute_result"
    }
   ],
   "source": [
    "lmod.df_resid"
   ]
  },
  {
   "cell_type": "markdown",
   "metadata": {},
   "source": [
    "As we see, the interaction terms are insignificant. Can we remove them from the model? If so, this would suggest that the effects of each of the predictors on the response are \"independent\""
   ]
  },
  {
   "cell_type": "code",
   "execution_count": 26,
   "metadata": {},
   "outputs": [
    {
     "name": "stdout",
     "output_type": "stream",
     "text": [
      "            coefs stderr tvalues pvalues\n",
      "Intercept -30.667 10.840   -2.83  0.0222\n",
      "temp      -12.125  6.638   -1.83  0.1052\n",
      "gas       -17.000  6.638   -2.56  0.0336\n",
      "pack      -21.375  6.638   -3.22  0.0122\n",
      "temp2      32.083  9.771    3.28  0.0111\n",
      "gas2       47.833  9.771    4.90  0.0012\n",
      "pack2       6.083  9.771    0.62  0.5509\n",
      "\n",
      "n=15 p=7 Residual SD=18.775 R-squared=0.87\n"
     ]
    }
   ],
   "source": [
    "Xp_cut = Xp.drop(columns=[\"temp_gas\", \"temp_pack\", \"gas_pack\"])\n",
    "lmod_cut = sm.OLS(y, Xp_cut).fit()\n",
    "lmod_cut.sumary()"
   ]
  },
  {
   "cell_type": "code",
   "execution_count": 27,
   "metadata": {},
   "outputs": [
    {
     "data": {
      "text/plain": [
       "(0.1936207408384741, 0.896469911165873, 3.0)"
      ]
     },
     "execution_count": 27,
     "metadata": {},
     "output_type": "execute_result"
    }
   ],
   "source": [
    "lmod.compare_f_test(lmod_cut)"
   ]
  },
  {
   "cell_type": "code",
   "execution_count": 28,
   "metadata": {},
   "outputs": [
    {
     "data": {
      "text/html": [
       "<div>\n",
       "<style scoped>\n",
       "    .dataframe tbody tr th:only-of-type {\n",
       "        vertical-align: middle;\n",
       "    }\n",
       "\n",
       "    .dataframe tbody tr th {\n",
       "        vertical-align: top;\n",
       "    }\n",
       "\n",
       "    .dataframe thead th {\n",
       "        text-align: right;\n",
       "    }\n",
       "</style>\n",
       "<table border=\"1\" class=\"dataframe\">\n",
       "  <thead>\n",
       "    <tr style=\"text-align: right;\">\n",
       "      <th></th>\n",
       "      <th>df_resid</th>\n",
       "      <th>ssr</th>\n",
       "      <th>df_diff</th>\n",
       "      <th>ss_diff</th>\n",
       "      <th>F</th>\n",
       "      <th>Pr(&gt;F)</th>\n",
       "    </tr>\n",
       "  </thead>\n",
       "  <tbody>\n",
       "    <tr>\n",
       "      <th>0</th>\n",
       "      <td>8.0</td>\n",
       "      <td>2819.916667</td>\n",
       "      <td>0.0</td>\n",
       "      <td>NaN</td>\n",
       "      <td>NaN</td>\n",
       "      <td>NaN</td>\n",
       "    </tr>\n",
       "    <tr>\n",
       "      <th>1</th>\n",
       "      <td>5.0</td>\n",
       "      <td>2526.416667</td>\n",
       "      <td>3.0</td>\n",
       "      <td>293.5</td>\n",
       "      <td>0.193621</td>\n",
       "      <td>0.89647</td>\n",
       "    </tr>\n",
       "  </tbody>\n",
       "</table>\n",
       "</div>"
      ],
      "text/plain": [
       "   df_resid          ssr  df_diff  ss_diff         F   Pr(>F)\n",
       "0       8.0  2819.916667      0.0      NaN       NaN      NaN\n",
       "1       5.0  2526.416667      3.0    293.5  0.193621  0.89647"
      ]
     },
     "execution_count": 28,
     "metadata": {},
     "output_type": "execute_result"
    }
   ],
   "source": [
    "sm.stats.anova_lm(lmod_cut, lmod)"
   ]
  },
  {
   "cell_type": "markdown",
   "metadata": {},
   "source": [
    "We fail to reject $$H_0: \\beta_{temp\\_gas} = \\beta_{temp\\_pack} = \\beta_{pack\\_gas} = 0$$\n",
    "Is this simplification justified? I don't know. Seems like yes. The only obstacle to this conclusion is this *hierarchy principle* described in the chapter."
   ]
  },
  {
   "cell_type": "markdown",
   "metadata": {},
   "source": [
    "Let's now determine the values of the dependent variables from the second model which minimize the response.\n",
    "The lack of interaction factors greatly simplifies the process: we can minimize the functions separately for each predictor.</br>\n",
    "The minimizing values: \n",
    "$\n",
    "\\begin{cases}\n",
    "    pack=1 \\\\\n",
    "    temp=0 \\\\\n",
    "    gas=0 \\\\\n",
    "\\end{cases}\n",
    "$"
   ]
  }
 ],
 "metadata": {
  "colab": {
   "authorship_tag": "ABX9TyOgQRpGhxpjlqXmVxRqOP6R",
   "name": "RA_odor.ipynb",
   "provenance": []
  },
  "kernelspec": {
   "display_name": "Python 3 (ipykernel)",
   "language": "python",
   "name": "python3"
  },
  "language_info": {
   "codemirror_mode": {
    "name": "ipython",
    "version": 3
   },
   "file_extension": ".py",
   "mimetype": "text/x-python",
   "name": "python",
   "nbconvert_exporter": "python",
   "pygments_lexer": "ipython3",
   "version": "3.10.4"
  }
 },
 "nbformat": 4,
 "nbformat_minor": 1
}
