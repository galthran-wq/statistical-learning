{
 "cells": [
  {
   "cell_type": "code",
   "execution_count": 1,
   "metadata": {
    "colab": {
     "base_uri": "https://localhost:8080/"
    },
    "executionInfo": {
     "elapsed": 2311,
     "status": "ok",
     "timestamp": 1660210247872,
     "user": {
      "displayName": "lev morozov",
      "userId": "08138582278897554642"
     },
     "user_tz": -180
    },
    "id": "QiUNaR7di8bH",
    "outputId": "fbf33c35-933c-47db-e660-a0a503300ada"
   },
   "outputs": [],
   "source": [
    "# This Python 3 environment comes with many helpful analytics libraries installed\n",
    "# It is defined by the kaggle/python Docker image: https://github.com/kaggle/docker-python\n",
    "# For example, here's several helpful packages to load\n",
    "\n",
    "import numpy as np # linear algebra\n",
    "import pandas as pd # data processing, CSV file I/O (e.g. pd.read_csv)\n",
    "import matplotlib.pyplot as plt\n",
    "import scipy as sp\n",
    "import seaborn as sns\n",
    "import statsmodels.formula.api as smf\n",
    "import statsmodels.api as sm\n",
    "\n",
    "sns.set(rc={'figure.figsize':(20,8.27)})\n",
    "\n",
    "# Input data files are available in the read-only \"../input/\" directory\n",
    "# For example, running this (by clicking run or pressing Shift+Enter) will list all files under the input directory\n",
    "\n",
    "import os\n",
    "for dirname, _, filenames in os.walk('/kaggle/input'):\n",
    "    for filename in filenames:\n",
    "        print(os.path.join(dirname, filename))\n",
    "\n",
    "# You can write up to 20GB to the current directory (/kaggle/working/) that gets preserved as output when you create a version using \"Save & Run All\" \n",
    "# You can also write temporary files to /kaggle/temp/, but they won't be saved outside of the current session"
   ]
  },
  {
   "cell_type": "code",
   "execution_count": 2,
   "metadata": {
    "colab": {
     "base_uri": "https://localhost:8080/"
    },
    "executionInfo": {
     "elapsed": 9720,
     "status": "ok",
     "timestamp": 1660210257582,
     "user": {
      "displayName": "lev morozov",
      "userId": "08138582278897554642"
     },
     "user_tz": -180
    },
    "id": "wZ7ivVg4i8bP",
    "outputId": "a427ed52-aa2c-42f8-b9ac-7be0b9fc1e5a"
   },
   "outputs": [
    {
     "name": "stdout",
     "output_type": "stream",
     "text": [
      "Defaulting to user installation because normal site-packages is not writeable\n",
      "Requirement already satisfied: faraway in /home/lev/.local/lib/python3.10/site-packages (0.0.6)\n"
     ]
    }
   ],
   "source": [
    "!pip install faraway"
   ]
  },
  {
   "cell_type": "markdown",
   "metadata": {
    "id": "ZzRU6jAEi8bP"
   },
   "source": [
    "![image.png](attachment:ce22e820-cd7e-4701-befb-a4bda23ea2b2.png)"
   ]
  },
  {
   "cell_type": "code",
   "execution_count": 3,
   "metadata": {
    "colab": {
     "base_uri": "https://localhost:8080/",
     "height": 206
    },
    "executionInfo": {
     "elapsed": 12,
     "status": "ok",
     "timestamp": 1660210257583,
     "user": {
      "displayName": "lev morozov",
      "userId": "08138582278897554642"
     },
     "user_tz": -180
    },
    "id": "gomOwaQsi8bR",
    "outputId": "198143a8-f1d5-41ed-f6e1-b26361cd4cba"
   },
   "outputs": [
    {
     "data": {
      "text/html": [
       "<div>\n",
       "<style scoped>\n",
       "    .dataframe tbody tr th:only-of-type {\n",
       "        vertical-align: middle;\n",
       "    }\n",
       "\n",
       "    .dataframe tbody tr th {\n",
       "        vertical-align: top;\n",
       "    }\n",
       "\n",
       "    .dataframe thead th {\n",
       "        text-align: right;\n",
       "    }\n",
       "</style>\n",
       "<table border=\"1\" class=\"dataframe\">\n",
       "  <thead>\n",
       "    <tr style=\"text-align: right;\">\n",
       "      <th></th>\n",
       "      <th>sex</th>\n",
       "      <th>status</th>\n",
       "      <th>income</th>\n",
       "      <th>verbal</th>\n",
       "      <th>gamble</th>\n",
       "    </tr>\n",
       "  </thead>\n",
       "  <tbody>\n",
       "    <tr>\n",
       "      <th>0</th>\n",
       "      <td>1</td>\n",
       "      <td>51</td>\n",
       "      <td>2.0</td>\n",
       "      <td>8</td>\n",
       "      <td>0.0</td>\n",
       "    </tr>\n",
       "    <tr>\n",
       "      <th>1</th>\n",
       "      <td>1</td>\n",
       "      <td>28</td>\n",
       "      <td>2.5</td>\n",
       "      <td>8</td>\n",
       "      <td>0.0</td>\n",
       "    </tr>\n",
       "    <tr>\n",
       "      <th>2</th>\n",
       "      <td>1</td>\n",
       "      <td>37</td>\n",
       "      <td>2.0</td>\n",
       "      <td>6</td>\n",
       "      <td>0.0</td>\n",
       "    </tr>\n",
       "    <tr>\n",
       "      <th>3</th>\n",
       "      <td>1</td>\n",
       "      <td>28</td>\n",
       "      <td>7.0</td>\n",
       "      <td>4</td>\n",
       "      <td>7.3</td>\n",
       "    </tr>\n",
       "    <tr>\n",
       "      <th>4</th>\n",
       "      <td>1</td>\n",
       "      <td>65</td>\n",
       "      <td>2.0</td>\n",
       "      <td>8</td>\n",
       "      <td>19.6</td>\n",
       "    </tr>\n",
       "  </tbody>\n",
       "</table>\n",
       "</div>"
      ],
      "text/plain": [
       "   sex  status  income  verbal  gamble\n",
       "0    1      51     2.0       8     0.0\n",
       "1    1      28     2.5       8     0.0\n",
       "2    1      37     2.0       6     0.0\n",
       "3    1      28     7.0       4     7.3\n",
       "4    1      65     2.0       8    19.6"
      ]
     },
     "execution_count": 3,
     "metadata": {},
     "output_type": "execute_result"
    }
   ],
   "source": [
    "import faraway.datasets.teengamb\n",
    "teengamb = faraway.datasets.teengamb.load()\n",
    "teengamb.head()"
   ]
  },
  {
   "cell_type": "code",
   "execution_count": 4,
   "metadata": {
    "colab": {
     "base_uri": "https://localhost:8080/"
    },
    "executionInfo": {
     "elapsed": 11,
     "status": "ok",
     "timestamp": 1660210257584,
     "user": {
      "displayName": "lev morozov",
      "userId": "08138582278897554642"
     },
     "user_tz": -180
    },
    "id": "x_ko-0Kji8bR",
    "outputId": "3e87e6c8-64f3-4f87-99b5-8d09dbbf57b6"
   },
   "outputs": [
    {
     "name": "stdout",
     "output_type": "stream",
     "text": [
      "\n",
      "Study of teenage gambling in Britain\n",
      "\n",
      "Description:\n",
      "\n",
      "     The ‘teengamb’ data frame has 47 rows and 5 columns. A survey was\n",
      "     conducted to study teenage gambling in Britain.\n",
      "\n",
      "Variables:\n",
      "\n",
      "     This data frame contains the following columns:\n",
      "\n",
      "     ‘sex’ 0=male, 1=female\n",
      "\n",
      "     ‘status’ Socioeconomic status score based on parents' occupation\n",
      "\n",
      "     ‘income’ in pounds per week\n",
      "\n",
      "     ‘verbal’ verbal score in words out of 12 correctly defined\n",
      "\n",
      "     ‘gamble’ expenditure on gambling in pounds per year\n",
      "\n",
      "Source:\n",
      "\n",
      "     Ide-Smith & Lea, 1988, Journal of Gambling Behavior, 4, 110-118\n",
      "\n"
     ]
    }
   ],
   "source": [
    "print(faraway.datasets.teengamb.DESCR)"
   ]
  },
  {
   "cell_type": "code",
   "execution_count": 5,
   "metadata": {
    "colab": {
     "base_uri": "https://localhost:8080/"
    },
    "executionInfo": {
     "elapsed": 30,
     "status": "ok",
     "timestamp": 1660210257986,
     "user": {
      "displayName": "lev morozov",
      "userId": "08138582278897554642"
     },
     "user_tz": -180
    },
    "id": "Kxb8y1NKi8bS",
    "outputId": "295877a4-1a91-43b8-fa53-7341a91f3981"
   },
   "outputs": [
    {
     "data": {
      "text/plain": [
       "0    28\n",
       "1    19\n",
       "Name: sex, dtype: int64"
      ]
     },
     "execution_count": 5,
     "metadata": {},
     "output_type": "execute_result"
    }
   ],
   "source": [
    "teengamb[\"sex\"].value_counts()"
   ]
  },
  {
   "cell_type": "code",
   "execution_count": 6,
   "metadata": {
    "colab": {
     "base_uri": "https://localhost:8080/"
    },
    "executionInfo": {
     "elapsed": 25,
     "status": "ok",
     "timestamp": 1660210257987,
     "user": {
      "displayName": "lev morozov",
      "userId": "08138582278897554642"
     },
     "user_tz": -180
    },
    "id": "WE1KxqDCi8bS",
    "outputId": "dc4be27f-26b5-4adc-882b-066ebf0e0386"
   },
   "outputs": [
    {
     "data": {
      "text/plain": [
       "male      28\n",
       "female    19\n",
       "Name: sex, dtype: int64"
      ]
     },
     "execution_count": 6,
     "metadata": {},
     "output_type": "execute_result"
    }
   ],
   "source": [
    "teengamb[\"sex\"] = teengamb[\"sex\"].astype('category')\n",
    "teengamb[\"sex\"] = teengamb[\"sex\"].cat.rename_categories({0: \"male\", 1: \"female\"})\n",
    "teengamb[\"sex\"].value_counts()"
   ]
  },
  {
   "cell_type": "code",
   "execution_count": 7,
   "metadata": {
    "colab": {
     "base_uri": "https://localhost:8080/",
     "height": 534
    },
    "executionInfo": {
     "elapsed": 606,
     "status": "ok",
     "timestamp": 1660210258576,
     "user": {
      "displayName": "lev morozov",
      "userId": "08138582278897554642"
     },
     "user_tz": -180
    },
    "id": "uEL620YGi8bT",
    "outputId": "b648f86d-d8de-44d0-f5eb-11d5deda0d54"
   },
   "outputs": [
    {
     "data": {
      "text/plain": [
       "<AxesSubplot:xlabel='sex', ylabel='status'>"
      ]
     },
     "execution_count": 7,
     "metadata": {},
     "output_type": "execute_result"
    },
    {
     "data": {
      "image/png": "[encoded data removed]",
      "text/plain": [
       "<Figure size 432x288 with 2 Axes>"
      ]
     },
     "metadata": {
      "needs_background": "light"
     },
     "output_type": "display_data"
    }
   ],
   "source": [
    "f, axes = plt.subplots(1, 2)\n",
    "\n",
    "sns.swarmplot(x=\"sex\", y=\"status\", data=teengamb, orient='v' , ax=axes[0])\n",
    "sns.boxplot(x=\"sex\", y=\"status\", data=teengamb, orient='v' , ax=axes[1])"
   ]
  },
  {
   "cell_type": "markdown",
   "metadata": {
    "id": "x4RVd_8ei8bU"
   },
   "source": [
    "The later is more self-contained, explicit, straight to the point, especially if the sample size was bigger"
   ]
  },
  {
   "cell_type": "code",
   "execution_count": 8,
   "metadata": {
    "colab": {
     "base_uri": "https://localhost:8080/",
     "height": 534
    },
    "executionInfo": {
     "elapsed": 725,
     "status": "ok",
     "timestamp": 1660210259292,
     "user": {
      "displayName": "lev morozov",
      "userId": "08138582278897554642"
     },
     "user_tz": -180
    },
    "id": "2wUop5hzi8bV",
    "outputId": "ebb924d3-440c-444f-f654-d62af3b97262"
   },
   "outputs": [
    {
     "data": {
      "text/plain": [
       "<AxesSubplot:xlabel='verbal', ylabel='count'>"
      ]
     },
     "execution_count": 8,
     "metadata": {},
     "output_type": "execute_result"
    },
    {
     "data": {
      "image/png": "[encoded data removed]",
      "text/plain": [
       "<Figure size 432x288 with 2 Axes>"
      ]
     },
     "metadata": {
      "needs_background": "light"
     },
     "output_type": "display_data"
    }
   ],
   "source": [
    "f, axes = plt.subplots(1, 2)\n",
    "\n",
    "# in this case histplot is identical to distplot, \n",
    "# but I use the former for subplotting\n",
    "sns.histplot(teengamb[\"verbal\"], ax = axes[0])\n",
    "sns.countplot(x=\"verbal\", data=teengamb, ax=axes[1])"
   ]
  },
  {
   "cell_type": "markdown",
   "metadata": {
    "id": "gHnYCRmxi8bW"
   },
   "source": [
    "Colors help to emphasize different categories, so the latter is preferable"
   ]
  },
  {
   "cell_type": "code",
   "execution_count": 9,
   "metadata": {
    "colab": {
     "base_uri": "https://localhost:8080/",
     "height": 534
    },
    "executionInfo": {
     "elapsed": 407,
     "status": "ok",
     "timestamp": 1660210259694,
     "user": {
      "displayName": "lev morozov",
      "userId": "08138582278897554642"
     },
     "user_tz": -180
    },
    "id": "K_lsvT5ki8bW",
    "outputId": "34bb3604-79a7-461f-94bb-4ca5db433547"
   },
   "outputs": [
    {
     "data": {
      "text/plain": [
       "<AxesSubplot:xlabel='income', ylabel='gamble'>"
      ]
     },
     "execution_count": 9,
     "metadata": {},
     "output_type": "execute_result"
    },
    {
     "data": {
      "image/png": "[encoded data removed]",
      "text/plain": [
       "<Figure size 432x288 with 1 Axes>"
      ]
     },
     "metadata": {
      "needs_background": "light"
     },
     "output_type": "display_data"
    }
   ],
   "source": [
    "sns.scatterplot(x=\"income\", y=\"gamble\", hue=\"sex\", data=teengamb)"
   ]
  },
  {
   "cell_type": "code",
   "execution_count": 10,
   "metadata": {
    "colab": {
     "base_uri": "https://localhost:8080/",
     "height": 382
    },
    "executionInfo": {
     "elapsed": 1359,
     "status": "ok",
     "timestamp": 1660210261045,
     "user": {
      "displayName": "lev morozov",
      "userId": "08138582278897554642"
     },
     "user_tz": -180
    },
    "id": "hgv-ntUei8bW",
    "outputId": "7f5cb3fb-0d94-4ea6-c5aa-851d2f3df960"
   },
   "outputs": [
    {
     "data": {
      "text/plain": [
       "<seaborn.axisgrid.FacetGrid at 0x7fdf723a85e0>"
      ]
     },
     "execution_count": 10,
     "metadata": {},
     "output_type": "execute_result"
    },
    {
     "data": {
      "image/png": "[encoded data removed]",
      "text/plain": [
       "<Figure size 720x360 with 2 Axes>"
      ]
     },
     "metadata": {
      "needs_background": "light"
     },
     "output_type": "display_data"
    }
   ],
   "source": [
    "sns.relplot(x=\"income\", y=\"gamble\", data=teengamb, col=\"sex\")"
   ]
  },
  {
   "cell_type": "markdown",
   "metadata": {
    "id": "zTdmeVCji8bX"
   },
   "source": [
    "Nevertheless, an observation: female teenagers (according to the sample data) are less sensible to suffer from gambling with the income increase </br>\n",
    "This can be justifed formally:"
   ]
  },
  {
   "cell_type": "code",
   "execution_count": 11,
   "metadata": {
    "colab": {
     "base_uri": "https://localhost:8080/"
    },
    "executionInfo": {
     "elapsed": 24,
     "status": "ok",
     "timestamp": 1660210261047,
     "user": {
      "displayName": "lev morozov",
      "userId": "08138582278897554642"
     },
     "user_tz": -180
    },
    "id": "vunYM6aui8bX",
    "outputId": "8ba3f238-abe8-433d-d14f-7e44348ec8ed"
   },
   "outputs": [
    {
     "name": "stdout",
     "output_type": "stream",
     "text": [
      "female rho = 0.09\n",
      "male rho = 0.71\n"
     ]
    }
   ],
   "source": [
    "for sex in [\"female\", \"male\"]:\n",
    "    print(sex, \"rho =\", teengamb[teengamb[\"sex\"] == sex].corr().loc[\"income\", \"gamble\"].round(2))"
   ]
  },
  {
   "cell_type": "markdown",
   "metadata": {
    "id": "CMF9il7Ni8bX"
   },
   "source": [
    "And graphically:"
   ]
  },
  {
   "cell_type": "code",
   "execution_count": 12,
   "metadata": {
    "colab": {
     "base_uri": "https://localhost:8080/",
     "height": 382
    },
    "executionInfo": {
     "elapsed": 1093,
     "status": "ok",
     "timestamp": 1660210262128,
     "user": {
      "displayName": "lev morozov",
      "userId": "08138582278897554642"
     },
     "user_tz": -180
    },
    "id": "b4gZPhjUi8bY",
    "outputId": "b64f39fe-0f27-4db6-d27e-8d6215a0ea07"
   },
   "outputs": [
    {
     "data": {
      "text/plain": [
       "<seaborn.axisgrid.FacetGrid at 0x7fdfb8a61bd0>"
      ]
     },
     "execution_count": 12,
     "metadata": {},
     "output_type": "execute_result"
    },
    {
     "data": {
      "image/png": "[encoded data removed]",
      "text/plain": [
       "<Figure size 437.975x360 with 1 Axes>"
      ]
     },
     "metadata": {
      "needs_background": "light"
     },
     "output_type": "display_data"
    }
   ],
   "source": [
    "sns.lmplot(x=\"income\", \n",
    "           y=\"gamble\",\n",
    "           hue=\"sex\",\n",
    "           data=teengamb)"
   ]
  },
  {
   "cell_type": "code",
   "execution_count": 13,
   "metadata": {
    "colab": {
     "base_uri": "https://localhost:8080/",
     "height": 300
    },
    "executionInfo": {
     "elapsed": 8,
     "status": "ok",
     "timestamp": 1660210262129,
     "user": {
      "displayName": "lev morozov",
      "userId": "08138582278897554642"
     },
     "user_tz": -180
    },
    "id": "U4mEWyUMi8bY",
    "outputId": "419b27ca-4e33-44fa-e48c-7b2309770c50"
   },
   "outputs": [
    {
     "data": {
      "text/html": [
       "<div>\n",
       "<style scoped>\n",
       "    .dataframe tbody tr th:only-of-type {\n",
       "        vertical-align: middle;\n",
       "    }\n",
       "\n",
       "    .dataframe tbody tr th {\n",
       "        vertical-align: top;\n",
       "    }\n",
       "\n",
       "    .dataframe thead th {\n",
       "        text-align: right;\n",
       "    }\n",
       "</style>\n",
       "<table border=\"1\" class=\"dataframe\">\n",
       "  <thead>\n",
       "    <tr style=\"text-align: right;\">\n",
       "      <th></th>\n",
       "      <th>status</th>\n",
       "      <th>income</th>\n",
       "      <th>verbal</th>\n",
       "      <th>gamble</th>\n",
       "    </tr>\n",
       "  </thead>\n",
       "  <tbody>\n",
       "    <tr>\n",
       "      <th>count</th>\n",
       "      <td>47.000000</td>\n",
       "      <td>47.000000</td>\n",
       "      <td>47.000000</td>\n",
       "      <td>47.000000</td>\n",
       "    </tr>\n",
       "    <tr>\n",
       "      <th>mean</th>\n",
       "      <td>45.234043</td>\n",
       "      <td>4.641915</td>\n",
       "      <td>6.659574</td>\n",
       "      <td>19.301064</td>\n",
       "    </tr>\n",
       "    <tr>\n",
       "      <th>std</th>\n",
       "      <td>17.262944</td>\n",
       "      <td>3.551371</td>\n",
       "      <td>1.856558</td>\n",
       "      <td>31.515866</td>\n",
       "    </tr>\n",
       "    <tr>\n",
       "      <th>min</th>\n",
       "      <td>18.000000</td>\n",
       "      <td>0.600000</td>\n",
       "      <td>1.000000</td>\n",
       "      <td>0.000000</td>\n",
       "    </tr>\n",
       "    <tr>\n",
       "      <th>25%</th>\n",
       "      <td>28.000000</td>\n",
       "      <td>2.000000</td>\n",
       "      <td>6.000000</td>\n",
       "      <td>1.100000</td>\n",
       "    </tr>\n",
       "    <tr>\n",
       "      <th>50%</th>\n",
       "      <td>43.000000</td>\n",
       "      <td>3.250000</td>\n",
       "      <td>7.000000</td>\n",
       "      <td>6.000000</td>\n",
       "    </tr>\n",
       "    <tr>\n",
       "      <th>75%</th>\n",
       "      <td>61.500000</td>\n",
       "      <td>6.210000</td>\n",
       "      <td>8.000000</td>\n",
       "      <td>19.400000</td>\n",
       "    </tr>\n",
       "    <tr>\n",
       "      <th>max</th>\n",
       "      <td>75.000000</td>\n",
       "      <td>15.000000</td>\n",
       "      <td>10.000000</td>\n",
       "      <td>156.000000</td>\n",
       "    </tr>\n",
       "  </tbody>\n",
       "</table>\n",
       "</div>"
      ],
      "text/plain": [
       "          status     income     verbal      gamble\n",
       "count  47.000000  47.000000  47.000000   47.000000\n",
       "mean   45.234043   4.641915   6.659574   19.301064\n",
       "std    17.262944   3.551371   1.856558   31.515866\n",
       "min    18.000000   0.600000   1.000000    0.000000\n",
       "25%    28.000000   2.000000   6.000000    1.100000\n",
       "50%    43.000000   3.250000   7.000000    6.000000\n",
       "75%    61.500000   6.210000   8.000000   19.400000\n",
       "max    75.000000  15.000000  10.000000  156.000000"
      ]
     },
     "execution_count": 13,
     "metadata": {},
     "output_type": "execute_result"
    }
   ],
   "source": [
    "teengamb.describe()"
   ]
  },
  {
   "cell_type": "markdown",
   "metadata": {
    "id": "dejXnv-ki8bY"
   },
   "source": [
    "Judging by the displayed statistics, \n",
    "* **status** seems to be alright: mean and median are almost the same, quantiles are distributed uniformly; one would expect a reasonably behaved bell-shaped curve\n",
    "* **income**, on the other hand, does misbehave: it's certainly right-skewed -- max, and q75 are far from the mean, the std is comparably small\n",
    "* Contrastingly, **verbal** is a bell-shaped with an outlier: q's are well-distributed around the mean within the std, so min clearly corresponds to an outlier\n",
    "* **gamble** exhibits extreme level of variance, and is enoormously right-skewed. "
   ]
  },
  {
   "cell_type": "code",
   "execution_count": 14,
   "metadata": {
    "colab": {
     "base_uri": "https://localhost:8080/",
     "height": 437
    },
    "executionInfo": {
     "elapsed": 3820,
     "status": "ok",
     "timestamp": 1660210265943,
     "user": {
      "displayName": "lev morozov",
      "userId": "08138582278897554642"
     },
     "user_tz": -180
    },
    "id": "kqd_Kpimi8bZ",
    "outputId": "022e0f8c-22b3-4741-b7f4-f70b7bfc5041"
   },
   "outputs": [
    {
     "data": {
      "image/png": "[encoded data removed]",
      "text/plain": [
       "<Figure size 720x432 with 8 Axes>"
      ]
     },
     "metadata": {
      "needs_background": "light"
     },
     "output_type": "display_data"
    }
   ],
   "source": [
    "num_cols = teengamb.select_dtypes(include=['int16', 'int32', 'int64', 'float16', 'float32', 'float64'])\n",
    "\n",
    "# https://stackoverflow.com/questions/43638851/pandas-histogram-plot-with-kde\n",
    "k = len(num_cols.columns)\n",
    "n = 2\n",
    "m = (k - 1) // n + 1\n",
    "fig, axes = plt.subplots(m, n, figsize=(n * 5, m * 3))\n",
    "for i, (name, col) in enumerate(num_cols.iteritems()):\n",
    "    r, c = i // n, i % n\n",
    "    ax = axes[r, c]\n",
    "    col.hist(ax=ax)\n",
    "    ax2 = col.plot.kde(ax=ax, secondary_y=True, title=name)\n",
    "    ax2.set_ylim(0)\n",
    "\n",
    "fig.tight_layout()"
   ]
  },
  {
   "cell_type": "markdown",
   "metadata": {
    "id": "6zqCkLSqi8bZ"
   },
   "source": [
    "Let's also justify our findings using skewness metric:"
   ]
  },
  {
   "cell_type": "code",
   "execution_count": 15,
   "metadata": {
    "colab": {
     "base_uri": "https://localhost:8080/"
    },
    "executionInfo": {
     "elapsed": 14,
     "status": "ok",
     "timestamp": 1660210265946,
     "user": {
      "displayName": "lev morozov",
      "userId": "08138582278897554642"
     },
     "user_tz": -180
    },
    "id": "7iBxT-3Si8bZ",
    "outputId": "7051fd8b-8c8d-4271-f9a3-9a9727b73cf1"
   },
   "outputs": [
    {
     "data": {
      "text/plain": [
       "status    0.109725\n",
       "income    1.420809\n",
       "verbal   -0.838140\n",
       "gamble    2.508138\n",
       "dtype: float64"
      ]
     },
     "execution_count": 15,
     "metadata": {},
     "output_type": "execute_result"
    }
   ],
   "source": [
    "num_cols.skew()"
   ]
  },
  {
   "cell_type": "markdown",
   "metadata": {
    "id": "KNDI_4xfi8bZ"
   },
   "source": [
    "*  If the skewness is between -0.5 and 0.5, the data are fairly symmetrical\n",
    "\n",
    "*  If the skewness is between -1 and  -0.5 or between 0.5 and 1, the data are moderately skewed (left and right correspondingly)\n",
    "\n",
    "*  If the skewness is less than -1 or greater than 1, the data are highly skewed\n",
    "\n",
    "so the results are in accordance with our previous analysis."
   ]
  },
  {
   "cell_type": "markdown",
   "metadata": {
    "id": "VjpEHYpoi8ba"
   },
   "source": [
    "<img src=\"attachment:2ceb4c35-05ab-45e7-a3c8-15a27504db2a.png\" width=700>"
   ]
  },
  {
   "cell_type": "code",
   "execution_count": 16,
   "metadata": {
    "colab": {
     "base_uri": "https://localhost:8080/"
    },
    "executionInfo": {
     "elapsed": 12,
     "status": "ok",
     "timestamp": 1660210265947,
     "user": {
      "displayName": "lev morozov",
      "userId": "08138582278897554642"
     },
     "user_tz": -180
    },
    "id": "k5hkBYF1i8ba",
    "outputId": "5885f9ad-25bc-4345-81df-a2f7d251e887"
   },
   "outputs": [
    {
     "name": "stdout",
     "output_type": "stream",
     "text": [
      "            coefs stderr tvalues pvalues\n",
      "Intercept  22.556 17.197    1.31  0.1968\n",
      "sex[T.0]  -22.118  8.211   -2.69  0.0101\n",
      "status      0.052  0.281    0.19  0.8535\n",
      "income      4.962  1.025    4.84  0.0000\n",
      "verbal     -2.959  2.172   -1.36  0.1803\n",
      "\n",
      "n=47 p=5 Residual SD=22.690 R-squared=0.53\n"
     ]
    }
   ],
   "source": [
    "mod_bar = smf.ols('gamble ~ sex + status + income + verbal', teengamb.replace({\"female\": 0, \"male\": 1})).fit()\n",
    "import faraway.utils\n",
    "mod_bar.sumary()"
   ]
  },
  {
   "cell_type": "code",
   "execution_count": 17,
   "metadata": {
    "colab": {
     "base_uri": "https://localhost:8080/"
    },
    "executionInfo": {
     "elapsed": 11,
     "status": "ok",
     "timestamp": 1660210265947,
     "user": {
      "displayName": "lev morozov",
      "userId": "08138582278897554642"
     },
     "user_tz": -180
    },
    "id": "vEk0xocXi8ba",
    "outputId": "2071a7f8-875c-499a-9b15-1e28139ce04c"
   },
   "outputs": [
    {
     "name": "stdout",
     "output_type": "stream",
     "text": [
      "                coefs stderr tvalues pvalues\n",
      "Intercept      22.556 17.197    1.31  0.1968\n",
      "sex[T.female] -22.118  8.211   -2.69  0.0101\n",
      "status          0.052  0.281    0.19  0.8535\n",
      "income          4.962  1.025    4.84  0.0000\n",
      "verbal         -2.959  2.172   -1.36  0.1803\n",
      "\n",
      "n=47 p=5 Residual SD=22.690 R-squared=0.53\n"
     ]
    }
   ],
   "source": [
    "mod = smf.ols('gamble ~ sex + status + income + verbal', teengamb).fit()\n",
    "import faraway.utils\n",
    "mod.sumary()"
   ]
  },
  {
   "cell_type": "markdown",
   "metadata": {
    "id": "ExQ1ahQei8ba"
   },
   "source": [
    "I should emphasize at this point that regressing on a binary categorical variable (**sex** in this case) is the same as regressing on a Bernoulli variable. </br>The value assigned to a category (0 or 1) is arbitrary, and the results differ depending on which gets what:"
   ]
  },
  {
   "cell_type": "code",
   "execution_count": 18,
   "metadata": {
    "colab": {
     "base_uri": "https://localhost:8080/"
    },
    "executionInfo": {
     "elapsed": 430,
     "status": "ok",
     "timestamp": 1660210266369,
     "user": {
      "displayName": "lev morozov",
      "userId": "08138582278897554642"
     },
     "user_tz": -180
    },
    "id": "FRHQ2enwi8bb",
    "outputId": "54f5b2e1-7bec-44b9-929e-e7ac247744ed"
   },
   "outputs": [
    {
     "name": "stdout",
     "output_type": "stream",
     "text": [
      "            coefs stderr tvalues pvalues\n",
      "Intercept  22.556 17.197    1.31  0.1968\n",
      "sex[T.0]  -22.118  8.211   -2.69  0.0101\n",
      "status      0.052  0.281    0.19  0.8535\n",
      "income      4.962  1.025    4.84  0.0000\n",
      "verbal     -2.959  2.172   -1.36  0.1803\n",
      "\n",
      "n=47 p=5 Residual SD=22.690 R-squared=0.53\n"
     ]
    }
   ],
   "source": [
    "mod_bar = smf.ols('gamble ~ sex + status + income + verbal', teengamb.replace({\"female\": 0, \"male\": 1})).fit()\n",
    "import faraway.utils\n",
    "mod_bar.sumary()"
   ]
  },
  {
   "cell_type": "code",
   "execution_count": 19,
   "metadata": {
    "colab": {
     "base_uri": "https://localhost:8080/"
    },
    "executionInfo": {
     "elapsed": 29,
     "status": "ok",
     "timestamp": 1660210266369,
     "user": {
      "displayName": "lev morozov",
      "userId": "08138582278897554642"
     },
     "user_tz": -180
    },
    "id": "tB4Uvdlsi8bb",
    "outputId": "a70550ff-e76c-4df2-8930-6f45c4b6c680"
   },
   "outputs": [
    {
     "name": "stdout",
     "output_type": "stream",
     "text": [
      "            coefs stderr tvalues pvalues\n",
      "Intercept  22.556 17.197    1.31  0.1968\n",
      "sex[T.1]  -22.118  8.211   -2.69  0.0101\n",
      "status      0.052  0.281    0.19  0.8535\n",
      "income      4.962  1.025    4.84  0.0000\n",
      "verbal     -2.959  2.172   -1.36  0.1803\n",
      "\n",
      "n=47 p=5 Residual SD=22.690 R-squared=0.53\n"
     ]
    }
   ],
   "source": [
    "mod_bar = smf.ols('gamble ~ sex + status + income + verbal', teengamb.replace({\"female\": 1, \"male\": 0})).fit()\n",
    "import faraway.utils\n",
    "mod_bar.sumary()"
   ]
  },
  {
   "cell_type": "markdown",
   "metadata": {
    "id": "OyaDt9umi8bb"
   },
   "source": [
    "Or do they really differ?.."
   ]
  },
  {
   "cell_type": "code",
   "execution_count": 20,
   "metadata": {
    "colab": {
     "base_uri": "https://localhost:8080/"
    },
    "executionInfo": {
     "elapsed": 25,
     "status": "ok",
     "timestamp": 1660210266369,
     "user": {
      "displayName": "lev morozov",
      "userId": "08138582278897554642"
     },
     "user_tz": -180
    },
    "id": "P7aMN2fxi8bb",
    "outputId": "a267e5c3-9645-42af-e986-24c0f21ab2e2"
   },
   "outputs": [
    {
     "name": "stdout",
     "output_type": "stream",
     "text": [
      "                coefs stderr tvalues pvalues\n",
      "Intercept      22.556 17.197    1.31  0.1968\n",
      "sex[T.female] -22.118  8.211   -2.69  0.0101\n",
      "status          0.052  0.281    0.19  0.8535\n",
      "income          4.962  1.025    4.84  0.0000\n",
      "verbal         -2.959  2.172   -1.36  0.1803\n",
      "\n",
      "n=47 p=5 Residual SD=22.690 R-squared=0.53\n"
     ]
    }
   ],
   "source": [
    "mod = smf.ols('gamble ~ sex + status + income + verbal', teengamb).fit()\n",
    "import faraway.utils\n",
    "mod.sumary()"
   ]
  },
  {
   "cell_type": "code",
   "execution_count": 21,
   "metadata": {
    "colab": {
     "base_uri": "https://localhost:8080/"
    },
    "executionInfo": {
     "elapsed": 22,
     "status": "ok",
     "timestamp": 1660210266370,
     "user": {
      "displayName": "lev morozov",
      "userId": "08138582278897554642"
     },
     "user_tz": -180
    },
    "id": "wsW8FfgMi8bb",
    "outputId": "c10be7bf-d4e6-49fb-ab72-d1687061f6dc"
   },
   "outputs": [
    {
     "name": "stdout",
     "output_type": "stream",
     "text": [
      "The percentage of the response \"explained\" by the variables: 53%\n"
     ]
    }
   ],
   "source": [
    "print(\"The percentage of the response \\\"explained\\\" by the variables:\", str(round(mod.rsquared * 100)) + '%')"
   ]
  },
  {
   "cell_type": "code",
   "execution_count": 22,
   "metadata": {
    "colab": {
     "base_uri": "https://localhost:8080/"
    },
    "executionInfo": {
     "elapsed": 18,
     "status": "ok",
     "timestamp": 1660210266370,
     "user": {
      "displayName": "lev morozov",
      "userId": "08138582278897554642"
     },
     "user_tz": -180
    },
    "id": "afOd30Jdi8bb",
    "outputId": "5c6577b9-a780-4f8c-dc1b-1708d0812cc2"
   },
   "outputs": [
    {
     "name": "stdout",
     "output_type": "stream",
     "text": [
      "Intercept        22.555651\n",
      "sex[T.female]   -22.118330\n",
      "status            0.052234\n",
      "income            4.961979\n",
      "verbal           -2.959493\n",
      "dtype: float64\n"
     ]
    },
    {
     "data": {
      "text/plain": [
       "sex       female\n",
       "status        51\n",
       "income       2.0\n",
       "verbal         8\n",
       "gamble       0.0\n",
       "Name: 0, dtype: object"
      ]
     },
     "execution_count": 22,
     "metadata": {},
     "output_type": "execute_result"
    }
   ],
   "source": [
    "print(mod.params)\n",
    "teengamb.iloc[0]"
   ]
  },
  {
   "cell_type": "markdown",
   "metadata": {
    "id": "50FMDh6hi8bc"
   },
   "source": [
    "It's instructive to compute residuals manually:"
   ]
  },
  {
   "cell_type": "code",
   "execution_count": 23,
   "metadata": {
    "colab": {
     "base_uri": "https://localhost:8080/"
    },
    "executionInfo": {
     "elapsed": 14,
     "status": "ok",
     "timestamp": 1660210266370,
     "user": {
      "displayName": "lev morozov",
      "userId": "08138582278897554642"
     },
     "user_tz": -180
    },
    "id": "ejNWi8Cci8bc",
    "outputId": "02ce790c-4c83-4038-b5b2-eaf5f89abd5a"
   },
   "outputs": [
    {
     "data": {
      "text/plain": [
       "23    94.252217\n",
       "35    45.605126\n",
       "4     29.519469\n",
       "36    20.547253\n",
       "15    17.210773\n",
       "dtype: float64"
      ]
     },
     "execution_count": 23,
     "metadata": {},
     "output_type": "execute_result"
    }
   ],
   "source": [
    "def predict_gamble(x):\n",
    "    x = x.replace({\"female\": 1, \"male\": 0})\n",
    "    # add intercept\n",
    "    x = pd.concat([pd.Series([1]), x])\n",
    "    return (x.values * mod.params).sum()\n",
    "\n",
    "target_var = teengamb.loc[:, \"gamble\"].values\n",
    "predictor_vars = teengamb.iloc[:, :-1]\n",
    "\n",
    "residuals = target_var - predictor_vars.apply(predict_gamble, axis=1)\n",
    "residuals.sort_values(ascending=False)[:5]"
   ]
  },
  {
   "cell_type": "markdown",
   "metadata": {
    "id": "fmKheqGzi8bc"
   },
   "source": [
    "And they're also accesible through the model results:"
   ]
  },
  {
   "cell_type": "code",
   "execution_count": 24,
   "metadata": {
    "colab": {
     "base_uri": "https://localhost:8080/"
    },
    "executionInfo": {
     "elapsed": 10,
     "status": "ok",
     "timestamp": 1660210266370,
     "user": {
      "displayName": "lev morozov",
      "userId": "08138582278897554642"
     },
     "user_tz": -180
    },
    "id": "AJ5d0fSEi8bc",
    "outputId": "4b6049bc-09c6-43d4-8dba-ee669aa35491"
   },
   "outputs": [
    {
     "data": {
      "text/plain": [
       "23    94.252217\n",
       "35    45.605126\n",
       "4     29.519469\n",
       "36    20.547253\n",
       "15    17.210773\n",
       "dtype: float64"
      ]
     },
     "execution_count": 24,
     "metadata": {},
     "output_type": "execute_result"
    }
   ],
   "source": [
    "mod.resid.sort_values(ascending=False)[:5]"
   ]
  },
  {
   "cell_type": "code",
   "execution_count": 25,
   "metadata": {
    "colab": {
     "base_uri": "https://localhost:8080/"
    },
    "executionInfo": {
     "elapsed": 9,
     "status": "ok",
     "timestamp": 1660210266371,
     "user": {
      "displayName": "lev morozov",
      "userId": "08138582278897554642"
     },
     "user_tz": -180
    },
    "id": "O3mXUbKwi8bc",
    "outputId": "a5d4012f-d328-40c0-81fe-2bdb0f451b5e"
   },
   "outputs": [
    {
     "data": {
      "text/plain": [
       "(7.19878057873544e-13, -1.451392068968799)"
      ]
     },
     "execution_count": 25,
     "metadata": {},
     "output_type": "execute_result"
    }
   ],
   "source": [
    "residuals.mean(), residuals.median()"
   ]
  },
  {
   "cell_type": "code",
   "execution_count": 26,
   "metadata": {
    "colab": {
     "base_uri": "https://localhost:8080/",
     "height": 535
    },
    "executionInfo": {
     "elapsed": 1575,
     "status": "ok",
     "timestamp": 1660210267939,
     "user": {
      "displayName": "lev morozov",
      "userId": "08138582278897554642"
     },
     "user_tz": -180
    },
    "id": "BjyzhEaVi8bd",
    "outputId": "b5fc5217-8f8a-4491-cbf1-be2010a0345c"
   },
   "outputs": [
    {
     "name": "stdout",
     "output_type": "stream",
     "text": [
      "38 0.8634782608695653\n",
      "23 0.5700000000000001\n"
     ]
    },
    {
     "data": {
      "image/png": "[encoded data removed]",
      "text/plain": [
       "<Figure size 1440x288 with 2 Axes>"
      ]
     },
     "metadata": {
      "needs_background": "light"
     },
     "output_type": "display_data"
    }
   ],
   "source": [
    "f, axes = plt.subplots(1, 2)\n",
    "f.set_figwidth(20)\n",
    "\n",
    "sns.histplot(x=residuals, bins=15, kde=True, ax=axes[0])\n",
    "sns.rugplot(x=residuals, ax=axes[0])\n",
    "\n",
    "x = np.linspace(0.1, 1, num=residuals.shape[0])\n",
    "sns.scatterplot(x=x, y=residuals, ax=axes[1])\n",
    "plt.plot([0, 1], [0, 0], '--')\n",
    "\n",
    "for outlier_y, outlier_i in [(residuals.min(), residuals.argmin()), (residuals.max(), residuals.argmax())]:\n",
    "    outlier_x = x[outlier_i] + 0.02\n",
    "    print(outlier_i, outlier_x)\n",
    "    plt.arrow(outlier_x, outlier_y, 0.05, 0.1, color=\"red\", hatch=\"/\", width=0.01)"
   ]
  },
  {
   "cell_type": "code",
   "execution_count": 27,
   "metadata": {
    "colab": {
     "base_uri": "https://localhost:8080/"
    },
    "executionInfo": {
     "elapsed": 430,
     "status": "ok",
     "timestamp": 1660210268364,
     "user": {
      "displayName": "lev morozov",
      "userId": "08138582278897554642"
     },
     "user_tz": -180
    },
    "id": "iLBJzC6Mi8bd",
    "outputId": "52ad5a01-2902-48e1-8d8a-cf73d0602a91"
   },
   "outputs": [
    {
     "data": {
      "text/plain": [
       "array([[1.00000000e+00, 1.78768224e-16],\n",
       "       [1.78768224e-16, 1.00000000e+00]])"
      ]
     },
     "execution_count": 27,
     "metadata": {},
     "output_type": "execute_result"
    }
   ],
   "source": [
    "np.corrcoef(residuals, predictor_vars.apply(predict_gamble, axis=1))"
   ]
  },
  {
   "cell_type": "markdown",
   "metadata": {
    "id": "kAW8SReYi8bd"
   },
   "source": [
    "As expected, it is zero. And this is indeed always the case, as follows from the geometric interpretation: $y-\\hat{y} \\perp \\hat{y}$ </br>\n",
    "\n",
    "This of course also implies that the correlation with any indidual predictor is also goint to be zero:"
   ]
  },
  {
   "cell_type": "code",
   "execution_count": 28,
   "metadata": {
    "colab": {
     "base_uri": "https://localhost:8080/"
    },
    "executionInfo": {
     "elapsed": 20,
     "status": "ok",
     "timestamp": 1660210268365,
     "user": {
      "displayName": "lev morozov",
      "userId": "08138582278897554642"
     },
     "user_tz": -180
    },
    "id": "GqObd88ci8bd",
    "outputId": "9c9f34b5-b3e0-4338-97f1-b83a5a28a490"
   },
   "outputs": [
    {
     "data": {
      "text/plain": [
       "array([[1.00000000e+00, 2.81482745e-16],\n",
       "       [2.81482745e-16, 1.00000000e+00]])"
      ]
     },
     "execution_count": 28,
     "metadata": {},
     "output_type": "execute_result"
    }
   ],
   "source": [
    "np.corrcoef(residuals, teengamb[\"income\"])"
   ]
  },
  {
   "cell_type": "markdown",
   "metadata": {
    "id": "n703XT9Hi8bd"
   },
   "source": [
    "Finally, the answer for \n",
    "> For all other predictors held constant, what would be the difference in predicted </br>\n",
    "> expenditure on gambling for a male compared to a female?\n",
    "\n",
    "$0\\hat{\\beta_{sex}} - 1\\hat{\\beta_{sex}} = -\\hat{\\beta_{sex}} = 22.118$, <br>\n",
    "since \"male\" corresponds to 0"
   ]
  },
  {
   "cell_type": "markdown",
   "metadata": {
    "id": "uTX3ccS-i8bd"
   },
   "source": [
    "<img src=attachment:28a3927b-b29a-4e99-be79-075863a0ce27.png width=700>"
   ]
  },
  {
   "cell_type": "code",
   "execution_count": 29,
   "metadata": {
    "colab": {
     "base_uri": "https://localhost:8080/"
    },
    "executionInfo": {
     "elapsed": 18,
     "status": "ok",
     "timestamp": 1660210268365,
     "user": {
      "displayName": "lev morozov",
      "userId": "08138582278897554642"
     },
     "user_tz": -180
    },
    "id": "wQpV7HFGi8be",
    "outputId": "7ceffc93-9d1b-4436-9a6b-1a27eec130bd"
   },
   "outputs": [
    {
     "name": "stdout",
     "output_type": "stream",
     "text": [
      "                coefs stderr tvalues pvalues\n",
      "Intercept      22.556 17.197    1.31  0.1968\n",
      "sex[T.female] -22.118  8.211   -2.69  0.0101\n",
      "status          0.052  0.281    0.19  0.8535\n",
      "income          4.962  1.025    4.84  0.0000\n",
      "verbal         -2.959  2.172   -1.36  0.1803\n",
      "\n",
      "n=47 p=5 Residual SD=22.690 R-squared=0.53\n"
     ]
    }
   ],
   "source": [
    "mod.sumary()"
   ]
  },
  {
   "cell_type": "markdown",
   "metadata": {
    "id": "ImhKonUBi8be"
   },
   "source": [
    "**income** and **sex** are the only statistically significant variables."
   ]
  },
  {
   "cell_type": "code",
   "execution_count": 30,
   "metadata": {
    "colab": {
     "base_uri": "https://localhost:8080/",
     "height": 206
    },
    "executionInfo": {
     "elapsed": 17,
     "status": "ok",
     "timestamp": 1660210268366,
     "user": {
      "displayName": "lev morozov",
      "userId": "08138582278897554642"
     },
     "user_tz": -180
    },
    "id": "YI22YaOli8be",
    "outputId": "b4665cbb-b561-40b4-e7a3-c99088d60d98"
   },
   "outputs": [
    {
     "data": {
      "text/html": [
       "<div>\n",
       "<style scoped>\n",
       "    .dataframe tbody tr th:only-of-type {\n",
       "        vertical-align: middle;\n",
       "    }\n",
       "\n",
       "    .dataframe tbody tr th {\n",
       "        vertical-align: top;\n",
       "    }\n",
       "\n",
       "    .dataframe thead th {\n",
       "        text-align: right;\n",
       "    }\n",
       "</style>\n",
       "<table border=\"1\" class=\"dataframe\">\n",
       "  <thead>\n",
       "    <tr style=\"text-align: right;\">\n",
       "      <th></th>\n",
       "      <th>0</th>\n",
       "      <th>1</th>\n",
       "    </tr>\n",
       "  </thead>\n",
       "  <tbody>\n",
       "    <tr>\n",
       "      <th>Intercept</th>\n",
       "      <td>-12.148904</td>\n",
       "      <td>57.260205</td>\n",
       "    </tr>\n",
       "    <tr>\n",
       "      <th>sex[T.female]</th>\n",
       "      <td>-38.689030</td>\n",
       "      <td>-5.547630</td>\n",
       "    </tr>\n",
       "    <tr>\n",
       "      <th>status</th>\n",
       "      <td>-0.515072</td>\n",
       "      <td>0.619540</td>\n",
       "    </tr>\n",
       "    <tr>\n",
       "      <th>income</th>\n",
       "      <td>2.892654</td>\n",
       "      <td>7.031305</td>\n",
       "    </tr>\n",
       "    <tr>\n",
       "      <th>verbal</th>\n",
       "      <td>-7.343070</td>\n",
       "      <td>1.424083</td>\n",
       "    </tr>\n",
       "  </tbody>\n",
       "</table>\n",
       "</div>"
      ],
      "text/plain": [
       "                       0          1\n",
       "Intercept     -12.148904  57.260205\n",
       "sex[T.female] -38.689030  -5.547630\n",
       "status         -0.515072   0.619540\n",
       "income          2.892654   7.031305\n",
       "verbal         -7.343070   1.424083"
      ]
     },
     "execution_count": 30,
     "metadata": {},
     "output_type": "execute_result"
    }
   ],
   "source": [
    "mod.conf_int(0.05)"
   ]
  },
  {
   "cell_type": "markdown",
   "metadata": {
    "id": "knnRrhAui8be"
   },
   "source": [
    "As we see, both **status** and **verbal** include zero; meaning that $H_0: \\beta_i = 0$ would not be rejected at $\\alpha=0.05$, $i=status, verbal$"
   ]
  },
  {
   "cell_type": "code",
   "execution_count": 31,
   "metadata": {
    "colab": {
     "base_uri": "https://localhost:8080/",
     "height": 199
    },
    "executionInfo": {
     "elapsed": 18,
     "status": "ok",
     "timestamp": 1660210268366,
     "user": {
      "displayName": "lev morozov",
      "userId": "08138582278897554642"
     },
     "user_tz": -180
    },
    "id": "Dqgal4eYi8be",
    "outputId": "0b538b87-cec5-4ab2-afc9-6d7af3621a4a"
   },
   "outputs": [
    {
     "name": "stdout",
     "output_type": "stream",
     "text": [
      "           coefs stderr tvalues pvalues\n",
      "Intercept -6.325  6.030   -1.05  0.2998\n",
      "income     5.520  1.036    5.33  0.0000\n",
      "\n",
      "n=47 p=2 Residual SD=24.948 R-squared=0.39\n"
     ]
    },
    {
     "data": {
      "text/html": [
       "<div>\n",
       "<style scoped>\n",
       "    .dataframe tbody tr th:only-of-type {\n",
       "        vertical-align: middle;\n",
       "    }\n",
       "\n",
       "    .dataframe tbody tr th {\n",
       "        vertical-align: top;\n",
       "    }\n",
       "\n",
       "    .dataframe thead th {\n",
       "        text-align: right;\n",
       "    }\n",
       "</style>\n",
       "<table border=\"1\" class=\"dataframe\">\n",
       "  <thead>\n",
       "    <tr style=\"text-align: right;\">\n",
       "      <th></th>\n",
       "      <th>df_resid</th>\n",
       "      <th>ssr</th>\n",
       "      <th>df_diff</th>\n",
       "      <th>ss_diff</th>\n",
       "      <th>F</th>\n",
       "      <th>Pr(&gt;F)</th>\n",
       "    </tr>\n",
       "  </thead>\n",
       "  <tbody>\n",
       "    <tr>\n",
       "      <th>0</th>\n",
       "      <td>45.0</td>\n",
       "      <td>28008.587598</td>\n",
       "      <td>0.0</td>\n",
       "      <td>NaN</td>\n",
       "      <td>NaN</td>\n",
       "      <td>NaN</td>\n",
       "    </tr>\n",
       "    <tr>\n",
       "      <th>1</th>\n",
       "      <td>42.0</td>\n",
       "      <td>21623.767055</td>\n",
       "      <td>3.0</td>\n",
       "      <td>6384.820543</td>\n",
       "      <td>4.133761</td>\n",
       "      <td>0.011772</td>\n",
       "    </tr>\n",
       "  </tbody>\n",
       "</table>\n",
       "</div>"
      ],
      "text/plain": [
       "   df_resid           ssr  df_diff      ss_diff         F    Pr(>F)\n",
       "0      45.0  28008.587598      0.0          NaN       NaN       NaN\n",
       "1      42.0  21623.767055      3.0  6384.820543  4.133761  0.011772"
      ]
     },
     "execution_count": 31,
     "metadata": {},
     "output_type": "execute_result"
    }
   ],
   "source": [
    "mod_shrinked = smf.ols('gamble ~ income', teengamb).fit()\n",
    "mod_shrinked.sumary()\n",
    "\n",
    "sm.stats.anova_lm(mod_shrinked, mod)"
   ]
  },
  {
   "cell_type": "markdown",
   "metadata": {
    "id": "EOYvlOk7i8be"
   },
   "source": [
    "Conclusion: $H_0: \\beta_{status} = \\beta_{verbal} = \\beta_{sex} = 0$ is rejected at $\\alpha=0.05$"
   ]
  },
  {
   "cell_type": "code",
   "execution_count": 32,
   "metadata": {
    "colab": {
     "base_uri": "https://localhost:8080/",
     "height": 216
    },
    "executionInfo": {
     "elapsed": 16,
     "status": "ok",
     "timestamp": 1660210268367,
     "user": {
      "displayName": "lev morozov",
      "userId": "08138582278897554642"
     },
     "user_tz": -180
    },
    "id": "trSdVa1yi8be",
    "outputId": "831471fa-7e84-4d1e-f641-ac3483e7cf06"
   },
   "outputs": [
    {
     "name": "stdout",
     "output_type": "stream",
     "text": [
      "                coefs stderr tvalues pvalues\n",
      "Intercept       4.041  6.394    0.63  0.5307\n",
      "sex[T.female] -21.634  6.809   -3.18  0.0027\n",
      "income          5.172  0.951    5.44  0.0000\n",
      "\n",
      "n=47 p=3 Residual SD=22.754 R-squared=0.50\n"
     ]
    },
    {
     "data": {
      "text/html": [
       "<div>\n",
       "<style scoped>\n",
       "    .dataframe tbody tr th:only-of-type {\n",
       "        vertical-align: middle;\n",
       "    }\n",
       "\n",
       "    .dataframe tbody tr th {\n",
       "        vertical-align: top;\n",
       "    }\n",
       "\n",
       "    .dataframe thead th {\n",
       "        text-align: right;\n",
       "    }\n",
       "</style>\n",
       "<table border=\"1\" class=\"dataframe\">\n",
       "  <thead>\n",
       "    <tr style=\"text-align: right;\">\n",
       "      <th></th>\n",
       "      <th>df_resid</th>\n",
       "      <th>ssr</th>\n",
       "      <th>df_diff</th>\n",
       "      <th>ss_diff</th>\n",
       "      <th>F</th>\n",
       "      <th>Pr(&gt;F)</th>\n",
       "    </tr>\n",
       "  </thead>\n",
       "  <tbody>\n",
       "    <tr>\n",
       "      <th>0</th>\n",
       "      <td>44.0</td>\n",
       "      <td>22781.319848</td>\n",
       "      <td>0.0</td>\n",
       "      <td>NaN</td>\n",
       "      <td>NaN</td>\n",
       "      <td>NaN</td>\n",
       "    </tr>\n",
       "    <tr>\n",
       "      <th>1</th>\n",
       "      <td>42.0</td>\n",
       "      <td>21623.767055</td>\n",
       "      <td>2.0</td>\n",
       "      <td>1157.552793</td>\n",
       "      <td>1.124162</td>\n",
       "      <td>0.334504</td>\n",
       "    </tr>\n",
       "  </tbody>\n",
       "</table>\n",
       "</div>"
      ],
      "text/plain": [
       "   df_resid           ssr  df_diff      ss_diff         F    Pr(>F)\n",
       "0      44.0  22781.319848      0.0          NaN       NaN       NaN\n",
       "1      42.0  21623.767055      2.0  1157.552793  1.124162  0.334504"
      ]
     },
     "execution_count": 32,
     "metadata": {},
     "output_type": "execute_result"
    }
   ],
   "source": [
    "mod_shrinked2 = smf.ols('gamble ~ income + sex', teengamb).fit()\n",
    "mod_shrinked2.sumary()\n",
    "\n",
    "sm.stats.anova_lm(mod_shrinked2, mod)"
   ]
  },
  {
   "cell_type": "markdown",
   "metadata": {
    "id": "k5r_hgz2i8be"
   },
   "source": [
    "Conclusion: $H_0: \\beta_{status} = \\beta_{verbal} = 0$ is not rejected at $\\alpha=0.05$ </br>\n",
    "This of course does not mean that there is no relationship between the target and these variables. </br>\n",
    "This also does not mean that the performance without those variables is neccessarily better. </br>\n",
    "Let's find out whether it is actually the case here:"
   ]
  },
  {
   "cell_type": "code",
   "execution_count": 33,
   "metadata": {
    "colab": {
     "base_uri": "https://localhost:8080/"
    },
    "executionInfo": {
     "elapsed": 14,
     "status": "ok",
     "timestamp": 1660210268367,
     "user": {
      "displayName": "lev morozov",
      "userId": "08138582278897554642"
     },
     "user_tz": -180
    },
    "id": "4eJ7V5RIi8bf",
    "outputId": "8b24569a-4b85-4ded-93e6-486c8f85d416"
   },
   "outputs": [
    {
     "name": "stdout",
     "output_type": "stream",
     "text": [
      "                coefs stderr tvalues pvalues\n",
      "Intercept       4.041  6.394    0.63  0.5307\n",
      "sex[T.female] -21.634  6.809   -3.18  0.0027\n",
      "income          5.172  0.951    5.44  0.0000\n",
      "\n",
      "n=47 p=3 Residual SD=22.754 R-squared=0.50\n",
      "R-squared adj= 0.479 \n",
      "\n",
      "\n",
      "                coefs stderr tvalues pvalues\n",
      "Intercept      22.556 17.197    1.31  0.1968\n",
      "sex[T.female] -22.118  8.211   -2.69  0.0101\n",
      "status          0.052  0.281    0.19  0.8535\n",
      "income          4.962  1.025    4.84  0.0000\n",
      "verbal         -2.959  2.172   -1.36  0.1803\n",
      "\n",
      "n=47 p=5 Residual SD=22.690 R-squared=0.53\n",
      "R-squared adj= 0.482\n"
     ]
    }
   ],
   "source": [
    "mod_shrinked2.sumary()\n",
    "print(\"R-squared adj=\", mod_shrinked2.rsquared_adj.round(3), '\\n\\n')\n",
    "mod.sumary()\n",
    "print(\"R-squared adj=\", mod.rsquared_adj.round(3))\n"
   ]
  },
  {
   "cell_type": "markdown",
   "metadata": {
    "id": "HJq4Cxdxi8bf"
   },
   "source": [
    "$R^2$ is not very representative here, for it always increases with the number of predictors. <br>\n",
    "Adjusted one, however, does account for the degrees of freedom in the model. </br>\n",
    "As we see, the value for the second model is only slightly better. </br>\n",
    "Same goes for the standard error. </br></br>\n",
    "Conclusion: the second model (with all the predictors in place) is better in terms of performance."
   ]
  },
  {
   "cell_type": "markdown",
   "metadata": {
    "id": "zIDDU60bj5W7"
   },
   "source": [
    "![image.png](data:image/png;base64,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)"
   ]
  },
  {
   "cell_type": "code",
   "execution_count": 124,
   "metadata": {
    "colab": {
     "base_uri": "https://localhost:8080/"
    },
    "executionInfo": {
     "elapsed": 13,
     "status": "ok",
     "timestamp": 1660210268368,
     "user": {
      "displayName": "lev morozov",
      "userId": "08138582278897554642"
     },
     "user_tz": -180
    },
    "id": "DsaTY2N3i8bf",
    "outputId": "0472bb1b-67a1-4a8b-edb5-4c29608c8239"
   },
   "outputs": [
    {
     "name": "stdout",
     "output_type": "stream",
     "text": [
      "                coefs stderr tvalues pvalues\n",
      "Intercept      22.556 17.197    1.31  0.1968\n",
      "sex[T.female] -22.118  8.211   -2.69  0.0101\n",
      "status          0.052  0.281    0.19  0.8535\n",
      "income          4.962  1.025    4.84  0.0000\n",
      "verbal         -2.959  2.172   -1.36  0.1803\n",
      "\n",
      "n=47 p=5 Residual SD=22.690 R-squared=0.53\n"
     ]
    },
    {
     "data": {
      "text/html": [
       "<div>\n",
       "<style scoped>\n",
       "    .dataframe tbody tr th:only-of-type {\n",
       "        vertical-align: middle;\n",
       "    }\n",
       "\n",
       "    .dataframe tbody tr th {\n",
       "        vertical-align: top;\n",
       "    }\n",
       "\n",
       "    .dataframe thead th {\n",
       "        text-align: right;\n",
       "    }\n",
       "</style>\n",
       "<table border=\"1\" class=\"dataframe\">\n",
       "  <thead>\n",
       "    <tr style=\"text-align: right;\">\n",
       "      <th></th>\n",
       "      <th>status</th>\n",
       "      <th>income</th>\n",
       "      <th>verbal</th>\n",
       "      <th>sex</th>\n",
       "      <th>Intercept</th>\n",
       "    </tr>\n",
       "  </thead>\n",
       "  <tbody>\n",
       "    <tr>\n",
       "      <th>0</th>\n",
       "      <td>43.0</td>\n",
       "      <td>3.25</td>\n",
       "      <td>7.0</td>\n",
       "      <td>male</td>\n",
       "      <td>1</td>\n",
       "    </tr>\n",
       "    <tr>\n",
       "      <th>1</th>\n",
       "      <td>75.0</td>\n",
       "      <td>15.00</td>\n",
       "      <td>10.0</td>\n",
       "      <td>male</td>\n",
       "      <td>1</td>\n",
       "    </tr>\n",
       "  </tbody>\n",
       "</table>\n",
       "</div>"
      ],
      "text/plain": [
       "   status  income  verbal   sex  Intercept\n",
       "0    43.0    3.25     7.0  male          1\n",
       "1    75.0   15.00    10.0  male          1"
      ]
     },
     "execution_count": 124,
     "metadata": {},
     "output_type": "execute_result"
    }
   ],
   "source": [
    "mod.sumary()\n",
    "to_predict = pd.DataFrame(\n",
    "    [\n",
    "        teengamb.loc[:, [\"status\", \"income\", \"verbal\"]].median(),\n",
    "        teengamb.loc[:, [\"status\", \"income\", \"verbal\"]].max()\n",
    "    ]\n",
    ")\n",
    "to_predict[\"sex\"] = 'male'\n",
    "to_predict[\"Intercept\"] = 1\n",
    "to_predict"
   ]
  },
  {
   "cell_type": "code",
   "execution_count": 125,
   "metadata": {
    "colab": {
     "base_uri": "https://localhost:8080/",
     "height": 81
    },
    "executionInfo": {
     "elapsed": 293,
     "status": "ok",
     "timestamp": 1660210268650,
     "user": {
      "displayName": "lev morozov",
      "userId": "08138582278897554642"
     },
     "user_tz": -180
    },
    "id": "8g_esGO3kABX",
    "outputId": "7c46aa52-f074-4bad-87a9-55feaa5b0b01"
   },
   "outputs": [
    {
     "data": {
      "text/html": [
       "<div>\n",
       "<style scoped>\n",
       "    .dataframe tbody tr th:only-of-type {\n",
       "        vertical-align: middle;\n",
       "    }\n",
       "\n",
       "    .dataframe tbody tr th {\n",
       "        vertical-align: top;\n",
       "    }\n",
       "\n",
       "    .dataframe thead th {\n",
       "        text-align: right;\n",
       "    }\n",
       "</style>\n",
       "<table border=\"1\" class=\"dataframe\">\n",
       "  <thead>\n",
       "    <tr style=\"text-align: right;\">\n",
       "      <th></th>\n",
       "      <th>mean</th>\n",
       "      <th>mean_se</th>\n",
       "      <th>mean_ci_lower</th>\n",
       "      <th>mean_ci_upper</th>\n",
       "      <th>obs_ci_lower</th>\n",
       "      <th>obs_ci_upper</th>\n",
       "    </tr>\n",
       "  </thead>\n",
       "  <tbody>\n",
       "    <tr>\n",
       "      <th>0</th>\n",
       "      <td>20.211684</td>\n",
       "      <td>5.669408</td>\n",
       "      <td>8.770356</td>\n",
       "      <td>31.653012</td>\n",
       "      <td>-26.987005</td>\n",
       "      <td>67.410373</td>\n",
       "    </tr>\n",
       "    <tr>\n",
       "      <th>1</th>\n",
       "      <td>71.307942</td>\n",
       "      <td>14.407531</td>\n",
       "      <td>42.232367</td>\n",
       "      <td>100.383517</td>\n",
       "      <td>17.065880</td>\n",
       "      <td>125.550004</td>\n",
       "    </tr>\n",
       "  </tbody>\n",
       "</table>\n",
       "</div>"
      ],
      "text/plain": [
       "        mean    mean_se  mean_ci_lower  mean_ci_upper  obs_ci_lower  \\\n",
       "0  20.211684   5.669408       8.770356      31.653012    -26.987005   \n",
       "1  71.307942  14.407531      42.232367     100.383517     17.065880   \n",
       "\n",
       "   obs_ci_upper  \n",
       "0     67.410373  \n",
       "1    125.550004  "
      ]
     },
     "execution_count": 125,
     "metadata": {},
     "output_type": "execute_result"
    }
   ],
   "source": [
    "mod.get_prediction(\n",
    "    x0\n",
    ").summary_frame()"
   ]
  },
  {
   "cell_type": "markdown",
   "metadata": {
    "id": "QHlQa6illg9h"
   },
   "source": [
    "As expected, the interval for 1 is larger, since it is less represented in the sample (extrapolation occurs)."
   ]
  },
  {
   "cell_type": "code",
   "execution_count": 127,
   "metadata": {
    "colab": {
     "base_uri": "https://localhost:8080/",
     "height": 202
    },
    "executionInfo": {
     "elapsed": 13,
     "status": "ok",
     "timestamp": 1660210268652,
     "user": {
      "displayName": "lev morozov",
      "userId": "08138582278897554642"
     },
     "user_tz": -180
    },
    "id": "Ko-b10ZHlgIH",
    "outputId": "94f3dc8b-bb7d-45b7-c48d-a44950988609"
   },
   "outputs": [
    {
     "name": "stdout",
     "output_type": "stream",
     "text": [
      "           coefs stderr tvalues pvalues\n",
      "Intercept  0.772  1.450    0.53  0.5975\n",
      "status     0.076  0.023    3.27  0.0021\n",
      "income     0.554  0.096    5.74  0.0000\n",
      "verbal    -0.531  0.209   -2.53  0.0150\n",
      "\n",
      "n=47 p=4 Residual SD=2.233 R-squared=0.49\n"
     ]
    },
    {
     "data": {
      "text/html": [
       "<div>\n",
       "<style scoped>\n",
       "    .dataframe tbody tr th:only-of-type {\n",
       "        vertical-align: middle;\n",
       "    }\n",
       "\n",
       "    .dataframe tbody tr th {\n",
       "        vertical-align: top;\n",
       "    }\n",
       "\n",
       "    .dataframe thead th {\n",
       "        text-align: right;\n",
       "    }\n",
       "</style>\n",
       "<table border=\"1\" class=\"dataframe\">\n",
       "  <thead>\n",
       "    <tr style=\"text-align: right;\">\n",
       "      <th></th>\n",
       "      <th>obs_ci_lower</th>\n",
       "      <th>obs_ci_upper</th>\n",
       "    </tr>\n",
       "  </thead>\n",
       "  <tbody>\n",
       "    <tr>\n",
       "      <th>0</th>\n",
       "      <td>6.061641</td>\n",
       "      <td>44.443690</td>\n",
       "    </tr>\n",
       "    <tr>\n",
       "      <th>1</th>\n",
       "      <td>17.103594</td>\n",
       "      <td>217.188776</td>\n",
       "    </tr>\n",
       "  </tbody>\n",
       "</table>\n",
       "</div>"
      ],
      "text/plain": [
       "   obs_ci_lower  obs_ci_upper\n",
       "0      6.061641     44.443690\n",
       "1     17.103594    217.188776"
      ]
     },
     "execution_count": 127,
     "metadata": {},
     "output_type": "execute_result"
    }
   ],
   "source": [
    "teengamb_sqrt = teengamb.copy()\n",
    "teengamb_sqrt[\"gamble\"] = np.sqrt(teengamb_sqrt[\"gamble\"])\n",
    "mod_sqrt = smf.ols(\n",
    "    \"gamble ~ status + income + verbal\", \n",
    "    data=teengamb_sqrt\n",
    ").fit()\n",
    "mod_sqrt.sumary()\n",
    "mod_sqrt.get_prediction(to_predict).summary_frame()[[\"obs_ci_lower\", \"obs_ci_upper\"]]**2"
   ]
  },
  {
   "cell_type": "markdown",
   "metadata": {
    "id": "tqLaCuEznI5x"
   },
   "source": [
    "As we see, the interval is much more narrow."
   ]
  },
  {
   "cell_type": "code",
   "execution_count": 134,
   "metadata": {
    "colab": {
     "base_uri": "https://localhost:8080/"
    },
    "executionInfo": {
     "elapsed": 10,
     "status": "ok",
     "timestamp": 1660210268652,
     "user": {
      "displayName": "lev morozov",
      "userId": "08138582278897554642"
     },
     "user_tz": -180
    },
    "id": "Uxv4fSNcmTvu",
    "outputId": "bd6443de-394e-4a6b-d809-3688555b31d6"
   },
   "outputs": [
    {
     "data": {
      "text/html": [
       "<div>\n",
       "<style scoped>\n",
       "    .dataframe tbody tr th:only-of-type {\n",
       "        vertical-align: middle;\n",
       "    }\n",
       "\n",
       "    .dataframe tbody tr th {\n",
       "        vertical-align: top;\n",
       "    }\n",
       "\n",
       "    .dataframe thead th {\n",
       "        text-align: right;\n",
       "    }\n",
       "</style>\n",
       "<table border=\"1\" class=\"dataframe\">\n",
       "  <thead>\n",
       "    <tr style=\"text-align: right;\">\n",
       "      <th></th>\n",
       "      <th>status</th>\n",
       "      <th>income</th>\n",
       "      <th>verbal</th>\n",
       "      <th>sex</th>\n",
       "    </tr>\n",
       "  </thead>\n",
       "  <tbody>\n",
       "    <tr>\n",
       "      <th>0</th>\n",
       "      <td>20</td>\n",
       "      <td>1</td>\n",
       "      <td>10</td>\n",
       "      <td>female</td>\n",
       "    </tr>\n",
       "  </tbody>\n",
       "</table>\n",
       "</div>"
      ],
      "text/plain": [
       "   status  income  verbal     sex\n",
       "0      20       1      10  female"
      ]
     },
     "execution_count": 134,
     "metadata": {},
     "output_type": "execute_result"
    }
   ],
   "source": [
    "x2=pd.DataFrame({\n",
    "    \"status\": [20],\n",
    "    \"income\": [1],\n",
    "    \"verbal\": [10],\n",
    "    \"sex\": [\"female\"],\n",
    "})\n",
    "x2"
   ]
  },
  {
   "cell_type": "code",
   "execution_count": 135,
   "metadata": {
    "colab": {
     "base_uri": "https://localhost:8080/",
     "height": 81
    },
    "executionInfo": {
     "elapsed": 9,
     "status": "ok",
     "timestamp": 1660210268652,
     "user": {
      "displayName": "lev morozov",
      "userId": "08138582278897554642"
     },
     "user_tz": -180
    },
    "id": "ra8PgCwRnde4",
    "outputId": "af26d1e5-cbe1-4d0a-fdd3-cdf1edd6afc4"
   },
   "outputs": [
    {
     "data": {
      "text/html": [
       "<div>\n",
       "<style scoped>\n",
       "    .dataframe tbody tr th:only-of-type {\n",
       "        vertical-align: middle;\n",
       "    }\n",
       "\n",
       "    .dataframe tbody tr th {\n",
       "        vertical-align: top;\n",
       "    }\n",
       "\n",
       "    .dataframe thead th {\n",
       "        text-align: right;\n",
       "    }\n",
       "</style>\n",
       "<table border=\"1\" class=\"dataframe\">\n",
       "  <thead>\n",
       "    <tr style=\"text-align: right;\">\n",
       "      <th></th>\n",
       "      <th>mean</th>\n",
       "      <th>mean_se</th>\n",
       "      <th>mean_ci_lower</th>\n",
       "      <th>mean_ci_upper</th>\n",
       "      <th>obs_ci_lower</th>\n",
       "      <th>obs_ci_upper</th>\n",
       "    </tr>\n",
       "  </thead>\n",
       "  <tbody>\n",
       "    <tr>\n",
       "      <th>0</th>\n",
       "      <td>-2.474004</td>\n",
       "      <td>1.243108</td>\n",
       "      <td>-4.98097</td>\n",
       "      <td>0.032963</td>\n",
       "      <td>-7.62736</td>\n",
       "      <td>2.679353</td>\n",
       "    </tr>\n",
       "  </tbody>\n",
       "</table>\n",
       "</div>"
      ],
      "text/plain": [
       "       mean   mean_se  mean_ci_lower  mean_ci_upper  obs_ci_lower  \\\n",
       "0 -2.474004  1.243108       -4.98097       0.032963      -7.62736   \n",
       "\n",
       "   obs_ci_upper  \n",
       "0      2.679353  "
      ]
     },
     "execution_count": 135,
     "metadata": {},
     "output_type": "execute_result"
    }
   ],
   "source": [
    "mod_sqrt.get_prediction(x2).summary_frame()"
   ]
  },
  {
   "cell_type": "markdown",
   "metadata": {
    "id": "PjkdpwYVoKdv"
   },
   "source": [
    "The interval has exceeded the range of sqrt, so before transforming back we need to shrink it to the apporpiate values."
   ]
  },
  {
   "cell_type": "code",
   "execution_count": null,
   "metadata": {
    "executionInfo": {
     "elapsed": 12,
     "status": "ok",
     "timestamp": 1660210269043,
     "user": {
      "displayName": "lev morozov",
      "userId": "08138582278897554642"
     },
     "user_tz": -180
    },
    "id": "69jv5Y6Wng-S"
   },
   "outputs": [],
   "source": []
  },
  {
   "cell_type": "markdown",
   "metadata": {
    "id": "cLrzsv_z3fhH"
   },
   "source": [
    "![image.png](data:image/png;base64,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)"
   ]
  },
  {
   "cell_type": "code",
   "execution_count": 136,
   "metadata": {
    "colab": {
     "base_uri": "https://localhost:8080/"
    },
    "executionInfo": {
     "elapsed": 11,
     "status": "ok",
     "timestamp": 1660210269043,
     "user": {
      "displayName": "lev morozov",
      "userId": "08138582278897554642"
     },
     "user_tz": -180
    },
    "id": "qbOgQ_1c3jIh",
    "outputId": "708348c8-322a-4101-da79-2c24b2a5b050"
   },
   "outputs": [
    {
     "name": "stdout",
     "output_type": "stream",
     "text": [
      "                coefs stderr tvalues pvalues\n",
      "Intercept      22.556 17.197    1.31  0.1968\n",
      "sex[T.female] -22.118  8.211   -2.69  0.0101\n",
      "status          0.052  0.281    0.19  0.8535\n",
      "income          4.962  1.025    4.84  0.0000\n",
      "verbal         -2.959  2.172   -1.36  0.1803\n",
      "\n",
      "n=47 p=5 Residual SD=22.690 R-squared=0.53\n"
     ]
    }
   ],
   "source": [
    "mod.sumary()"
   ]
  },
  {
   "cell_type": "code",
   "execution_count": 137,
   "metadata": {
    "colab": {
     "base_uri": "https://localhost:8080/"
    },
    "executionInfo": {
     "elapsed": 10,
     "status": "ok",
     "timestamp": 1660210269044,
     "user": {
      "displayName": "lev morozov",
      "userId": "08138582278897554642"
     },
     "user_tz": -180
    },
    "id": "eyEA2fnf3k2m",
    "outputId": "1d5011a3-dfa5-4949-b811-7721af7a05c0"
   },
   "outputs": [
    {
     "name": "stdout",
     "output_type": "stream",
     "text": [
      "Index(['Intercept', 'sex'], dtype='object') \n",
      " beta_sex:  -25.909210526315814 \n",
      " pval =  0.0044365532220523255\n",
      "Index(['Intercept', 'verbal', 'sex'], dtype='object') \n",
      " beta_sex:  -27.72208310847276 \n",
      " pval =  0.0019569638327503135\n",
      "Index(['Intercept', 'income', 'sex'], dtype='object') \n",
      " beta_sex:  -21.634390938286433 \n",
      " pval =  0.0027173202024595965\n",
      "Index(['Intercept', 'income', 'verbal', 'sex'], dtype='object') \n",
      " beta_sex:  -22.96022007068373 \n",
      " pval =  0.0015024361801927\n",
      "Index(['Intercept', 'status', 'sex'], dtype='object') \n",
      " beta_sex:  -35.70936988052904 \n",
      " pval =  0.0004933992374400827\n",
      "Index(['Intercept', 'status', 'verbal', 'sex'], dtype='object') \n",
      " beta_sex:  -33.75201587723041 \n",
      " pval =  0.0011444223781930207\n",
      "Index(['Intercept', 'status', 'income', 'sex'], dtype='object') \n",
      " beta_sex:  -24.33934329535398 \n",
      " pval =  0.0045427413339171625\n",
      "Index(['Intercept', 'status', 'income', 'verbal', 'sex'], dtype='object') \n",
      " beta_sex:  -22.118330092838892 \n",
      " pval =  0.010111839040309739\n"
     ]
    },
    {
     "name": "stderr",
     "output_type": "stream",
     "text": [
      "/tmp/ipykernel_26096/3222520636.py:21: SettingWithCopyWarning: \n",
      "A value is trying to be set on a copy of a slice from a DataFrame.\n",
      "Try using .loc[row_indexer,col_indexer] = value instead\n",
      "\n",
      "See the caveats in the documentation: https://pandas.pydata.org/pandas-docs/stable/user_guide/indexing.html#returning-a-view-versus-a-copy\n",
      "  X_cut[\"sex\"] = teengamb[\"sex\"].replace({\"female\": 1, \"male\": 0})\n",
      "/tmp/ipykernel_26096/3222520636.py:21: SettingWithCopyWarning: \n",
      "A value is trying to be set on a copy of a slice from a DataFrame.\n",
      "Try using .loc[row_indexer,col_indexer] = value instead\n",
      "\n",
      "See the caveats in the documentation: https://pandas.pydata.org/pandas-docs/stable/user_guide/indexing.html#returning-a-view-versus-a-copy\n",
      "  X_cut[\"sex\"] = teengamb[\"sex\"].replace({\"female\": 1, \"male\": 0})\n",
      "/tmp/ipykernel_26096/3222520636.py:21: SettingWithCopyWarning: \n",
      "A value is trying to be set on a copy of a slice from a DataFrame.\n",
      "Try using .loc[row_indexer,col_indexer] = value instead\n",
      "\n",
      "See the caveats in the documentation: https://pandas.pydata.org/pandas-docs/stable/user_guide/indexing.html#returning-a-view-versus-a-copy\n",
      "  X_cut[\"sex\"] = teengamb[\"sex\"].replace({\"female\": 1, \"male\": 0})\n",
      "/tmp/ipykernel_26096/3222520636.py:21: SettingWithCopyWarning: \n",
      "A value is trying to be set on a copy of a slice from a DataFrame.\n",
      "Try using .loc[row_indexer,col_indexer] = value instead\n",
      "\n",
      "See the caveats in the documentation: https://pandas.pydata.org/pandas-docs/stable/user_guide/indexing.html#returning-a-view-versus-a-copy\n",
      "  X_cut[\"sex\"] = teengamb[\"sex\"].replace({\"female\": 1, \"male\": 0})\n"
     ]
    }
   ],
   "source": [
    "X = teengamb.loc[:, teengamb.columns.map(lambda x: (x != \"gamble\") & (x != \"sex\"))]\n",
    "y = teengamb[\"gamble\"]\n",
    "\n",
    "mask = pd.DataFrame(\n",
    "    np.full((1, X.shape[1]), False),\n",
    "    [0],\n",
    "    X.columns,\n",
    ")\n",
    "\n",
    "for i in range(8):\n",
    " \n",
    "  # i to binary\n",
    "  # binary to mask\n",
    "  for i, j in enumerate(format(i, \"03b\")):\n",
    "    if j == \"1\":\n",
    "      mask.iloc[0, i] = True\n",
    "    else:\n",
    "      mask.iloc[0, i] = False\n",
    "\n",
    "  X_cut = X.loc[:, mask.iloc[0, :]]\n",
    "  X_cut[\"sex\"] = teengamb[\"sex\"].replace({\"female\": 1, \"male\": 0})\n",
    "  X_cut.insert(0, \"Intercept\", 1)\n",
    "\n",
    "  lmodi = sm.OLS(y, X_cut).fit()\n",
    "  print(X_cut.columns, '\\n', \"beta_sex: \", lmodi.params[\"sex\"], '\\n', \"pval = \", lmodi.pvalues[\"sex\"])"
   ]
  },
  {
   "cell_type": "markdown",
   "metadata": {
    "id": "ZE9sZEqhEv0r"
   },
   "source": [
    "All of the values are significant, no matter what subset of the predictors used. <br/>\n",
    "The coefficient value is rather volatile, especially when *status* is present\n",
    "</br>\n",
    "This fails our first, and the easiest one attempt to provide evidence against causual relationship between `sex` and `gamble` </br>\n",
    "Though we see that adding only `status` significantly changes the estimated coefficient. Might this suggest? suggest what?.."
   ]
  },
  {
   "cell_type": "code",
   "execution_count": 138,
   "metadata": {
    "colab": {
     "base_uri": "https://localhost:8080/"
    },
    "executionInfo": {
     "elapsed": 6,
     "status": "ok",
     "timestamp": 1660210269044,
     "user": {
      "displayName": "lev morozov",
      "userId": "08138582278897554642"
     },
     "user_tz": -180
    },
    "id": "Qyur-XQsxvkD",
    "outputId": "e24324f5-b8f7-4406-9f1c-616dd5f2198b"
   },
   "outputs": [
    {
     "name": "stdout",
     "output_type": "stream",
     "text": [
      "               coefs stderr tvalues pvalues\n",
      "Intercept      4.976  0.674    7.38  0.0000\n",
      "sex[T.female] -0.827  1.060   -0.78  0.4396\n",
      "\n",
      "n=47 p=2 Residual SD=3.567 R-squared=0.01\n"
     ]
    }
   ],
   "source": [
    "lmod_t = smf.ols(\n",
    "    \"income ~ sex\",\n",
    "    data=teengamb\n",
    ").fit()\n",
    "lmod_t.sumary()"
   ]
  },
  {
   "cell_type": "markdown",
   "metadata": {
    "id": "rmoBPh22yQTh"
   },
   "source": [
    "Though from the first glance they seem to be unrelated -- there is insufficient evidence for there being linear relationship </br>\n",
    "It seems like those are different sources; different contributing factors. </br> In other words, seems like it won't helps us to disprove"
   ]
  },
  {
   "cell_type": "code",
   "execution_count": 139,
   "metadata": {
    "colab": {
     "base_uri": "https://localhost:8080/"
    },
    "executionInfo": {
     "elapsed": 15,
     "status": "ok",
     "timestamp": 1660210269663,
     "user": {
      "displayName": "lev morozov",
      "userId": "08138582278897554642"
     },
     "user_tz": -180
    },
    "id": "KRfjohe1LHWs",
    "outputId": "5434710a-6693-4b43-8f11-0b012f70ac73"
   },
   "outputs": [
    {
     "name": "stdout",
     "output_type": "stream",
     "text": [
      "                coefs stderr tvalues pvalues\n",
      "Intercept       4.041  6.394    0.63  0.5307\n",
      "sex[T.female] -21.634  6.809   -3.18  0.0027\n",
      "income          5.172  0.951    5.44  0.0000\n",
      "\n",
      "n=47 p=3 Residual SD=22.754 R-squared=0.50\n"
     ]
    }
   ],
   "source": [
    "lmod = smf.ols(\n",
    "    \"gamble ~ income + sex\",\n",
    "    data=teengamb\n",
    ").fit()\n",
    "lmod.sumary()"
   ]
  },
  {
   "cell_type": "code",
   "execution_count": 151,
   "metadata": {
    "colab": {
     "base_uri": "https://localhost:8080/",
     "height": 500
    },
    "executionInfo": {
     "elapsed": 843,
     "status": "ok",
     "timestamp": 1660210270493,
     "user": {
      "displayName": "lev morozov",
      "userId": "08138582278897554642"
     },
     "user_tz": -180
    },
    "id": "uGs4vks7CvdP",
    "outputId": "3314b1dd-02c0-467d-8204-7ad71630cee0"
   },
   "outputs": [
    {
     "data": {
      "image/png": "[encoded data removed]",
      "text/plain": [
       "<Figure size 432x288 with 1 Axes>"
      ]
     },
     "metadata": {
      "needs_background": "light"
     },
     "output_type": "display_data"
    }
   ],
   "source": [
    "jointF , ax = plt.subplots(1, 1)\n",
    "\n",
    "teengamb_m = teengamb[teengamb[\"sex\"] == \"male\"]\n",
    "teengamb_f = teengamb[teengamb[\"sex\"] == \"female\"]\n",
    "\n",
    "ax.scatter(teengamb_m[\"income\"], teengamb_m[\"gamble\"], marker=\"o\")\n",
    "ax.scatter(teengamb_f[\"income\"], teengamb_f[\"gamble\"], marker=\"^\")\n",
    "\n",
    "for teengamb_p in [teengamb_m, teengamb_f]:\n",
    "  xrange = [\n",
    "      teengamb_p[\"income\"].min(), \n",
    "      teengamb_p[\"income\"].max(), \n",
    "      teengamb_p[\"income\"].iloc[1]\n",
    "      ]\n",
    "  x = pd.DataFrame(\n",
    "      [\n",
    "        teengamb_p.iloc[teengamb_p[\"income\"].argmin(), :],\n",
    "        teengamb_p.iloc[teengamb_p[\"income\"].argmax(), :],\n",
    "        teengamb_p.iloc[1, :],\n",
    "      ]\n",
    "  )\n",
    "  yrange = lmod.predict(x)\n",
    "  ax.plot(\n",
    "    xrange,\n",
    "    yrange\n",
    "  )"
   ]
  },
  {
   "cell_type": "code",
   "execution_count": 141,
   "metadata": {
    "colab": {
     "base_uri": "https://localhost:8080/",
     "height": 112
    },
    "executionInfo": {
     "elapsed": 10,
     "status": "ok",
     "timestamp": 1660210270494,
     "user": {
      "displayName": "lev morozov",
      "userId": "08138582278897554642"
     },
     "user_tz": -180
    },
    "id": "O7yym12aM85n",
    "outputId": "3209d477-b863-4e89-95d9-76db9c6052a1"
   },
   "outputs": [
    {
     "data": {
      "text/html": [
       "<div>\n",
       "<style scoped>\n",
       "    .dataframe tbody tr th:only-of-type {\n",
       "        vertical-align: middle;\n",
       "    }\n",
       "\n",
       "    .dataframe tbody tr th {\n",
       "        vertical-align: top;\n",
       "    }\n",
       "\n",
       "    .dataframe thead th {\n",
       "        text-align: right;\n",
       "    }\n",
       "</style>\n",
       "<table border=\"1\" class=\"dataframe\">\n",
       "  <thead>\n",
       "    <tr style=\"text-align: right;\">\n",
       "      <th></th>\n",
       "      <th>sex</th>\n",
       "      <th>status</th>\n",
       "      <th>income</th>\n",
       "      <th>verbal</th>\n",
       "      <th>gamble</th>\n",
       "    </tr>\n",
       "  </thead>\n",
       "  <tbody>\n",
       "    <tr>\n",
       "      <th>28</th>\n",
       "      <td>male</td>\n",
       "      <td>51</td>\n",
       "      <td>0.6</td>\n",
       "      <td>7</td>\n",
       "      <td>0.6</td>\n",
       "    </tr>\n",
       "    <tr>\n",
       "      <th>32</th>\n",
       "      <td>male</td>\n",
       "      <td>38</td>\n",
       "      <td>15.0</td>\n",
       "      <td>7</td>\n",
       "      <td>90.0</td>\n",
       "    </tr>\n",
       "  </tbody>\n",
       "</table>\n",
       "</div>"
      ],
      "text/plain": [
       "     sex  status  income  verbal  gamble\n",
       "28  male      51     0.6       7     0.6\n",
       "32  male      38    15.0       7    90.0"
      ]
     },
     "execution_count": 141,
     "metadata": {},
     "output_type": "execute_result"
    }
   ],
   "source": [
    "pd.DataFrame(\n",
    "    [teengamb.iloc[teengamb[\"income\"].argmin(), :],\n",
    "      teengamb.iloc[teengamb[\"income\"].argmax(), :]]\n",
    ")"
   ]
  },
  {
   "cell_type": "code",
   "execution_count": 142,
   "metadata": {
    "colab": {
     "base_uri": "https://localhost:8080/"
    },
    "executionInfo": {
     "elapsed": 419,
     "status": "ok",
     "timestamp": 1660211520168,
     "user": {
      "displayName": "lev morozov",
      "userId": "08138582278897554642"
     },
     "user_tz": -180
    },
    "id": "UDXNgi7LfBjb",
    "outputId": "003d66af-fc3d-4839-aa98-09edc6f13e92"
   },
   "outputs": [
    {
     "data": {
      "text/plain": [
       "array([[ 0, 33],\n",
       "       [ 1, 21],\n",
       "       [ 2, 40],\n",
       "       [ 3, 31],\n",
       "       [ 6, 29],\n",
       "       [10, 20],\n",
       "       [14, 42],\n",
       "       [15, 25],\n",
       "       [17, 23]])"
      ]
     },
     "execution_count": 142,
     "metadata": {},
     "output_type": "execute_result"
    }
   ],
   "source": [
    "income_f = teengamb_f[\"income\"]\n",
    "income_m = teengamb_m[\"income\"]\n",
    "n = len(income_f)\n",
    "\n",
    "income_pairs = np.full((n, 2) ,-1)\n",
    "\n",
    "for i in range(n):\n",
    "  dist = abs(income_f.iloc[i] - income_m)\n",
    "  if(dist.min() < 0.001):\n",
    "    imin = dist.idxmin()\n",
    "    income_pairs[i, :] = [income_f.index[i], imin]\n",
    "    income_m = income_m.drop(index = imin)\n",
    "\n",
    "income_pairs = income_pairs[income_pairs[: ,0] > -1, :]\n",
    "income_pairs"
   ]
  },
  {
   "cell_type": "code",
   "execution_count": 143,
   "metadata": {
    "colab": {
     "base_uri": "https://localhost:8080/"
    },
    "executionInfo": {
     "elapsed": 8,
     "status": "ok",
     "timestamp": 1660213761122,
     "user": {
      "displayName": "lev morozov",
      "userId": "08138582278897554642"
     },
     "user_tz": -180
    },
    "id": "oVGi8H5rg3_z",
    "outputId": "a2f96cac-95b1-47c0-e1bc-92a1d235896d"
   },
   "outputs": [
    {
     "data": {
      "text/plain": [
       "19"
      ]
     },
     "execution_count": 143,
     "metadata": {},
     "output_type": "execute_result"
    }
   ],
   "source": [
    "not_matched_m = np.setdiff1d(teengamb_m.index, income_pairs[:, 1])\n",
    "not_matched_m.shape[0]"
   ]
  },
  {
   "cell_type": "markdown",
   "metadata": {
    "id": "YSG1yXkU3oEw"
   },
   "source": []
  },
  {
   "cell_type": "code",
   "execution_count": 164,
   "metadata": {
    "colab": {
     "base_uri": "https://localhost:8080/",
     "height": 604
    },
    "executionInfo": {
     "elapsed": 1172,
     "status": "ok",
     "timestamp": 1660212697835,
     "user": {
      "displayName": "lev morozov",
      "userId": "08138582278897554642"
     },
     "user_tz": -180
    },
    "id": "C1zljGIzhO1c",
    "outputId": "82153505-e667-421a-948a-0105f64e3dfc"
   },
   "outputs": [
    {
     "name": "stdout",
     "output_type": "stream",
     "text": [
      "                coefs stderr tvalues pvalues\n",
      "Intercept       4.041  6.394    0.63  0.5307\n",
      "sex[T.female] -21.634  6.809   -3.18  0.0027\n",
      "income          5.172  0.951    5.44  0.0000\n",
      "\n",
      "n=47 p=3 Residual SD=22.754 R-squared=0.50\n"
     ]
    },
    {
     "data": {
      "text/plain": [
       "<matplotlib.legend.Legend at 0x7fdf6a7c3f10>"
      ]
     },
     "execution_count": 164,
     "metadata": {},
     "output_type": "execute_result"
    },
    {
     "data": {
      "image/png": "[encoded data removed]",
      "text/plain": [
       "<Figure size 1080x360 with 1 Axes>"
      ]
     },
     "metadata": {
      "needs_background": "light"
     },
     "output_type": "display_data"
    }
   ],
   "source": [
    "jointF , ax = plt.subplots(1, 1, figsize=(15, 5))\n",
    "\n",
    "teengamb_m = teengamb[teengamb[\"sex\"] == \"male\"]\n",
    "teengamb_f = teengamb[teengamb[\"sex\"] == \"female\"]\n",
    "\n",
    "ax.scatter(teengamb_m[\"income\"], teengamb_m[\"gamble\"], marker=\"o\", label=\"male\")\n",
    "ax.scatter(teengamb_f[\"income\"], teengamb_f[\"gamble\"], marker=\"^\", label=\"female\")\n",
    "\n",
    "lmod_sex = smf.ols(\n",
    "    \"gamble ~ sex\",\n",
    "    data=teengamb\n",
    ").fit()\n",
    "\n",
    "lmod_adj = smf.ols(\n",
    "    \"gamble ~ sex + income\",\n",
    "    data=teengamb\n",
    ").fit()\n",
    "\n",
    "income_range = [0, 16]\n",
    "x0 = pd.DataFrame({\"sex\": (\"female\", \"female\"), \"income\": income_range})\n",
    "x1 = pd.DataFrame({\"sex\": (\"male\", \"male\"), \"income\": income_range})\n",
    "                   \n",
    "\n",
    "ax.plot(income_range, lmod_sex.predict(x0), label=\"gamble ~ sex prediction for a female\")\n",
    "ax.plot(income_range, lmod_sex.predict(x1), linestyle=\"dashed\", label=\"gamble~sex prediction for a male\")\n",
    "\n",
    "ax.plot(income_range, lmod_adj.predict(x0), label=\"gamble~sex+income: adjusted for female\")\n",
    "ax.plot(income_range, lmod_adj.predict(x1), linestyle=\"dashed\", label=\"gamble~sex+income: adjusted for male\")\n",
    "\n",
    "for i_f, i_m in income_pairs:\n",
    "  line = ax.plot(\n",
    "      [\n",
    "          teengamb_f[\"income\"][teengamb_f.index == i_f],\n",
    "          teengamb_m[\"income\"][teengamb_m.index == i_m],\n",
    "       ],\n",
    "      [\n",
    "          teengamb_f[\"gamble\"][teengamb_f.index == i_f],\n",
    "          teengamb_m[\"gamble\"][teengamb_m.index == i_m],\n",
    "       ],\n",
    "      ls='--', color=\"r\"\n",
    "  )[0]\n",
    "lmod_adj.sumary()\n",
    "line.set_label(\"matched pairs\")\n",
    "ax.legend()"
   ]
  },
  {
   "cell_type": "markdown",
   "metadata": {
    "id": "zXJuqe4yP2gJ"
   },
   "source": [
    "The question now is whether the difference in gambling between two groups statistically significant."
   ]
  },
  {
   "cell_type": "code",
   "execution_count": 145,
   "metadata": {
    "colab": {
     "base_uri": "https://localhost:8080/"
    },
    "executionInfo": {
     "elapsed": 260,
     "status": "ok",
     "timestamp": 1660211527123,
     "user": {
      "displayName": "lev morozov",
      "userId": "08138582278897554642"
     },
     "user_tz": -180
    },
    "id": "T9ZtxfLHP_AS",
    "outputId": "52ebafcd-48fb-4aa3-e520-d21e7208d65e"
   },
   "outputs": [
    {
     "data": {
      "text/plain": [
       "array([  -3.  ,   -1.2 ,   -6.9 ,  -45.9 ,   -8.15,   -0.9 ,  -10.9 ,\n",
       "          1.3 , -147.6 ])"
      ]
     },
     "execution_count": 145,
     "metadata": {},
     "output_type": "execute_result"
    }
   ],
   "source": [
    "gdiff = teengamb_f[\"gamble\"].loc[income_pairs[:, 0]].ravel() - teengamb_m[\"gamble\"].loc[income_pairs[:, 1]].ravel()\n",
    "gdiff"
   ]
  },
  {
   "cell_type": "code",
   "execution_count": 146,
   "metadata": {
    "colab": {
     "base_uri": "https://localhost:8080/"
    },
    "executionInfo": {
     "elapsed": 9,
     "status": "ok",
     "timestamp": 1660211583379,
     "user": {
      "displayName": "lev morozov",
      "userId": "08138582278897554642"
     },
     "user_tz": -180
    },
    "id": "tLUbTXVVS3N4",
    "outputId": "12dc1c18-5ae0-4ae8-a65b-d49576659e0d"
   },
   "outputs": [
    {
     "data": {
      "text/plain": [
       "Ttest_1sampResult(statistic=-1.5433085220152263, pvalue=0.16133164284619858)"
      ]
     },
     "execution_count": 146,
     "metadata": {},
     "output_type": "execute_result"
    }
   ],
   "source": [
    "sp.stats.ttest_1samp(gdiff, 0)"
   ]
  },
  {
   "cell_type": "markdown",
   "metadata": {
    "id": "_JdKCBoJTQVX"
   },
   "source": [
    "Is it reasonable to assume t-test is appropriate? That is, is gambling approximately normally distributed in each group? I rather doubt that."
   ]
  },
  {
   "cell_type": "markdown",
   "metadata": {
    "id": "V-qLGtBMU0TY"
   },
   "source": [
    "But there is a much bigger problem: does this result really disprove the casual relationship? I mean, you've just matched some pairs from the dataset together and compared their mean. You certainly haven't considered all the data available. Moreover, if you increese the matching treshold, you'll no longer have such a result."
   ]
  },
  {
   "cell_type": "code",
   "execution_count": 147,
   "metadata": {
    "colab": {
     "base_uri": "https://localhost:8080/",
     "height": 534
    },
    "executionInfo": {
     "elapsed": 788,
     "status": "ok",
     "timestamp": 1660214126160,
     "user": {
      "displayName": "lev morozov",
      "userId": "08138582278897554642"
     },
     "user_tz": -180
    },
    "id": "K99_dl85dD2g",
    "outputId": "fd27ceca-11c7-4b79-9719-75d02c598852"
   },
   "outputs": [
    {
     "data": {
      "text/plain": [
       "<AxesSubplot:xlabel='income'>"
      ]
     },
     "execution_count": 147,
     "metadata": {},
     "output_type": "execute_result"
    },
    {
     "data": {
      "image/png": "[encoded data removed]",
      "text/plain": [
       "<Figure size 432x288 with 1 Axes>"
      ]
     },
     "metadata": {
      "needs_background": "light"
     },
     "output_type": "display_data"
    }
   ],
   "source": [
    "sns.scatterplot(x=teengamb_f[\"income\"].loc[income_pairs[:, 0]], y=gdiff)"
   ]
  },
  {
   "cell_type": "markdown",
   "metadata": {
    "id": "-WivXjZXenPw"
   },
   "source": [
    "Proportion of gambling females:"
   ]
  },
  {
   "cell_type": "code",
   "execution_count": 148,
   "metadata": {
    "colab": {
     "base_uri": "https://localhost:8080/"
    },
    "executionInfo": {
     "elapsed": 369,
     "status": "ok",
     "timestamp": 1660214304948,
     "user": {
      "displayName": "lev morozov",
      "userId": "08138582278897554642"
     },
     "user_tz": -180
    },
    "id": "pjvYNkC0enDq",
    "outputId": "42968380-7b0b-434e-9026-7e47b463c6ca"
   },
   "outputs": [
    {
     "data": {
      "text/plain": [
       "0.1111111111111111"
      ]
     },
     "execution_count": 148,
     "metadata": {},
     "output_type": "execute_result"
    }
   ],
   "source": [
    "p = 0\n",
    "for i_f, i_m in income_pairs:\n",
    "  if teengamb_f[\"gamble\"].loc[i_f] > teengamb_m[\"gamble\"].loc[i_m]:\n",
    "    p += 1\n",
    "p /= income_pairs.shape[0]\n",
    "p"
   ]
  },
  {
   "cell_type": "code",
   "execution_count": null,
   "metadata": {
    "id": "LdB65yTITQCq"
   },
   "outputs": [],
   "source": []
  },
  {
   "cell_type": "code",
   "execution_count": null,
   "metadata": {
    "id": "q9VUmKEyQN21"
   },
   "outputs": [],
   "source": []
  }
 ],
 "metadata": {
  "colab": {
   "collapsed_sections": [],
   "name": "RA_teengamb.ipynb",
   "provenance": []
  },
  "kernelspec": {
   "display_name": "Python 3 (ipykernel)",
   "language": "python",
   "name": "python3"
  },
  "language_info": {
   "codemirror_mode": {
    "name": "ipython",
    "version": 3
   },
   "file_extension": ".py",
   "mimetype": "text/x-python",
   "name": "python",
   "nbconvert_exporter": "python",
   "pygments_lexer": "ipython3",
   "version": "3.10.4"
  }
 },
 "nbformat": 4,
 "nbformat_minor": 1
}
